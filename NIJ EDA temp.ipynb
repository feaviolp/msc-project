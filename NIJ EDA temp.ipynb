{
  "cells": [
    {
      "cell_type": "markdown",
      "metadata": {
        "id": "view-in-github",
        "colab_type": "text"
      },
      "source": [
        "<a href=\"https://colab.research.google.com/github/feaviolp/msc-project/blob/main/NIJ%20EDA.ipynb\" target=\"_parent\"><img src=\"https://colab.research.google.com/assets/colab-badge.svg\" alt=\"Open In Colab\"/></a>"
      ]
    },
    {
      "cell_type": "markdown",
      "metadata": {
        "_uuid": "180b0071b029d87539564d7d5dc9196a03965380",
        "id": "cztbdiLN2Xxp"
      },
      "source": [
        "# Exploratory Data Analysis on AB_NYC_2019 dataset"
      ]
    },
    {
      "cell_type": "markdown",
      "metadata": {
        "id": "T3w10eGZ2Xxr"
      },
      "source": [
        "## This notebook consists of several sections:\n",
        "\n",
        "### - Data preprocessing\n",
        "### - Exploratory Data Analysis, including modifications, correlation analysis, and visualisations\n",
        "### - Clustering:\n",
        "    - K Prototype\n",
        "    - K Means\n",
        "    - DBSCAN\n",
        "### - Linear Regression"
      ]
    },
    {
      "cell_type": "markdown",
      "metadata": {
        "_uuid": "7414eb7c900e2d4546a4b3d108ce11fddee44e57",
        "id": "OeqkSwE12Xxs"
      },
      "source": [
        "## Import Libraries"
      ]
    },
    {
      "cell_type": "code",
      "execution_count": 16,
      "metadata": {
        "scrolled": true,
        "id": "UziMfCHT2Xxs",
        "outputId": "26afa241-4e51-4fd8-bb9d-c460f2261b10",
        "colab": {
          "base_uri": "https://localhost:8080/"
        }
      },
      "outputs": [
        {
          "output_type": "stream",
          "name": "stdout",
          "text": [
            "Requirement already satisfied: kmodes in /usr/local/lib/python3.10/dist-packages (0.12.2)\n",
            "Requirement already satisfied: numpy>=1.10.4 in /usr/local/lib/python3.10/dist-packages (from kmodes) (1.25.2)\n",
            "Requirement already satisfied: scikit-learn>=0.22.0 in /usr/local/lib/python3.10/dist-packages (from kmodes) (1.2.2)\n",
            "Requirement already satisfied: scipy>=0.13.3 in /usr/local/lib/python3.10/dist-packages (from kmodes) (1.11.4)\n",
            "Requirement already satisfied: joblib>=0.11 in /usr/local/lib/python3.10/dist-packages (from kmodes) (1.4.2)\n",
            "Requirement already satisfied: threadpoolctl>=2.0.0 in /usr/local/lib/python3.10/dist-packages (from scikit-learn>=0.22.0->kmodes) (3.5.0)\n"
          ]
        }
      ],
      "source": [
        "%pip install kmodes"
      ]
    },
    {
      "cell_type": "code",
      "execution_count": null,
      "metadata": {
        "_cell_guid": "a9e1c407-125d-4a92-a5d8-93d383b5fca0",
        "_kg_hide-input": true,
        "_uuid": "46972c9825af86d41d2eedbbab57ea95956f05ba",
        "id": "IGGNrfRk2Xxt"
      },
      "outputs": [],
      "source": [
        "import pandas as pd\n",
        "import numpy as np\n",
        "import matplotlib.pyplot as plt\n",
        "import matplotlib.image as mpimg\n",
        "import seaborn as sns\n",
        "import scipy.stats as st\n",
        "from sklearn import linear_model\n",
        "from sklearn.cluster import KMeans\n",
        "from sklearn.cluster import DBSCAN\n",
        "from sklearn.metrics import r2_score\n",
        "from sklearn.metrics import silhouette_score\n",
        "from kmodes.kprototypes import KPrototypes\n",
        "from sklearn.neighbors import NearestNeighbors\n",
        "from sklearn.preprocessing import LabelEncoder, StandardScaler\n",
        "import warnings\n",
        "# ignore future deprecation\n",
        "warnings.filterwarnings('ignore')"
      ]
    },
    {
      "cell_type": "markdown",
      "metadata": {
        "_uuid": "73e8b7366d53b79de9299b0704d97812c91edb77",
        "id": "kfev55mF2Xxt"
      },
      "source": [
        "Read the AB_NYC_2019.csv file"
      ]
    },
    {
      "cell_type": "code",
      "execution_count": null,
      "metadata": {
        "_cell_guid": "fdef65e6-1a5f-414d-86be-4f1c26019efa",
        "_kg_hide-input": true,
        "_uuid": "a4e8a61875e410af47250d576791e4247a4e29ba",
        "id": "WxjVemO02Xxt",
        "outputId": "7e395943-d14e-463e-e69f-daddf9fd2155",
        "colab": {
          "base_uri": "https://localhost:8080/",
          "height": 287
        }
      },
      "outputs": [
        {
          "output_type": "error",
          "ename": "FileNotFoundError",
          "evalue": "[Errno 2] No such file or directory: 'AB_NYC_2019.csv'",
          "traceback": [
            "\u001b[0;31m---------------------------------------------------------------------------\u001b[0m",
            "\u001b[0;31mFileNotFoundError\u001b[0m                         Traceback (most recent call last)",
            "\u001b[0;32m<ipython-input-3-a0f8a10db9a9>\u001b[0m in \u001b[0;36m<cell line: 1>\u001b[0;34m()\u001b[0m\n\u001b[0;32m----> 1\u001b[0;31m \u001b[0mairbnb\u001b[0m \u001b[0;34m=\u001b[0m \u001b[0mpd\u001b[0m\u001b[0;34m.\u001b[0m\u001b[0mread_csv\u001b[0m\u001b[0;34m(\u001b[0m\u001b[0;34m\"AB_NYC_2019.csv\"\u001b[0m\u001b[0;34m)\u001b[0m\u001b[0;34m\u001b[0m\u001b[0;34m\u001b[0m\u001b[0m\n\u001b[0m",
            "\u001b[0;32m/usr/local/lib/python3.10/dist-packages/pandas/io/parsers/readers.py\u001b[0m in \u001b[0;36mread_csv\u001b[0;34m(filepath_or_buffer, sep, delimiter, header, names, index_col, usecols, dtype, engine, converters, true_values, false_values, skipinitialspace, skiprows, skipfooter, nrows, na_values, keep_default_na, na_filter, verbose, skip_blank_lines, parse_dates, infer_datetime_format, keep_date_col, date_parser, date_format, dayfirst, cache_dates, iterator, chunksize, compression, thousands, decimal, lineterminator, quotechar, quoting, doublequote, escapechar, comment, encoding, encoding_errors, dialect, on_bad_lines, delim_whitespace, low_memory, memory_map, float_precision, storage_options, dtype_backend)\u001b[0m\n\u001b[1;32m    910\u001b[0m     \u001b[0mkwds\u001b[0m\u001b[0;34m.\u001b[0m\u001b[0mupdate\u001b[0m\u001b[0;34m(\u001b[0m\u001b[0mkwds_defaults\u001b[0m\u001b[0;34m)\u001b[0m\u001b[0;34m\u001b[0m\u001b[0;34m\u001b[0m\u001b[0m\n\u001b[1;32m    911\u001b[0m \u001b[0;34m\u001b[0m\u001b[0m\n\u001b[0;32m--> 912\u001b[0;31m     \u001b[0;32mreturn\u001b[0m \u001b[0m_read\u001b[0m\u001b[0;34m(\u001b[0m\u001b[0mfilepath_or_buffer\u001b[0m\u001b[0;34m,\u001b[0m \u001b[0mkwds\u001b[0m\u001b[0;34m)\u001b[0m\u001b[0;34m\u001b[0m\u001b[0;34m\u001b[0m\u001b[0m\n\u001b[0m\u001b[1;32m    913\u001b[0m \u001b[0;34m\u001b[0m\u001b[0m\n\u001b[1;32m    914\u001b[0m \u001b[0;34m\u001b[0m\u001b[0m\n",
            "\u001b[0;32m/usr/local/lib/python3.10/dist-packages/pandas/io/parsers/readers.py\u001b[0m in \u001b[0;36m_read\u001b[0;34m(filepath_or_buffer, kwds)\u001b[0m\n\u001b[1;32m    575\u001b[0m \u001b[0;34m\u001b[0m\u001b[0m\n\u001b[1;32m    576\u001b[0m     \u001b[0;31m# Create the parser.\u001b[0m\u001b[0;34m\u001b[0m\u001b[0;34m\u001b[0m\u001b[0m\n\u001b[0;32m--> 577\u001b[0;31m     \u001b[0mparser\u001b[0m \u001b[0;34m=\u001b[0m \u001b[0mTextFileReader\u001b[0m\u001b[0;34m(\u001b[0m\u001b[0mfilepath_or_buffer\u001b[0m\u001b[0;34m,\u001b[0m \u001b[0;34m**\u001b[0m\u001b[0mkwds\u001b[0m\u001b[0;34m)\u001b[0m\u001b[0;34m\u001b[0m\u001b[0;34m\u001b[0m\u001b[0m\n\u001b[0m\u001b[1;32m    578\u001b[0m \u001b[0;34m\u001b[0m\u001b[0m\n\u001b[1;32m    579\u001b[0m     \u001b[0;32mif\u001b[0m \u001b[0mchunksize\u001b[0m \u001b[0;32mor\u001b[0m \u001b[0miterator\u001b[0m\u001b[0;34m:\u001b[0m\u001b[0;34m\u001b[0m\u001b[0;34m\u001b[0m\u001b[0m\n",
            "\u001b[0;32m/usr/local/lib/python3.10/dist-packages/pandas/io/parsers/readers.py\u001b[0m in \u001b[0;36m__init__\u001b[0;34m(self, f, engine, **kwds)\u001b[0m\n\u001b[1;32m   1405\u001b[0m \u001b[0;34m\u001b[0m\u001b[0m\n\u001b[1;32m   1406\u001b[0m         \u001b[0mself\u001b[0m\u001b[0;34m.\u001b[0m\u001b[0mhandles\u001b[0m\u001b[0;34m:\u001b[0m \u001b[0mIOHandles\u001b[0m \u001b[0;34m|\u001b[0m \u001b[0;32mNone\u001b[0m \u001b[0;34m=\u001b[0m \u001b[0;32mNone\u001b[0m\u001b[0;34m\u001b[0m\u001b[0;34m\u001b[0m\u001b[0m\n\u001b[0;32m-> 1407\u001b[0;31m         \u001b[0mself\u001b[0m\u001b[0;34m.\u001b[0m\u001b[0m_engine\u001b[0m \u001b[0;34m=\u001b[0m \u001b[0mself\u001b[0m\u001b[0;34m.\u001b[0m\u001b[0m_make_engine\u001b[0m\u001b[0;34m(\u001b[0m\u001b[0mf\u001b[0m\u001b[0;34m,\u001b[0m \u001b[0mself\u001b[0m\u001b[0;34m.\u001b[0m\u001b[0mengine\u001b[0m\u001b[0;34m)\u001b[0m\u001b[0;34m\u001b[0m\u001b[0;34m\u001b[0m\u001b[0m\n\u001b[0m\u001b[1;32m   1408\u001b[0m \u001b[0;34m\u001b[0m\u001b[0m\n\u001b[1;32m   1409\u001b[0m     \u001b[0;32mdef\u001b[0m \u001b[0mclose\u001b[0m\u001b[0;34m(\u001b[0m\u001b[0mself\u001b[0m\u001b[0;34m)\u001b[0m \u001b[0;34m->\u001b[0m \u001b[0;32mNone\u001b[0m\u001b[0;34m:\u001b[0m\u001b[0;34m\u001b[0m\u001b[0;34m\u001b[0m\u001b[0m\n",
            "\u001b[0;32m/usr/local/lib/python3.10/dist-packages/pandas/io/parsers/readers.py\u001b[0m in \u001b[0;36m_make_engine\u001b[0;34m(self, f, engine)\u001b[0m\n\u001b[1;32m   1659\u001b[0m                 \u001b[0;32mif\u001b[0m \u001b[0;34m\"b\"\u001b[0m \u001b[0;32mnot\u001b[0m \u001b[0;32min\u001b[0m \u001b[0mmode\u001b[0m\u001b[0;34m:\u001b[0m\u001b[0;34m\u001b[0m\u001b[0;34m\u001b[0m\u001b[0m\n\u001b[1;32m   1660\u001b[0m                     \u001b[0mmode\u001b[0m \u001b[0;34m+=\u001b[0m \u001b[0;34m\"b\"\u001b[0m\u001b[0;34m\u001b[0m\u001b[0;34m\u001b[0m\u001b[0m\n\u001b[0;32m-> 1661\u001b[0;31m             self.handles = get_handle(\n\u001b[0m\u001b[1;32m   1662\u001b[0m                 \u001b[0mf\u001b[0m\u001b[0;34m,\u001b[0m\u001b[0;34m\u001b[0m\u001b[0;34m\u001b[0m\u001b[0m\n\u001b[1;32m   1663\u001b[0m                 \u001b[0mmode\u001b[0m\u001b[0;34m,\u001b[0m\u001b[0;34m\u001b[0m\u001b[0;34m\u001b[0m\u001b[0m\n",
            "\u001b[0;32m/usr/local/lib/python3.10/dist-packages/pandas/io/common.py\u001b[0m in \u001b[0;36mget_handle\u001b[0;34m(path_or_buf, mode, encoding, compression, memory_map, is_text, errors, storage_options)\u001b[0m\n\u001b[1;32m    857\u001b[0m         \u001b[0;32mif\u001b[0m \u001b[0mioargs\u001b[0m\u001b[0;34m.\u001b[0m\u001b[0mencoding\u001b[0m \u001b[0;32mand\u001b[0m \u001b[0;34m\"b\"\u001b[0m \u001b[0;32mnot\u001b[0m \u001b[0;32min\u001b[0m \u001b[0mioargs\u001b[0m\u001b[0;34m.\u001b[0m\u001b[0mmode\u001b[0m\u001b[0;34m:\u001b[0m\u001b[0;34m\u001b[0m\u001b[0;34m\u001b[0m\u001b[0m\n\u001b[1;32m    858\u001b[0m             \u001b[0;31m# Encoding\u001b[0m\u001b[0;34m\u001b[0m\u001b[0;34m\u001b[0m\u001b[0m\n\u001b[0;32m--> 859\u001b[0;31m             handle = open(\n\u001b[0m\u001b[1;32m    860\u001b[0m                 \u001b[0mhandle\u001b[0m\u001b[0;34m,\u001b[0m\u001b[0;34m\u001b[0m\u001b[0;34m\u001b[0m\u001b[0m\n\u001b[1;32m    861\u001b[0m                 \u001b[0mioargs\u001b[0m\u001b[0;34m.\u001b[0m\u001b[0mmode\u001b[0m\u001b[0;34m,\u001b[0m\u001b[0;34m\u001b[0m\u001b[0;34m\u001b[0m\u001b[0m\n",
            "\u001b[0;31mFileNotFoundError\u001b[0m: [Errno 2] No such file or directory: 'AB_NYC_2019.csv'"
          ]
        }
      ],
      "source": [
        "airbnb = pd.read_csv(\"AB_NYC_2019.csv\")"
      ]
    },
    {
      "cell_type": "markdown",
      "metadata": {
        "id": "MSYtwAfh2Xxu"
      },
      "source": [
        "## Data Preprocessing"
      ]
    },
    {
      "cell_type": "markdown",
      "metadata": {
        "id": "Y0hNyehf2Xxu"
      },
      "source": [
        "Take a look at the dataset."
      ]
    },
    {
      "cell_type": "code",
      "execution_count": null,
      "metadata": {
        "id": "jP7_zodA2Xxu"
      },
      "outputs": [],
      "source": [
        "airbnb.info()"
      ]
    },
    {
      "cell_type": "markdown",
      "metadata": {
        "id": "6b9dqSNO2Xxu"
      },
      "source": [
        "The dataset has 48,895 rows and 16 columns.\n",
        "\n",
        "We can see that some of the columns have missing values since they have less than 48,895 entries."
      ]
    },
    {
      "cell_type": "markdown",
      "metadata": {
        "_uuid": "26c407890e7e155f7d4f6852c9a2138e7de7d101",
        "id": "2vpion1F2Xxv"
      },
      "source": [
        "Describe the dataset"
      ]
    },
    {
      "cell_type": "code",
      "execution_count": null,
      "metadata": {
        "_kg_hide-input": true,
        "_uuid": "18f9780ebca993edf98313d743e5ac91a093a7fe",
        "scrolled": true,
        "id": "J9WYG8JZ2Xxv"
      },
      "outputs": [],
      "source": [
        "airbnb.describe()"
      ]
    },
    {
      "cell_type": "markdown",
      "metadata": {
        "_uuid": "f7acab16176a0cd1711a98d3762fd363513de1a7",
        "id": "LNDwKLrQ2Xxv"
      },
      "source": [
        "Look at the top and bottom 5 rows of data and look at the shape of the data frame (number of rows and columns)"
      ]
    },
    {
      "cell_type": "code",
      "execution_count": null,
      "metadata": {
        "id": "U4cppXTm2Xxv"
      },
      "outputs": [],
      "source": [
        "airbnb"
      ]
    },
    {
      "cell_type": "code",
      "execution_count": null,
      "metadata": {
        "_cell_guid": "60adf879-2079-4232-95e5-c57d7d6873e9",
        "_kg_hide-input": true,
        "_uuid": "34b223303c843ef1c078858f1ec9ad88c4a71da0",
        "scrolled": true,
        "id": "0nnvts9r2Xxv"
      },
      "outputs": [],
      "source": [
        "airbnb.shape"
      ]
    },
    {
      "cell_type": "markdown",
      "metadata": {
        "id": "6mM2zY3F2Xxw"
      },
      "source": [
        "checks for duplicates in dataframe"
      ]
    },
    {
      "cell_type": "code",
      "execution_count": null,
      "metadata": {
        "id": "u-9gzS0j2Xxw"
      },
      "outputs": [],
      "source": [
        "airbnb.duplicated().sum()"
      ]
    },
    {
      "cell_type": "markdown",
      "metadata": {
        "id": "KhPdZzgJ2Xxw"
      },
      "source": [
        "Show the number of missing values per variable"
      ]
    },
    {
      "cell_type": "code",
      "execution_count": null,
      "metadata": {
        "id": "6fEpcjyM2Xxw"
      },
      "outputs": [],
      "source": [
        "airbnb.isna().sum()"
      ]
    },
    {
      "cell_type": "markdown",
      "metadata": {
        "id": "_yDQs2An2Xxw"
      },
      "source": [
        "There are a lot of missing variables, especially last_review and reviews_per_month.\n",
        "\n",
        "Replace null values with appropriate values:\n",
        "- name is categorical so will simply be replaced with \"Replaced name\"\n",
        "- host_name is categorical so will simply be replaced with \"Replaced host name\"\n",
        "- last_review is date so will be replaced with 0 (0 is not ideal for dates but we won't be using this variable, null value is replaced to avoid any errors)\n",
        "- review_per_month is a continuous variable so will be replaced with 0"
      ]
    },
    {
      "cell_type": "code",
      "execution_count": null,
      "metadata": {
        "id": "rZ7DxvUN2Xxw"
      },
      "outputs": [],
      "source": [
        "airbnb['name'].fillna('Replaced name', inplace=True)\n",
        "airbnb['host_name'].fillna('Replaced host name', inplace=True)\n",
        "airbnb['last_review'].fillna(0, inplace=True)\n",
        "airbnb['reviews_per_month'].fillna(0, inplace=True)"
      ]
    },
    {
      "cell_type": "markdown",
      "metadata": {
        "id": "7apocY7U2Xxx"
      },
      "source": [
        "Now re-check to make sure there are no missing values"
      ]
    },
    {
      "cell_type": "code",
      "execution_count": null,
      "metadata": {
        "scrolled": true,
        "id": "HTgP1GhF2Xxx"
      },
      "outputs": [],
      "source": [
        "airbnb.isna().sum()"
      ]
    },
    {
      "cell_type": "raw",
      "metadata": {
        "id": "6hi_PVs92Xxx"
      },
      "source": [
        "Check for duplicates in the id (unique identifier) column"
      ]
    },
    {
      "cell_type": "code",
      "execution_count": null,
      "metadata": {
        "id": "ripIWw7w2Xxx"
      },
      "outputs": [],
      "source": [
        "airbnb.id.duplicated().sum()"
      ]
    },
    {
      "cell_type": "markdown",
      "metadata": {
        "id": "pU3Md_7r2Xxx"
      },
      "source": [
        "Check the 5-figure summary for price and availability_365"
      ]
    },
    {
      "cell_type": "code",
      "execution_count": null,
      "metadata": {
        "id": "vf8F47ev2Xxx"
      },
      "outputs": [],
      "source": [
        "airbnb.price.describe()"
      ]
    },
    {
      "cell_type": "code",
      "execution_count": null,
      "metadata": {
        "id": "p1mOAw-52Xxy"
      },
      "outputs": [],
      "source": [
        "airbnb.availability_365.describe()"
      ]
    },
    {
      "cell_type": "markdown",
      "metadata": {
        "id": "j7pE3Imt2Xxy"
      },
      "source": [
        "Availability_365 is the number of days in the next year that the room is available to be booked, including days already booked, so a figure of zero means the room is currently not available.\n",
        "\n",
        "A 0 for price also suggests something not right with that listing.\n",
        "\n",
        "To tidy the data we therefore drop all rows with availability_365=0 or price=0"
      ]
    },
    {
      "cell_type": "code",
      "execution_count": null,
      "metadata": {
        "id": "GnMTFk-R2Xxy"
      },
      "outputs": [],
      "source": [
        "airbnb.drop(airbnb[airbnb.price == 0].index, inplace=True)\n",
        "airbnb.drop(airbnb[airbnb.availability_365 == 0].index, inplace=True)"
      ]
    },
    {
      "cell_type": "code",
      "execution_count": null,
      "metadata": {
        "id": "8S1e8IqD2Xxy"
      },
      "outputs": [],
      "source": [
        "airbnb.shape"
      ]
    },
    {
      "cell_type": "code",
      "execution_count": null,
      "metadata": {
        "id": "KczoEvMm2Xxz"
      },
      "outputs": [],
      "source": [
        "airbnb.price.describe()"
      ]
    },
    {
      "cell_type": "code",
      "execution_count": null,
      "metadata": {
        "id": "FmQfoT7E2Xxz"
      },
      "outputs": [],
      "source": [
        "airbnb.availability_365.describe()"
      ]
    },
    {
      "cell_type": "markdown",
      "metadata": {
        "id": "G-Wcw0sg2Xxz"
      },
      "source": [
        "We can see that 17,541 rows have been dropped and we no longer have any zero entries for price or availability_365."
      ]
    },
    {
      "cell_type": "markdown",
      "metadata": {
        "id": "QfCzmKND2Xxz"
      },
      "source": [
        "## Exploratory Data Analysis"
      ]
    },
    {
      "cell_type": "markdown",
      "metadata": {
        "_uuid": "cb45721d9c3774d4110fd9967fcbeaa1428c3814",
        "id": "E-9z_7Cf2Xxz"
      },
      "source": [
        "Examine numerical features in the dataset"
      ]
    },
    {
      "cell_type": "code",
      "execution_count": null,
      "metadata": {
        "_cell_guid": "647c4799-8797-4c36-8961-54c16bd50f50",
        "_kg_hide-input": true,
        "_uuid": "c98144abed702dee56ff5c1df6706721aef22751",
        "id": "LYUOwx1F2Xxz"
      },
      "outputs": [],
      "source": [
        "numeric_features = airbnb.select_dtypes(include=[np.number])\n",
        "numeric_features.columns"
      ]
    },
    {
      "cell_type": "markdown",
      "metadata": {
        "_uuid": "1e3a0fa9c8694320bc3825d72548a225181af3a5",
        "id": "-u7yVUjx2Xx0"
      },
      "source": [
        "Examine categorical features in the dataset"
      ]
    },
    {
      "cell_type": "code",
      "execution_count": null,
      "metadata": {
        "_cell_guid": "53d65b9c-96d0-427f-9e1f-4f31ff45f75c",
        "_kg_hide-input": true,
        "_uuid": "fb471042559958b213e44358c93dc64f768efd6c",
        "id": "s8elqF8v2Xx8"
      },
      "outputs": [],
      "source": [
        "categorical_features = airbnb.select_dtypes(include=[object])\n",
        "categorical_features.columns"
      ]
    },
    {
      "cell_type": "markdown",
      "metadata": {
        "id": "vpYMDEF62Xx8"
      },
      "source": [
        "Counting rows per categorical variable"
      ]
    },
    {
      "cell_type": "code",
      "execution_count": null,
      "metadata": {
        "id": "_PK9pU-x2Xx8"
      },
      "outputs": [],
      "source": [
        "airbnb.host_name.value_counts()"
      ]
    },
    {
      "cell_type": "code",
      "execution_count": null,
      "metadata": {
        "id": "UfzRKYlc2Xx9"
      },
      "outputs": [],
      "source": [
        "airbnb.name.value_counts()"
      ]
    },
    {
      "cell_type": "code",
      "execution_count": null,
      "metadata": {
        "id": "mHRDXcpW2Xx9"
      },
      "outputs": [],
      "source": [
        "airbnb.neighbourhood_group.value_counts()"
      ]
    },
    {
      "cell_type": "code",
      "execution_count": null,
      "metadata": {
        "id": "2x8NI0K42Xx9"
      },
      "outputs": [],
      "source": [
        "airbnb.neighbourhood.value_counts()"
      ]
    },
    {
      "cell_type": "code",
      "execution_count": null,
      "metadata": {
        "id": "AP-VjcGD2Xx9"
      },
      "outputs": [],
      "source": [
        "airbnb.room_type.value_counts()"
      ]
    },
    {
      "cell_type": "code",
      "execution_count": null,
      "metadata": {
        "id": "mrlmC80b2Xx9"
      },
      "outputs": [],
      "source": [
        "airbnb.last_review.value_counts()"
      ]
    },
    {
      "cell_type": "markdown",
      "metadata": {
        "_cell_guid": "bb694f91-f30c-4e92-9825-28c226a1f963",
        "_uuid": "13bb98d74f848c68a44ab727f73ffff7663e28d7",
        "id": "-OW2VHt82Xx-"
      },
      "source": [
        "Estimate Skewness and Kurtosis"
      ]
    },
    {
      "cell_type": "code",
      "execution_count": null,
      "metadata": {
        "_cell_guid": "f37fdf5a-c4a7-4f58-a30b-812ae16f2531",
        "_kg_hide-input": true,
        "_uuid": "6c23e14e1d3b7b497a4edab7fbd7ee99ae35ce28",
        "id": "H5_eQSjX2Xx-"
      },
      "outputs": [],
      "source": [
        "airbnb.skew()"
      ]
    },
    {
      "cell_type": "code",
      "execution_count": null,
      "metadata": {
        "id": "rkI0cah92Xx-"
      },
      "outputs": [],
      "source": [
        "airbnb.kurt()"
      ]
    },
    {
      "cell_type": "markdown",
      "metadata": {
        "id": "2UU5duy22Xx-"
      },
      "source": [
        "Now check to see if price is normaly distributed"
      ]
    },
    {
      "cell_type": "code",
      "execution_count": null,
      "metadata": {
        "id": "j5UYZj7S2Xx-"
      },
      "outputs": [],
      "source": [
        "y = airbnb['price']\n",
        "plt.figure(1); plt.title('Johnson SU')\n",
        "sns.distplot(y, kde=False, fit=st.johnsonsu)\n",
        "plt.figure(2); plt.title('Normal')\n",
        "sns.distplot(y, kde=False, fit=st.norm)\n",
        "plt.figure(3); plt.title('Log Normal')\n",
        "sns.distplot(y, kde=False, fit=st.lognorm)"
      ]
    },
    {
      "cell_type": "markdown",
      "metadata": {
        "id": "1wTJsxGK2Xx-"
      },
      "source": [
        "We can see that price is heavily skewed so we'll find the five-figure summary for price."
      ]
    },
    {
      "cell_type": "code",
      "execution_count": null,
      "metadata": {
        "scrolled": false,
        "id": "GFtpW2sU2Xx-"
      },
      "outputs": [],
      "source": [
        "airbnb.price.describe()"
      ]
    },
    {
      "cell_type": "markdown",
      "metadata": {
        "id": "-HEz1jtL2Xx_"
      },
      "source": [
        "The five figure summary shows the range is 10-10000 with Q3 being 189. So 75 percent of the properties fall between 10 and 189. Check the distribution of price for only properties equal to or below 189 (75 percent of the sample)"
      ]
    },
    {
      "cell_type": "code",
      "execution_count": null,
      "metadata": {
        "id": "yq3j_MRH2Xx_"
      },
      "outputs": [],
      "source": [
        "low_price = airbnb[airbnb['price'] <= 189]\n",
        "y = low_price['price']\n",
        "plt.figure(1); plt.title('Johnson SU')\n",
        "sns.distplot(y, kde=False, fit=st.johnsonsu)\n",
        "plt.figure(2); plt.title('Normal')\n",
        "sns.distplot(y, kde=False, fit=st.norm)\n",
        "plt.figure(3); plt.title('Log Normal')\n",
        "sns.distplot(y, kde=False, fit=st.lognorm)"
      ]
    },
    {
      "cell_type": "markdown",
      "metadata": {
        "id": "D0vBF38p2Xx_"
      },
      "source": [
        "There is still a lot of variation."
      ]
    },
    {
      "cell_type": "markdown",
      "metadata": {
        "id": "zLk8Ap_52Xx_"
      },
      "source": [
        "Let's try to make it better with a log transformation"
      ]
    },
    {
      "cell_type": "code",
      "execution_count": null,
      "metadata": {
        "id": "8mwxFOuQ2Xx_"
      },
      "outputs": [],
      "source": [
        "airbnb['log_price'] = np.log(airbnb['price'])"
      ]
    },
    {
      "cell_type": "markdown",
      "metadata": {
        "id": "UBZRD8p72Xx_"
      },
      "source": [
        "Visualise transformed log distribution"
      ]
    },
    {
      "cell_type": "code",
      "execution_count": null,
      "metadata": {
        "id": "wt_IeY8z2Xx_"
      },
      "outputs": [],
      "source": [
        "plt.hist(airbnb['log_price'], bins=30)\n",
        "plt.xlabel('Log Price')\n",
        "plt.ylabel('Frequency')\n",
        "plt.title('Distribution of Log Price')\n",
        "plt.show()"
      ]
    },
    {
      "cell_type": "markdown",
      "metadata": {
        "id": "Gz2Kj8uq2XyA"
      },
      "source": [
        "That's better - we can work with that."
      ]
    },
    {
      "cell_type": "markdown",
      "metadata": {
        "id": "MRKqBYJq2XyA"
      },
      "source": [
        "Price is the charge per night which isn't a particularly helpful figure for Airbnb on its own.\n",
        "\n",
        "We will therefore calculate the total revenue opportunity to Airbnb for each room if it were to be booked for every day that it is available. This is of course unlikely, but it is a useful comparrison as to the potential maximum revenue of each room. The commission for each room is 17% of the price charged, made-up of 3% host fee and 14% guest fee: https://www.airbnb.co.uk/resources/hosting-homes/a/how-much-does-airbnb-charge-hosts-288\n",
        "\n",
        "Revenue_opportunity = price * availability_365 * 0.17"
      ]
    },
    {
      "cell_type": "code",
      "execution_count": null,
      "metadata": {
        "id": "vuI6vKWv2XyA"
      },
      "outputs": [],
      "source": [
        "airbnb['revenue_opportunity'] = airbnb['price'] * airbnb['availability_365'] * 0.17"
      ]
    },
    {
      "cell_type": "code",
      "execution_count": null,
      "metadata": {
        "id": "paXDdlkw2XyA"
      },
      "outputs": [],
      "source": [
        "airbnb.head()"
      ]
    },
    {
      "cell_type": "markdown",
      "metadata": {
        "id": "oZYPeIux2XyA"
      },
      "source": [
        "Now see if revenue_opportunity is normaly distributed"
      ]
    },
    {
      "cell_type": "code",
      "execution_count": null,
      "metadata": {
        "id": "OZ0pY2zc2XyA"
      },
      "outputs": [],
      "source": [
        "y = airbnb['revenue_opportunity']\n",
        "plt.figure(1); plt.title('Johnson SU')\n",
        "sns.distplot(y, kde=False, fit=st.johnsonsu)\n",
        "plt.figure(2); plt.title('Normal')\n",
        "sns.distplot(y, kde=False, fit=st.norm)\n",
        "plt.figure(3); plt.title('Log Normal')\n",
        "sns.distplot(y, kde=False, fit=st.lognorm)"
      ]
    },
    {
      "cell_type": "markdown",
      "metadata": {
        "id": "LtseHNh92XyA"
      },
      "source": [
        "It isn't, so let's log transform as we did with price."
      ]
    },
    {
      "cell_type": "code",
      "execution_count": null,
      "metadata": {
        "id": "hG44Ieb22XyB"
      },
      "outputs": [],
      "source": [
        "airbnb['log_revenue_opportunity'] = np.log(airbnb['revenue_opportunity'])"
      ]
    },
    {
      "cell_type": "code",
      "execution_count": null,
      "metadata": {
        "id": "yjIuKUPw2XyB"
      },
      "outputs": [],
      "source": [
        "plt.hist(airbnb['log_revenue_opportunity'], bins=30)\n",
        "plt.xlabel('Log Revenue Opportunity')\n",
        "plt.ylabel('Frequency')\n",
        "plt.title('Distribution of Log Revenue Opportunity')\n",
        "plt.show()"
      ]
    },
    {
      "cell_type": "markdown",
      "metadata": {
        "id": "kCWpwYMq2XyB"
      },
      "source": [
        "That's better. Now we'll add the new log variables to the numeric features"
      ]
    },
    {
      "cell_type": "code",
      "execution_count": null,
      "metadata": {
        "id": "03Awzy5T2XyB"
      },
      "outputs": [],
      "source": [
        "numeric_features = airbnb.select_dtypes(include=[np.number])\n",
        "numeric_features.columns"
      ]
    },
    {
      "cell_type": "markdown",
      "metadata": {
        "id": "ewKqu1o-2XyB"
      },
      "source": [
        "## Correlations"
      ]
    },
    {
      "cell_type": "markdown",
      "metadata": {
        "id": "0FEUVoHI2XyB"
      },
      "source": [
        "Correlation matrix with price"
      ]
    },
    {
      "cell_type": "code",
      "execution_count": null,
      "metadata": {
        "id": "77i6WOIk2XyB"
      },
      "outputs": [],
      "source": [
        "correlation = numeric_features.corr()\n",
        "correlation['price'].sort_values(ascending = False)"
      ]
    },
    {
      "cell_type": "markdown",
      "metadata": {
        "id": "raPkWs232XyC"
      },
      "source": [
        "Correlation matrix with log price"
      ]
    },
    {
      "cell_type": "code",
      "execution_count": null,
      "metadata": {
        "id": "A7ezBJJ-2XyC"
      },
      "outputs": [],
      "source": [
        "correlation = numeric_features.corr()\n",
        "correlation['log_price'].sort_values(ascending = False)"
      ]
    },
    {
      "cell_type": "markdown",
      "metadata": {
        "_cell_guid": "20168dd5-0687-44c9-b8eb-215ad2f73546",
        "_uuid": "698f7d6b7579b585de6c1cec507283559eaedb39",
        "id": "WNMBg_Ln2XyC"
      },
      "source": [
        "To explore further we will start with the following visualisation methods to analyze the data better:\n",
        "\n",
        " - Correlation Heat Map\n",
        " - Zoomed Heat Map\n",
        " - Pair Plot\n",
        " - Scatter Plot"
      ]
    },
    {
      "cell_type": "code",
      "execution_count": null,
      "metadata": {
        "id": "rM5g_r6Z2XyC"
      },
      "outputs": [],
      "source": [
        "sns.pairplot(airbnb)"
      ]
    },
    {
      "cell_type": "markdown",
      "metadata": {
        "_cell_guid": "6d007b6d-d449-4640-a4e6-14b6bf363157",
        "_uuid": "d8aea7cf094d562f868240b7ce1df7526b6df27b",
        "id": "IbQ1EeIq2XyC"
      },
      "source": [
        "### Correlation Heat Map"
      ]
    },
    {
      "cell_type": "code",
      "execution_count": null,
      "metadata": {
        "_cell_guid": "f9b804c1-83bd-4235-9694-c7f3f5bcaeef",
        "_kg_hide-input": true,
        "_uuid": "1a744afad01b1cd57c0af57ccde8970659d511d9",
        "id": "cUTwah5_2XyC"
      },
      "outputs": [],
      "source": [
        "f , ax = plt.subplots(figsize = (14,12))\n",
        "plt.title('Correlation of Numeric Features',y=1,size=16)\n",
        "sns.heatmap(correlation,square = True)"
      ]
    },
    {
      "cell_type": "markdown",
      "metadata": {
        "_cell_guid": "24ff5221-2b85-43cf-b7c3-9426ab7ab702",
        "_uuid": "42c198a3246944045a13b78fbd75fcfa0c3212e0",
        "id": "7-Uj4Rkr2XyD"
      },
      "source": [
        "The only strong correlations appear to be number_of_reviews with id, which is not likely to be helpful, and number_of_review with reviews_per_month.\n"
      ]
    },
    {
      "cell_type": "markdown",
      "metadata": {
        "_cell_guid": "f0871353-66ad-4f22-b91c-96044d0e5481",
        "_uuid": "95f708be7785c2b8a8ecf80f8b2a39bb4432519d",
        "id": "R3d3bPyR2XyD"
      },
      "source": [
        "### Zoomed HeatMap"
      ]
    },
    {
      "cell_type": "code",
      "execution_count": null,
      "metadata": {
        "_cell_guid": "8ba97896-3cbf-44fb-ac16-9a2517d6d9ab",
        "_kg_hide-input": true,
        "_uuid": "5848fde3e986b422974d37ea087296a1e1cddc12",
        "id": "S6e2F_5Q2XyD"
      },
      "outputs": [],
      "source": [
        "k= 11\n",
        "cols = correlation.nlargest(k,'price')['price'].index\n",
        "print(cols)\n",
        "cm = np.corrcoef(airbnb[cols].values.T)\n",
        "f , ax = plt.subplots(figsize = (14,12))\n",
        "sns.heatmap(cm, vmax=.8, linewidths=0.01,square=True,annot=True,cmap='viridis',\n",
        "            linecolor=\"white\",xticklabels = cols.values ,annot_kws = {'size':12},yticklabels = cols.values)"
      ]
    },
    {
      "cell_type": "markdown",
      "metadata": {
        "_cell_guid": "b01f8a5e-4689-4bff-b97b-c21c3a4974cc",
        "_uuid": "6ea895154c10479468984db37b050544311ce410",
        "id": "pjIKUrfE2XyD"
      },
      "source": [
        "Price isn't highly correlated with any variables other than the ones we added which were derrived from price anyway.\n",
        "\n",
        "So regression is unlikely to be much help here."
      ]
    },
    {
      "cell_type": "markdown",
      "metadata": {
        "id": "dI8TTPES2XyD"
      },
      "source": [
        "Bar chart of median price by neighbourhood group"
      ]
    },
    {
      "cell_type": "code",
      "execution_count": null,
      "metadata": {
        "_cell_guid": "fbfae625-5530-4f4d-9bff-2753f97a4852",
        "_kg_hide-input": true,
        "_uuid": "73861f54ca9258a0436a883652e8ff7ae01abb67",
        "id": "k-KEbJx22XyD"
      },
      "outputs": [],
      "source": [
        "neighbourhood_group = airbnb.pivot_table(index ='neighbourhood_group',values = 'price', aggfunc = np.median)\n",
        "neighbourhood_group.plot(kind = 'bar',color = 'blue')\n",
        "plt.xlabel('Neighbourhood group')\n",
        "plt.ylabel('Median price')"
      ]
    },
    {
      "cell_type": "markdown",
      "metadata": {
        "id": "f7mYQLL52XyE"
      },
      "source": [
        "We can see that Manhattan has the highest median price by some distance."
      ]
    },
    {
      "cell_type": "markdown",
      "metadata": {
        "_cell_guid": "60236389-7586-44ad-8cf9-6e653a25b77f",
        "_uuid": "bd4b5b7e35906a30705da6daeb2d9922fe58ec67",
        "id": "P1b-zSM72XyE"
      },
      "source": [
        "Bar chart of mean price by neighbourhood group"
      ]
    },
    {
      "cell_type": "code",
      "execution_count": null,
      "metadata": {
        "_cell_guid": "11698815-d39a-430d-8f18-c4e6dd036309",
        "_kg_hide-input": true,
        "_uuid": "1215daae5c679efa0a3c105df6c0a242a4bdb702",
        "id": "HaQDA3KN2XyE"
      },
      "outputs": [],
      "source": [
        "neighbourhood_group = airbnb.pivot_table(index ='neighbourhood_group',values = 'price', aggfunc = np.mean)\n",
        "neighbourhood_group.plot(kind = 'bar',color = 'blue')\n",
        "plt.xlabel('Neighbourhood group')\n",
        "plt.ylabel('Mean price')"
      ]
    },
    {
      "cell_type": "markdown",
      "metadata": {
        "id": "jBa2Tuq62XyE"
      },
      "source": [
        "Manhattan also has the highest mean price"
      ]
    },
    {
      "cell_type": "markdown",
      "metadata": {
        "id": "_HiRaXcL2XyE"
      },
      "source": [
        "Now lets see the revenue opportunity"
      ]
    },
    {
      "cell_type": "code",
      "execution_count": null,
      "metadata": {
        "scrolled": true,
        "id": "E5mmwXke2XyE"
      },
      "outputs": [],
      "source": [
        "neighbourhood_group = airbnb.pivot_table(index ='neighbourhood_group',values = 'revenue_opportunity', aggfunc = np.sum)\n",
        "neighbourhood_group.plot(kind = 'bar')\n",
        "plt.xlabel('Neighbourhood group')\n",
        "plt.ylabel('Revenue opportunity @ 17% commission')"
      ]
    },
    {
      "cell_type": "code",
      "execution_count": null,
      "metadata": {
        "id": "-A48TbcO2XyE"
      },
      "outputs": [],
      "source": [
        "neighbourhood_group = airbnb.pivot_table(index ='neighbourhood_group',values = 'id', aggfunc = 'count')\n",
        "neighbourhood_group.plot(kind = 'bar',color = 'blue')\n",
        "plt.xlabel('Neighbourhood group')\n",
        "plt.ylabel('Number of properties')"
      ]
    },
    {
      "cell_type": "markdown",
      "metadata": {
        "id": "D0my02Sn2XyF"
      },
      "source": [
        "Interesting that Brooklyn has half the revenue opportunity of Manhattan eventhough it has almost as many properties.\n",
        "\n",
        "Let's take a look at availability_365 to see what's happening."
      ]
    },
    {
      "cell_type": "code",
      "execution_count": null,
      "metadata": {
        "id": "yGhirPrt2XyF"
      },
      "outputs": [],
      "source": [
        "var = 'neighbourhood_group'\n",
        "data = pd.concat([airbnb['availability_365'], airbnb[var]], axis=1)\n",
        "f, ax = plt.subplots(figsize=(12, 8))\n",
        "fig = sns.boxplot(x=var, y=\"availability_365\", data=data)"
      ]
    },
    {
      "cell_type": "markdown",
      "metadata": {
        "id": "FLl-wVz12XyF"
      },
      "source": [
        "We can see the reason now. Brooklyn has the lowest availability of all groups."
      ]
    },
    {
      "cell_type": "code",
      "execution_count": null,
      "metadata": {
        "id": "-43JV4qc2XyF"
      },
      "outputs": [],
      "source": [
        "airbnb.groupby('neighbourhood_group')['availability_365'].describe()"
      ]
    },
    {
      "cell_type": "markdown",
      "metadata": {
        "id": "CdhTSysL2XyF"
      },
      "source": [
        "Now let's see the total number of rooms and average revenue opportunity per property by neighbourhood group"
      ]
    },
    {
      "cell_type": "markdown",
      "metadata": {
        "id": "faXiZSjm2XyF"
      },
      "source": [
        "Lets calculate the number of rooms per person using 2020 data (source: https://www.census.gov/programs-surveys/decennial-census/decade/2020/2020-census-results.html) that says populations are:\n",
        "- Manhattan = 1.629m\n",
        "- Brooklyn = 2.577m\n",
        "- Queens = 2.271m\n",
        "- Bronx = 1.476m\n",
        "- Staten Island = 476k"
      ]
    },
    {
      "cell_type": "code",
      "execution_count": null,
      "metadata": {
        "id": "Kjg0oNtb2XyF"
      },
      "outputs": [],
      "source": [
        "neighbourhoods = dict()\n",
        "\n",
        "for item in set(airbnb.neighbourhood_group):\n",
        "    neighbourhoods[item]=(airbnb[airbnb.neighbourhood_group == item].shape[0])\n",
        "\n",
        "for key in neighbourhoods:\n",
        "    match key:\n",
        "        case 'Staten Island':\n",
        "            neighbourhoods[key] = round(neighbourhoods[key]/476000,5)\n",
        "        case 'Manhattan':\n",
        "            neighbourhoods[key] = round(neighbourhoods[key]/1629000,5)\n",
        "        case 'Queens':\n",
        "            neighbourhoods[key] = round(neighbourhoods[key]/2271000,5)\n",
        "        case 'Brooklyn':\n",
        "            neighbourhoods[key] = round(neighbourhoods[key]/2577000,5)\n",
        "        case 'Bronx':\n",
        "            neighbourhoods[key] = round(neighbourhoods[key]/1476000,5)\n",
        "\n",
        "for key in neighbourhoods:\n",
        "    print('In {}, based on the population and the listings we have a corresponding {} listings per person'.format(key, neighbourhoods[key]))"
      ]
    },
    {
      "cell_type": "markdown",
      "metadata": {
        "id": "1_92kEbE2XyG"
      },
      "source": [
        "So Manhatten has the highest utilisation. Does that mean there is the lowest chance of increasing penetration there? What would it look like if every other neighbourhood group could reach the same 0.00832 rooms per person at their current mean revenue opportunity?"
      ]
    },
    {
      "cell_type": "code",
      "execution_count": null,
      "metadata": {
        "id": "_p87sZa52XyG"
      },
      "outputs": [],
      "source": [
        "airbnb.groupby('neighbourhood_group')['revenue_opportunity'].describe()"
      ]
    },
    {
      "cell_type": "markdown",
      "metadata": {
        "id": "mNtWu0Cr2XyG"
      },
      "source": [
        "Total people living in each group * 0.00832:"
      ]
    },
    {
      "cell_type": "code",
      "execution_count": null,
      "metadata": {
        "id": "Qv-WY2i22XyG"
      },
      "outputs": [],
      "source": [
        "# Manhattan\n",
        "print(\"Manhattan: already already at 0.00832 listings per person (13,559 listings)\")\n",
        "\n",
        "# Brooklyn\n",
        "print(\"Brooklyn: \", round(2577000 * 0.00832))\n",
        "\n",
        "# Queens\n",
        "print(\"Queens: \", round(2271000 * 0.00832))\n",
        "\n",
        "# Bronx\n",
        "print(\"Bronx: \", round(1476000 * 0.00832))\n",
        "\n",
        "# Staten Island\n",
        "print(\"Staten Island: \", round(476000 * 0.00832))"
      ]
    },
    {
      "cell_type": "markdown",
      "metadata": {
        "id": "MAs2t3Cs2XyG"
      },
      "source": [
        "So... if they all achieved those rates it would look like this (rooms * average revenue):"
      ]
    },
    {
      "cell_type": "code",
      "execution_count": null,
      "metadata": {
        "id": "ALBTVhNS2XyG"
      },
      "outputs": [],
      "source": [
        "# Manhattan\n",
        "print(\"Manhattan: \", round(13559 * 7226.5))\n",
        "\n",
        "# Brooklyn\n",
        "print(\"Brooklyn: \", round(21441 * 3882.1))\n",
        "\n",
        "# Queens\n",
        "print(\"Queens: \", round(18895 * 3420.9))\n",
        "\n",
        "# Bronx\n",
        "print(\"Bronx: \", round(12280 * 3145.9))\n",
        "\n",
        "# Staten Island\n",
        "print(\"Staten Island: \", round(3960 * 4656.8))"
      ]
    },
    {
      "cell_type": "markdown",
      "metadata": {
        "id": "2ePwF-sX2XyH"
      },
      "source": [
        "Subtracting actual from potential. First check actual potential revenue:"
      ]
    },
    {
      "cell_type": "code",
      "execution_count": null,
      "metadata": {
        "id": "0qHYmSi92XyH"
      },
      "outputs": [],
      "source": [
        "airbnb.pivot_table(index ='neighbourhood_group',values = 'revenue_opportunity', aggfunc = np.sum)\n"
      ]
    },
    {
      "cell_type": "markdown",
      "metadata": {
        "id": "TzlT-t-i2XyH"
      },
      "source": [
        "- Manhatten = USD 97.9m - USD 97.9m = USD 0\n",
        "- Brooklyn = USD 83.2m - USD 47.6mm = USD 35.6m\n",
        "- Queens = USD 64.6m - USD 14.7m = USD 49.9m\n",
        "- Bronx = USD 38.6m - USD 2.9m = USD 35.7m\n",
        "- Staten Island = USD 18.4m - USD 1.5m = USD 16.9m"
      ]
    },
    {
      "cell_type": "markdown",
      "metadata": {
        "id": "ZGurGtJo2XyH"
      },
      "source": [
        "Based on this, Queens has the highest potential additional revenue even though it has the second lowest mean revenue opportunity because it has the lowest number of rooms available per resident, and so the biggest opportunity to expand."
      ]
    },
    {
      "cell_type": "markdown",
      "metadata": {
        "id": "e7bUGIWb2XyH"
      },
      "source": [
        "# Tables for the report - different stylings"
      ]
    },
    {
      "cell_type": "markdown",
      "metadata": {
        "id": "S8LvxDFi2XyH"
      },
      "source": [
        "### table 1"
      ]
    },
    {
      "cell_type": "code",
      "execution_count": null,
      "metadata": {
        "id": "O_4dqiOG2XyH"
      },
      "outputs": [],
      "source": [
        "# Create new dataframe, .reset_index() to convert series into dataframe\n",
        "counts_df = airbnb.neighbourhood_group.value_counts().reset_index()\n",
        "counts_df.columns = ['Neighbourhood Group', 'Listings']\n",
        "\n",
        "# Create population dict from cencus data\n",
        "population_dict = {\n",
        "    'Manhattan': 1.629e6,\n",
        "    'Brooklyn': 2.577e6,\n",
        "    'Queens': 2.271e6,\n",
        "    'Bronx': 1.476e6,\n",
        "    'Staten Island': 476e3\n",
        "}\n",
        "\n",
        "# Add population column to df\n",
        "counts_df['Population'] = counts_df['Neighbourhood Group'].map(population_dict).apply(lambda x: int(x))\n",
        "\n",
        "# Add listings per resident to df\n",
        "counts_df['Listings per Resident'] = (counts_df['Listings'] / counts_df['Population']).round(5)\n",
        "\n",
        "counts_df"
      ]
    },
    {
      "cell_type": "code",
      "execution_count": null,
      "metadata": {
        "scrolled": false,
        "id": "Sp3UByzT2XyI"
      },
      "outputs": [],
      "source": [
        "styled_df = counts_df.style.set_properties(**{'background-color': '#F0FFFF',\n",
        "                                              'color': 'black',\n",
        "                                              'border-color': 'white'}).format({\"Listings\": \"{:,.0f}\",\n",
        "                                                                                \"Population\": \"{:,.0f}\",\n",
        "                                                                                \"Listings per Resident\": \"{:.5g}\"})\n",
        "\n",
        "styled_df.hide_index()"
      ]
    },
    {
      "cell_type": "code",
      "execution_count": null,
      "metadata": {
        "scrolled": true,
        "id": "LEV1_vWC2XyI"
      },
      "outputs": [],
      "source": [
        "styled_df = counts_df.style.background_gradient(\n",
        "    cmap='Blues'\n",
        ").hide_index().format(\n",
        "    {\n",
        "        \"Listings\": \"{:,.0f}\",\n",
        "        \"Population\": \"{:,.0f}\",\n",
        "        \"Listings per Resident\": \"{:.5g}\"\n",
        "    }\n",
        ").set_table_styles(\n",
        "    [\n",
        "        {\n",
        "            'selector': 'th',\n",
        "            'props': [\n",
        "                ('padding', '1px'),\n",
        "                ('text-align', 'left')\n",
        "            ]\n",
        "        },\n",
        "        {\n",
        "            'selector': 'td',\n",
        "            'props': [\n",
        "                ('padding', '1px'),\n",
        "                ('text-align', 'center')\n",
        "            ]\n",
        "        }\n",
        "    ]\n",
        ").set_properties(**{'width': '70px'})\n",
        "\n",
        "styled_df"
      ]
    },
    {
      "cell_type": "markdown",
      "metadata": {
        "id": "cQVnV9t62XyI"
      },
      "source": [
        "### table 2"
      ]
    },
    {
      "cell_type": "markdown",
      "metadata": {
        "id": "RrAirkIw2XyI"
      },
      "source": [
        "create rev opp dict"
      ]
    },
    {
      "cell_type": "code",
      "execution_count": null,
      "metadata": {
        "scrolled": false,
        "id": "jfS7NTA62XyI"
      },
      "outputs": [],
      "source": [
        "mean_revenue_dict = airbnb.groupby('neighbourhood_group')['revenue_opportunity'].mean().to_dict()\n",
        "mean_revenue_dict\n",
        "\n",
        "revenue_opportunity_dict = airbnb.pivot_table(index='neighbourhood_group', values='revenue_opportunity', aggfunc=np.sum).to_dict()['revenue_opportunity']\n",
        "revenue_opportunity_dict"
      ]
    },
    {
      "cell_type": "code",
      "execution_count": null,
      "metadata": {
        "scrolled": true,
        "id": "YgdGI3b02XyI"
      },
      "outputs": [],
      "source": [
        "table_2 = pd.DataFrame()\n",
        "\n",
        "# Build columns\n",
        "table_2['Neighbourhood Group'] = counts_df['Neighbourhood Group']\n",
        "table_2['Listings * 0.00832'] = counts_df['Population'] * 0.00832\n",
        "table_2['Mean Revenue'] = table_2['Neighbourhood Group'].map(mean_revenue_dict)\n",
        "table_2['Current Revenue Opportunity'] = table_2['Neighbourhood Group'].map(revenue_opportunity_dict)\n",
        "table_2['Potential Revenue * 0.00832'] = table_2['Mean Revenue'] * table_2['Listings * 0.00832']\n",
        "\n",
        "# Hardcode Manhattan back since that is the baseline and rounding changes the value\n",
        "table_2.loc[table_2['Neighbourhood Group'] == 'Manhattan', 'Potential Revenue * 0.00832'] = 97984186.9\n",
        "\n",
        "table_2['Potential Revenue Increase'] = table_2['Potential Revenue * 0.00832'] - table_2['Current Revenue Opportunity']\n",
        "\n",
        "table_2"
      ]
    },
    {
      "cell_type": "code",
      "execution_count": null,
      "metadata": {
        "id": "25i6KP5V2XyJ"
      },
      "outputs": [],
      "source": [
        "# Currency format func\n",
        "def format_currency_in_millions(value):\n",
        "    return \"$ {:.1f}M\".format(value / 1_000_000)\n",
        "\n",
        "# format\n",
        "styled_table_2 = table_2.style.format({\n",
        "    'Listings * 0.00832': \"{:,.0f}\",\n",
        "    'Mean Revenue': \"$ {:,.0f}\",\n",
        "    'Current Revenue Opportunity': format_currency_in_millions,\n",
        "    'Potential Revenue * 0.00832': format_currency_in_millions,\n",
        "    'Potential Revenue Increase': format_currency_in_millions\n",
        "}).background_gradient(cmap='Blues', subset=['Listings * 0.00832', 'Mean Revenue', 'Current Revenue Opportunity', 'Potential Revenue * 0.00832', 'Potential Revenue Increase']).hide_index().set_table_styles([\n",
        "   {\n",
        "      'selector': 'th',\n",
        "      'props': [\n",
        "          ('padding', '1px'),\n",
        "          ('text-align', 'left')\n",
        "      ]\n",
        "   },\n",
        "   {\n",
        "      'selector': 'td',\n",
        "      'props': [('padding', '1px'),\n",
        "        ('text-align', 'center')]\n",
        "   },\n",
        "]).set_properties(**{'width': '60px'})\n",
        "\n",
        "styled_table_2\n"
      ]
    },
    {
      "cell_type": "markdown",
      "metadata": {
        "id": "zEf06giE2XyJ"
      },
      "source": [
        "Style and reformat table"
      ]
    },
    {
      "cell_type": "code",
      "execution_count": null,
      "metadata": {
        "scrolled": false,
        "id": "9pxqPWVJ2XyJ"
      },
      "outputs": [],
      "source": [
        "styled_table_2 = table_2.style.format({\n",
        "    'Listings * 0.00832': \"{:,.0f}\",\n",
        "    'Mean Revenue': \"$ {:,.0f}\",\n",
        "    'Current Revenue Opportunity': \"$ {:,.0f}\",\n",
        "    'Potential Revenue * 0.00832': \"$ {:,.0f}\",\n",
        "    'Potential Revenue Increase': \"$ {:,.0f}\"\n",
        "}).background_gradient(cmap='Blues').hide_index().set_table_styles([\n",
        "   {\n",
        "      'selector': 'th',\n",
        "      'props': [\n",
        "          ('padding', '1px'),\n",
        "          ('text-align', 'left')\n",
        "      ]\n",
        "   },\n",
        "   {\n",
        "      'selector': 'td',\n",
        "      'props': [('padding', '1px')]\n",
        "   },\n",
        "]).set_properties(**{'width': '100px'})\n",
        "\n",
        "styled_table_2"
      ]
    },
    {
      "cell_type": "markdown",
      "metadata": {
        "id": "YHYrfJMN2XyS"
      },
      "source": [
        "Box plot price by neighbourhood group"
      ]
    },
    {
      "cell_type": "code",
      "execution_count": null,
      "metadata": {
        "id": "CRuLMKx72XyS"
      },
      "outputs": [],
      "source": [
        "var = 'neighbourhood_group'\n",
        "data = pd.concat([airbnb['price'], airbnb[var]], axis=1)\n",
        "f, ax = plt.subplots(figsize=(12, 8))\n",
        "fig = sns.boxplot(x=var, y=\"price\", data=data)"
      ]
    },
    {
      "cell_type": "markdown",
      "metadata": {
        "id": "lJp2ClEY2XyS"
      },
      "source": [
        "The extremes are so high the chart cannot be read easily, so re-plot with maximum price of 500"
      ]
    },
    {
      "cell_type": "code",
      "execution_count": null,
      "metadata": {
        "id": "YWOmoJXT2XyT"
      },
      "outputs": [],
      "source": [
        "var = 'neighbourhood_group'\n",
        "data = pd.concat([airbnb['price'], airbnb[var]], axis=1)\n",
        "f, ax = plt.subplots(figsize=(12, 8))\n",
        "fig = sns.boxplot(x=var, y=\"price\", data=data)\n",
        "fig.axis(ymin=0, ymax=500);"
      ]
    },
    {
      "cell_type": "markdown",
      "metadata": {
        "id": "XUX_k4502XyT"
      },
      "source": [
        "We can see again that Manhattan has the highest prices, showing that all figures in the five figure summary are higher than any other neighrohood group."
      ]
    },
    {
      "cell_type": "markdown",
      "metadata": {
        "id": "39gHBcJa2XyT"
      },
      "source": [
        "Bar chart of number of properties per neighbourhood group"
      ]
    },
    {
      "cell_type": "code",
      "execution_count": null,
      "metadata": {
        "id": "rSgg6cU82XyT"
      },
      "outputs": [],
      "source": [
        "neighbourhood_group = airbnb.pivot_table(index ='neighbourhood_group',values = 'id', aggfunc = 'count')\n",
        "neighbourhood_group.plot(kind = 'bar',color = 'blue')\n",
        "plt.xlabel('Neighbourhood group')\n",
        "plt.ylabel('Number of properties')"
      ]
    },
    {
      "cell_type": "markdown",
      "metadata": {
        "id": "c-Ubx7mQ2XyT"
      },
      "source": [
        "We can see that Manhattan has the most roperties, closely follwed by Brooklyn. So Manhattan has the most properties, and they are the most expensive."
      ]
    },
    {
      "cell_type": "markdown",
      "metadata": {
        "id": "f9FngaBY2XyT"
      },
      "source": [
        "Break-down Manhattan with a box plot of price by neighbourhood in Manhattan with a max of 1000 for price for readability"
      ]
    },
    {
      "cell_type": "code",
      "execution_count": null,
      "metadata": {
        "id": "6jefJ5R22XyT"
      },
      "outputs": [],
      "source": [
        "Manhattan = airbnb[airbnb['neighbourhood_group'] == 'Manhattan']\n",
        "var = 'neighbourhood'\n",
        "data = pd.concat([Manhattan['price'], Manhattan[var]], axis=1)\n",
        "f, ax = plt.subplots(figsize=(12, 8))\n",
        "fig = sns.boxplot(x=var, y=\"price\", data=data)\n",
        "fig.axis(ymin=0, ymax=1000);\n",
        "plt.xticks(rotation=90)"
      ]
    },
    {
      "cell_type": "markdown",
      "metadata": {
        "id": "nU2NJL7e2XyU"
      },
      "source": [
        "We can see that within Manhattan there is a lot of price variation between the neighbourhoods."
      ]
    },
    {
      "cell_type": "markdown",
      "metadata": {
        "id": "xaJ0_Kt12XyU"
      },
      "source": [
        "Bar chart of number of properties per neighbourhood in Manhattan"
      ]
    },
    {
      "cell_type": "code",
      "execution_count": null,
      "metadata": {
        "id": "I_VMcmbt2XyU"
      },
      "outputs": [],
      "source": [
        "neighbourhood_group = Manhattan.pivot_table(index ='neighbourhood',values = 'id', aggfunc = 'count')\n",
        "neighbourhood_group.plot(kind = 'bar',color = 'blue')\n",
        "plt.xlabel('Neighbourhood')\n",
        "plt.ylabel('Number of properties')"
      ]
    },
    {
      "cell_type": "markdown",
      "metadata": {
        "id": "xSmu3deo2XyU"
      },
      "source": [
        "We can also see a large variation between the number of properties listed in each neighbourhood.\n",
        "\n",
        "At first glance it apears that neighbourhoods with the higher prices have fewer properties, but more detailed analysis would be needed in this areas."
      ]
    },
    {
      "cell_type": "markdown",
      "metadata": {
        "id": "5nSVexZ_2XyU"
      },
      "source": [
        "## Exploring the variable room_type:"
      ]
    },
    {
      "cell_type": "markdown",
      "metadata": {
        "id": "k-cuBtvC2XyU"
      },
      "source": [
        "Count the number of each room type"
      ]
    },
    {
      "cell_type": "code",
      "execution_count": null,
      "metadata": {
        "id": "4a7wTz5i2XyU"
      },
      "outputs": [],
      "source": [
        "airbnb.room_type.value_counts()"
      ]
    },
    {
      "cell_type": "markdown",
      "metadata": {
        "id": "HUxMkhXh2XyU"
      },
      "source": [
        "Now show them by neightborhood group"
      ]
    },
    {
      "cell_type": "code",
      "execution_count": null,
      "metadata": {
        "id": "gLq1fiZj2XyU"
      },
      "outputs": [],
      "source": [
        "# plot barchart with neighbourhood_group and room_type counts\n",
        "grouped = airbnb.groupby(['neighbourhood_group', 'room_type']).size().reset_index(name='counts')\n",
        "\n",
        "# Create a figure and a set of subplots\n",
        "fig, ax = plt.subplots(figsize=(10, 5))\n",
        "\n",
        "# Create the bar chart\n",
        "sns.barplot(x='neighbourhood_group', y='counts', hue='room_type', data=grouped, ax=ax)\n",
        "\n",
        "# Rotate x-axis labels for better visibility\n",
        "plt.xticks(rotation=90)\n",
        "\n",
        "# Display the plot\n",
        "plt.show()"
      ]
    },
    {
      "cell_type": "markdown",
      "metadata": {
        "id": "O5OK-Jp_2XyU"
      },
      "source": [
        "Interestingly Queens has a lower proportion of private rooms to entire home/appt than Mahattan or Brooklyn. Increasing the number of entire home/appt in Queens could be another potential area for Airbnb to explore."
      ]
    },
    {
      "cell_type": "markdown",
      "metadata": {
        "id": "w8DFTPWM2XyV"
      },
      "source": [
        "Boxplot for room_type vs price"
      ]
    },
    {
      "cell_type": "code",
      "execution_count": null,
      "metadata": {
        "id": "F70zgK3M2XyV"
      },
      "outputs": [],
      "source": [
        "sns.boxplot(x='room_type', y='price', data=airbnb)\n",
        "plt.title('Room Type vs Price')\n",
        "plt.xticks(rotation=90)\n",
        "plt.axis(ymin=0, ymax=500);\n",
        "plt.show()"
      ]
    },
    {
      "cell_type": "markdown",
      "metadata": {
        "id": "kCbEAk_X2XyV"
      },
      "source": [
        " Grouped bar chart showing counts of room types in different neighbourhood groups"
      ]
    },
    {
      "cell_type": "code",
      "execution_count": null,
      "metadata": {
        "id": "x93_1fgl2XyV"
      },
      "outputs": [],
      "source": [
        "room_counts = airbnb.groupby(['neighbourhood_group', 'room_type']).size().unstack()\n",
        "room_counts.plot(kind='bar', stacked=True)\n",
        "plt.title('Counts of Room Types in Different Neighbourhood Groups')\n",
        "plt.show()"
      ]
    },
    {
      "cell_type": "markdown",
      "metadata": {
        "id": "sDqmGHLd2XyV"
      },
      "source": [
        "The analysis shows:\n",
        "There are more entire home/apt, followed by private rooms, followed by shared room.\n",
        "This is also true in Manhattan and Brooklyn, where there are most properties available, but not in Queens where there are more private rooms than entire suite/apts.\n",
        "The entire suite/apt costs most, followed by private room, followed by shared room."
      ]
    },
    {
      "cell_type": "markdown",
      "metadata": {
        "id": "_mB6HEln2XyV"
      },
      "source": [
        "## Now plot some results on the map"
      ]
    },
    {
      "cell_type": "markdown",
      "metadata": {
        "id": "XYPE3-BZ2XyV"
      },
      "source": [
        "Plot the properties on the map, grouped by neighbourhood_group, to visualise the distribution."
      ]
    },
    {
      "cell_type": "code",
      "execution_count": null,
      "metadata": {
        "id": "PI74A7QV2XyV"
      },
      "outputs": [],
      "source": [
        "plt.figure(figsize=(12,8))\n",
        "plt.style.use('fast')\n",
        "# Set the boundary of the map using longitude and latitude obtained from Google Maps\n",
        "coordinates = (-74.2623, -73.6862, 40.4943, 40.9144)\n",
        "map = mpimg.imread(\"New_York_City.jpg\")\n",
        "plt.imshow(map,extent=coordinates)\n",
        "groups = airbnb.groupby('neighbourhood_group')\n",
        "for name,group in groups :\n",
        "     plt.scatter(group['longitude'],group['latitude'], label=name, edgecolors='black')\n",
        "plt.xlabel('Longitude')\n",
        "plt.ylabel('Latitude')\n",
        "plt.title('Properties by neighbourhood')\n",
        "plt.legend()"
      ]
    },
    {
      "cell_type": "markdown",
      "metadata": {
        "id": "KyIb8vnD2XyV"
      },
      "source": [
        "Now plot the properties using a colour gradiant for price"
      ]
    },
    {
      "cell_type": "code",
      "execution_count": null,
      "metadata": {
        "id": "hwKTlsRD2XyV"
      },
      "outputs": [],
      "source": [
        "plt.figure(figsize=(12,8))\n",
        "plt.imshow(map, extent=coordinates)\n",
        "plt.scatter(airbnb.longitude, airbnb.latitude, c=airbnb.price, cmap='rainbow', edgecolors='black')\n",
        "plt.xlabel('Longitude')\n",
        "plt.ylabel('Latitude')\n",
        "plt.title('Properties by price')\n",
        "plt.colorbar()"
      ]
    },
    {
      "cell_type": "markdown",
      "metadata": {
        "id": "wY2rMPDi2XyV"
      },
      "source": [
        "The wide price range makes this view unhelpful. We know the range is 0-10,000 but 75% of the properties are below 189, so the vast majority of the properties will have tiny colour variations at the same end of the colour range.\n",
        "\n",
        "We'll take a look at the higher value properties first; plot only those over 1000"
      ]
    },
    {
      "cell_type": "code",
      "execution_count": null,
      "metadata": {
        "id": "l67SaP_L2XyV"
      },
      "outputs": [],
      "source": [
        "plt.figure(figsize=(12,8))\n",
        "plt.imshow(map, extent=coordinates)\n",
        "high_price = airbnb[airbnb['price'] > 1000]\n",
        "plt.scatter(high_price.longitude, high_price.latitude, c=high_price.price, cmap='rainbow', edgecolors='black')\n",
        "plt.xlabel('Longitude')\n",
        "plt.ylabel('Latitude')\n",
        "plt.title('Properties over $1000 by price')\n",
        "plt.colorbar()"
      ]
    },
    {
      "cell_type": "markdown",
      "metadata": {
        "id": "MxHq8L3M2XyW"
      },
      "source": [
        "We can start to see where the very expensive properties are located, which is Manhatten as expected from the earlier analysis of price by neighbourhood_region, but also Queens which was unexpected."
      ]
    },
    {
      "cell_type": "markdown",
      "metadata": {
        "id": "b7pVlQiR2XyW"
      },
      "source": [
        "Now to see the price distribution of the lower cost properties. We know that 75% of properties are priced 189 or below so plot only those properties."
      ]
    },
    {
      "cell_type": "code",
      "execution_count": null,
      "metadata": {
        "id": "V72AhJyJ2XyW"
      },
      "outputs": [],
      "source": [
        "plt.figure(figsize=(12,8))\n",
        "plt.imshow(map, extent=coordinates)\n",
        "low_price = airbnb[airbnb['price'] <= 189]\n",
        "plt.scatter(low_price.longitude, low_price.latitude, c=low_price.price, cmap='rainbow', edgecolors='black')\n",
        "plt.xlabel('Longitude')\n",
        "plt.ylabel('Latitude')\n",
        "plt.title('Properties under $189 by price')\n",
        "plt.colorbar()"
      ]
    },
    {
      "cell_type": "markdown",
      "metadata": {
        "id": "2AVK3osn2XyW"
      },
      "source": [
        "Once again the higher priced properties at the lower end of the price range are clustered in Manhatten."
      ]
    },
    {
      "cell_type": "markdown",
      "metadata": {
        "id": "hOKu1cB82XyW"
      },
      "source": [
        "Now to see the price distribution of the middle 50% of properties by cost, plot only those >= 70 and <= 189"
      ]
    },
    {
      "cell_type": "code",
      "execution_count": null,
      "metadata": {
        "id": "PcUmfJM02XyW"
      },
      "outputs": [],
      "source": [
        "plt.figure(figsize=(12,8))\n",
        "plt.imshow(map, extent=coordinates)\n",
        "mid_price = airbnb[airbnb['price'] >= 70]\n",
        "mid_price = mid_price[mid_price['price'] <= 189]\n",
        "plt.scatter(mid_price.longitude, mid_price.latitude, c=mid_price.price, cmap='rainbow', edgecolors='black')\n",
        "plt.xlabel('Longitude')\n",
        "plt.ylabel('Latitude')\n",
        "plt.title('Properties >= $70 and <= $189 by price')\n",
        "plt.colorbar()"
      ]
    },
    {
      "cell_type": "markdown",
      "metadata": {
        "id": "-FpXBK3k2XyW"
      },
      "source": [
        "In the mid-price range the higher prices are again clusted in Manhatten, but they are distributed across the other regions too."
      ]
    },
    {
      "cell_type": "markdown",
      "metadata": {
        "id": "zRuA89Gb2XyW"
      },
      "source": [
        "# Clustering"
      ]
    },
    {
      "cell_type": "markdown",
      "metadata": {
        "id": "daTRKgPh2XyW"
      },
      "source": [
        "Using the log price for clustering to handle skewness, scale down values, and better interpretability for more meaningful clusters"
      ]
    },
    {
      "cell_type": "markdown",
      "metadata": {
        "id": "9Ek8KEeG2XyW"
      },
      "source": [
        "## Starting with k-prototype `log_price`  `neighbourhood` `latitude` `longitude`"
      ]
    },
    {
      "cell_type": "code",
      "execution_count": null,
      "metadata": {
        "id": "BMv1l81F2XyW"
      },
      "outputs": [],
      "source": [
        "# keeping less than we're dropping so just picking those features\n",
        "cluster_data = airbnb[['log_price', 'neighbourhood', 'latitude', 'longitude']]\n",
        "cluster_data"
      ]
    },
    {
      "cell_type": "code",
      "execution_count": null,
      "metadata": {
        "id": "of7YQDTm2XyX"
      },
      "outputs": [],
      "source": [
        "# confirm datatypes\n",
        "cluster_data.dtypes"
      ]
    },
    {
      "cell_type": "code",
      "execution_count": null,
      "metadata": {
        "id": "SJ33jfOI2XyX"
      },
      "outputs": [],
      "source": [
        "# Create a copy of the data\n",
        "cluster_data_prepared = cluster_data.copy()\n",
        "\n",
        "# Encode categorical variables\n",
        "le = LabelEncoder()\n",
        "cluster_data_prepared['neighbourhood'] = le.fit_transform(cluster_data['neighbourhood'])\n",
        "\n",
        "cluster_data_prepared"
      ]
    },
    {
      "cell_type": "markdown",
      "metadata": {
        "id": "JRawdvSj2XyX"
      },
      "source": [
        "### k-prototype clustering\n",
        "k-prototype combines K-Means (for numerical features) and K-Modes (for categorical features).  K-Modes works best with label-encoded categorical variables so we will label encode rather than one-hot. Saves computational power too.\n",
        "\n",
        "Performing the first run with `log_price` `neighbourhood` `latitude` `longitude`"
      ]
    },
    {
      "cell_type": "code",
      "execution_count": null,
      "metadata": {
        "scrolled": true,
        "id": "VhFg42Zz2XyX"
      },
      "outputs": [],
      "source": [
        "# copy original cluster data to rename it for this no var transformed run\n",
        "kproto_prep_1 = cluster_data_prepared.copy()\n",
        "\n",
        "# standardise numerical variables\n",
        "scaler = StandardScaler()\n",
        "kproto_prep_1[['log_price']] = scaler.fit_transform(cluster_data[['log_price']])\n",
        "kproto_prep_1[['latitude']] = scaler.fit_transform(cluster_data[['latitude']])\n",
        "kproto_prep_1[['longitude']] = scaler.fit_transform(cluster_data[['longitude']])\n",
        "\n",
        "# Keep the original latitude and longitude\n",
        "orig_lat = cluster_data['latitude'].copy()\n",
        "orig_long = cluster_data['longitude'].copy()\n",
        "\n",
        "kproto_prep_1"
      ]
    },
    {
      "cell_type": "code",
      "execution_count": null,
      "metadata": {
        "id": "Gq7WYp1J2XyX"
      },
      "outputs": [],
      "source": [
        "k_values = []\n",
        "sil_scores = []\n",
        "costs = []\n",
        "\n",
        "for i in range(2,13):\n",
        "    # Initialize K-Prototypes algorithm\n",
        "    kproto = KPrototypes(n_clusters=i, init='Cao', verbose=0)\n",
        "\n",
        "    # Fit and predict clusters\n",
        "    # Specify categorical variables\n",
        "    clusters = kproto.fit_predict(kproto_prep_1.values, categorical=[1])\n",
        "\n",
        "    # Compute silhouette score\n",
        "    SScore = silhouette_score(kproto_prep_1.values, clusters, metric='euclidean')\n",
        "\n",
        "    k_values.append(i)\n",
        "    sil_scores.append(SScore)\n",
        "    costs.append(kproto.cost_)\n",
        "\n",
        "    print(\"Silhouette score for k (clusters) = \" + str(i) + \" is \" + str(SScore))\n",
        "\n",
        "# Plot silhouette scores\n",
        "plt.figure(figsize=(10,5))\n",
        "plt.subplot(1, 2, 1)\n",
        "plt.plot(k_values, sil_scores, 'bx-')\n",
        "plt.xlabel('k (number of clusters)')\n",
        "plt.ylabel('Silhouette Score')\n",
        "plt.title('Silhouette Score vs Number of Clusters')\n",
        "\n",
        "# Plot costs (for the elbow plot)\n",
        "plt.subplot(1, 2, 2)\n",
        "plt.plot(k_values, costs, 'bx-')\n",
        "plt.xlabel('k (number of clusters)')\n",
        "plt.ylabel('Cost')\n",
        "plt.title('Elbow Plot (Cost vs Number of Clusters)')\n",
        "\n",
        "plt.tight_layout()\n",
        "plt.show()"
      ]
    },
    {
      "cell_type": "markdown",
      "metadata": {
        "id": "0T1LdE9E2XyX"
      },
      "source": [
        "## Above results show that 6 clusters are optimal, continue analysis:"
      ]
    },
    {
      "cell_type": "markdown",
      "metadata": {
        "id": "lizVC9g_2XyX"
      },
      "source": [
        "Although not a great rating in general, we will continue with 6 for a fair compromise between silhouette score and elbow"
      ]
    },
    {
      "cell_type": "code",
      "execution_count": null,
      "metadata": {
        "id": "T1Cp9iwF2XyX"
      },
      "outputs": [],
      "source": [
        "# Initialize K-Prototypes algorithm\n",
        "kproto = KPrototypes(n_clusters=6, init='Cao', verbose=0)\n",
        "\n",
        "# Fit and predict clusters\n",
        "clusters = kproto.fit_predict(kproto_prep_1.values, categorical=[1])\n",
        "\n",
        "# Add cluster assignments to original data\n",
        "kproto_prep_1['cluster'] = clusters"
      ]
    },
    {
      "cell_type": "code",
      "execution_count": null,
      "metadata": {
        "scrolled": true,
        "id": "8s0a7fyZ2XyY"
      },
      "outputs": [],
      "source": [
        "kproto_prep_1"
      ]
    },
    {
      "cell_type": "markdown",
      "metadata": {
        "id": "EGhGR8p72XyY"
      },
      "source": [
        "measure cluster size"
      ]
    },
    {
      "cell_type": "code",
      "execution_count": null,
      "metadata": {
        "id": "AT32v7if2XyY"
      },
      "outputs": [],
      "source": [
        "kproto_prep_1['cluster'].value_counts()"
      ]
    },
    {
      "cell_type": "markdown",
      "metadata": {
        "id": "TFvpPPZS2XyY"
      },
      "source": [
        "## Plot map"
      ]
    },
    {
      "cell_type": "code",
      "execution_count": null,
      "metadata": {
        "scrolled": true,
        "id": "ovu_Ouol2XyY"
      },
      "outputs": [],
      "source": [
        "plt.figure(figsize=(12,8))\n",
        "plt.style.use('fast')\n",
        "\n",
        "# Set the boundary of the map using longitude and latitude obtained from Google Maps\n",
        "coordinates = (-74.2623, -73.6862, 40.4943, 40.9144)\n",
        "\n",
        "map = mpimg.imread(\"New_York_City.jpg\")\n",
        "plt.imshow(map,extent=coordinates)\n",
        "\n",
        "# Group by cluster labels instead of neighbourhood group\n",
        "clusters = kproto_prep_1.groupby('cluster')\n",
        "\n",
        "# Loop through each cluster and plot the listings in it\n",
        "for name, group in clusters:\n",
        "    plt.scatter(group['longitude'], group['latitude'], label=name, edgecolors='black')\n",
        "\n",
        "plt.xlabel('Longitude')\n",
        "plt.ylabel('Latitude')\n",
        "plt.title('Properties by Cluster')\n",
        "plt.legend()"
      ]
    },
    {
      "cell_type": "markdown",
      "metadata": {
        "id": "fZBDAvZ82XyY"
      },
      "source": [
        "Place original lat & long back so the results can be plotted on the map"
      ]
    },
    {
      "cell_type": "code",
      "execution_count": null,
      "metadata": {
        "scrolled": true,
        "id": "INdxOA8m2XyY"
      },
      "outputs": [],
      "source": [
        "kproto_prep_1_org_lat_long = kproto_prep_1.copy()\n",
        "\n",
        "kproto_prep_1_org_lat_long['latitude'] = orig_lat\n",
        "kproto_prep_1_org_lat_long['longitude'] = orig_long\n",
        "\n",
        "kproto_prep_1_org_lat_long"
      ]
    },
    {
      "cell_type": "code",
      "execution_count": null,
      "metadata": {
        "id": "hhhN0inW2XyY"
      },
      "outputs": [],
      "source": [
        "plt.figure(figsize=(12,8))\n",
        "plt.style.use('fast')\n",
        "\n",
        "# Set the boundary of the map using longitude and latitude obtained from Google Maps\n",
        "coordinates = (-74.2623, -73.6862, 40.4943, 40.9144)\n",
        "\n",
        "map = mpimg.imread(\"New_York_City.jpg\")\n",
        "plt.imshow(map,extent=coordinates)\n",
        "\n",
        "# Group by cluster labels instead of neighbourhood group\n",
        "clusters = kproto_prep_1_org_lat_long.groupby('cluster')\n",
        "\n",
        "# Loop through each cluster and plot the listings in it\n",
        "for name, group in clusters:\n",
        "    plt.scatter(group['longitude'], group['latitude'], label=name, edgecolors='black')\n",
        "\n",
        "plt.xlabel('Longitude')\n",
        "plt.ylabel('Latitude')\n",
        "plt.title('Properties by Cluster')\n",
        "plt.legend()"
      ]
    },
    {
      "cell_type": "markdown",
      "metadata": {
        "id": "hgrTrQYs2XyY"
      },
      "source": [
        "This looks interesting. Lets explore the data with summary statistics for each cluster group"
      ]
    },
    {
      "cell_type": "code",
      "execution_count": null,
      "metadata": {
        "id": "uRcR6KKD2XyY"
      },
      "outputs": [],
      "source": [
        "cluster_summary = kproto_prep_1_org_lat_long.groupby('cluster')['log_price'].describe()\n",
        "cluster_summary"
      ]
    },
    {
      "cell_type": "code",
      "execution_count": null,
      "metadata": {
        "id": "_iwHDX5T2XyY"
      },
      "outputs": [],
      "source": [
        "# Boxplot of 'log_price' for each cluster\n",
        "plt.figure(figsize=(12, 8))\n",
        "sns.boxplot(x='cluster', y='log_price', data=kproto_prep_1_org_lat_long)\n",
        "plt.title('Price Distribution per Cluster')\n",
        "plt.show()"
      ]
    },
    {
      "cell_type": "markdown",
      "metadata": {
        "id": "Wr7qDlO-2XyZ"
      },
      "source": [
        "## ANOVA results"
      ]
    },
    {
      "cell_type": "code",
      "execution_count": null,
      "metadata": {
        "id": "1ckundHd2XyZ"
      },
      "outputs": [],
      "source": [
        "anova_results = st.f_oneway(*(kproto_prep_1_org_lat_long['log_price'][kproto_prep_1_org_lat_long['cluster'] == cluster] for cluster in kproto_prep_1_org_lat_long['cluster'].unique()))\n",
        "anova_results"
      ]
    },
    {
      "cell_type": "markdown",
      "metadata": {
        "id": "UFW6_9-I2XyZ"
      },
      "source": [
        "The above would suggest that the price is significantly different across the clusters."
      ]
    },
    {
      "cell_type": "code",
      "execution_count": null,
      "metadata": {
        "id": "GxyuMGIp2XyZ"
      },
      "outputs": [],
      "source": [
        "room_counts = kproto_prep_1_org_lat_long.groupby(['cluster', airbnb['room_type']]).size().unstack()\n",
        "room_counts.plot(kind='bar', stacked=True)\n",
        "plt.title('Counts of Room Types in Different Clusters')\n",
        "plt.show()"
      ]
    },
    {
      "cell_type": "markdown",
      "metadata": {
        "id": "L5FqfzPx2XyZ"
      },
      "source": [
        "## Add `neighbourhood_group` back to see which group is in which cluster"
      ]
    },
    {
      "cell_type": "code",
      "execution_count": null,
      "metadata": {
        "id": "32_kQ9KW2XyZ"
      },
      "outputs": [],
      "source": [
        "# put neighbourhoods back\n",
        "kproto_prep_1_org_lat_long['neighbourhood_group'] = airbnb['neighbourhood_group']"
      ]
    },
    {
      "cell_type": "code",
      "execution_count": null,
      "metadata": {
        "id": "n_E6zjNb2XyZ"
      },
      "outputs": [],
      "source": [
        "kproto_prep_1_org_lat_long"
      ]
    },
    {
      "cell_type": "code",
      "execution_count": null,
      "metadata": {
        "id": "cfdzkryf2XyZ"
      },
      "outputs": [],
      "source": [
        "plt.figure(figsize=(10, 8))\n",
        "sns.countplot(data=kproto_prep_1_org_lat_long, x='neighbourhood_group', hue='cluster')\n",
        "\n",
        "plt.title('Distribution of Clusters within Each Neighbourhood Group')\n",
        "plt.ylabel('Count')\n",
        "plt.show()"
      ]
    },
    {
      "cell_type": "markdown",
      "metadata": {
        "id": "yS1yB_O-2XyZ"
      },
      "source": [
        "# k-prototype `revenue_opportunity` `neighbourhood` `latitude` `longitude`"
      ]
    },
    {
      "cell_type": "code",
      "execution_count": null,
      "metadata": {
        "id": "Z5a8r-SK2XyZ"
      },
      "outputs": [],
      "source": [
        "kproto_prep_2 = airbnb[['log_revenue_opportunity', 'neighbourhood', 'latitude', 'longitude']]\n",
        "kproto_prep_2"
      ]
    },
    {
      "cell_type": "markdown",
      "metadata": {
        "id": "0zW9FQo92Xya"
      },
      "source": [
        "Standardise and label encode"
      ]
    },
    {
      "cell_type": "code",
      "execution_count": null,
      "metadata": {
        "id": "ZXCmkby32Xya"
      },
      "outputs": [],
      "source": [
        "# Keep the original latitude and longitude\n",
        "orig_lat = kproto_prep_2['latitude'].copy()\n",
        "orig_long = kproto_prep_2['longitude'].copy()\n",
        "\n",
        "# standardise numeric variables\n",
        "scaler = StandardScaler()\n",
        "kproto_prep_2[['latitude', 'longitude', 'log_revenue_opportunity']] = scaler.fit_transform(kproto_prep_2[['latitude', 'longitude', 'log_revenue_opportunity']])\n",
        "\n",
        "# encode numerical variables\n",
        "le = LabelEncoder()\n",
        "kproto_prep_2['neighbourhood'] = le.fit_transform(kproto_prep_2['neighbourhood'])"
      ]
    },
    {
      "cell_type": "code",
      "execution_count": null,
      "metadata": {
        "id": "qZI6NCXP2Xya"
      },
      "outputs": [],
      "source": [
        "kproto_prep_2"
      ]
    },
    {
      "cell_type": "code",
      "execution_count": null,
      "metadata": {
        "id": "dzinQ5qA2Xya"
      },
      "outputs": [],
      "source": [
        "kproto_prep_2.dtypes"
      ]
    },
    {
      "cell_type": "code",
      "execution_count": null,
      "metadata": {
        "id": "FX-7N5yh2Xya"
      },
      "outputs": [],
      "source": [
        "k_values = []\n",
        "sil_scores = []\n",
        "costs = []\n",
        "\n",
        "for i in range(2,13):\n",
        "    # Initialize K-Prototypes algorithm\n",
        "    kproto = KPrototypes(n_clusters=i, init='Cao', verbose=0)\n",
        "\n",
        "    # Fit and predict clusters\n",
        "    # Specify categorical variables\n",
        "    clusters = kproto.fit_predict(kproto_prep_2.values, categorical=[1])\n",
        "\n",
        "    # Compute silhouette score\n",
        "    SScore = silhouette_score(kproto_prep_2.values, clusters, metric='euclidean')\n",
        "\n",
        "    k_values.append(i)\n",
        "    sil_scores.append(SScore)\n",
        "    costs.append(kproto.cost_)\n",
        "\n",
        "    print(\"Silhouette score for k (clusters) = \" + str(i) + \" is \" + str(SScore))\n",
        "\n",
        "# Plot silhouette scores\n",
        "plt.figure(figsize=(10,5))\n",
        "plt.subplot(1, 2, 1)\n",
        "plt.plot(k_values, sil_scores, 'bx-')\n",
        "plt.xlabel('k (number of clusters)')\n",
        "plt.ylabel('Silhouette Score')\n",
        "plt.title('Silhouette Score vs Number of Clusters')\n",
        "\n",
        "# Plot costs (for the elbow plot)\n",
        "plt.subplot(1, 2, 2)\n",
        "plt.plot(k_values, costs, 'bx-')\n",
        "plt.xlabel('k (number of clusters)')\n",
        "plt.ylabel('Cost')\n",
        "plt.title('Elbow Plot (Cost vs Number of Clusters)')\n",
        "\n",
        "plt.tight_layout()\n",
        "plt.show()"
      ]
    },
    {
      "cell_type": "markdown",
      "metadata": {
        "id": "n2d5a5-12Xya"
      },
      "source": [
        "## Above results show that 6 clusters are optimal, continue analysis:"
      ]
    },
    {
      "cell_type": "code",
      "execution_count": null,
      "metadata": {
        "id": "E-IWLjtN2Xya"
      },
      "outputs": [],
      "source": [
        "# Initialize K-Prototypes algorithm\n",
        "kproto = KPrototypes(n_clusters=6, init='Cao', verbose=0)\n",
        "\n",
        "# Fit and predict clusters\n",
        "clusters = kproto.fit_predict(kproto_prep_2.values, categorical=[1])\n",
        "\n",
        "# Add cluster assignments to original data\n",
        "kproto_prep_2['cluster'] = clusters"
      ]
    },
    {
      "cell_type": "code",
      "execution_count": null,
      "metadata": {
        "id": "wD6_GHuf2Xyb"
      },
      "outputs": [],
      "source": [
        "kproto_prep_2"
      ]
    },
    {
      "cell_type": "markdown",
      "metadata": {
        "id": "X5cBECsm2Xyb"
      },
      "source": [
        "measure cluster size"
      ]
    },
    {
      "cell_type": "code",
      "execution_count": null,
      "metadata": {
        "id": "0k7sMOQS2Xyb"
      },
      "outputs": [],
      "source": [
        "kproto_prep_2['cluster'].value_counts()"
      ]
    },
    {
      "cell_type": "markdown",
      "metadata": {
        "id": "Lp7z9AKS2Xyb"
      },
      "source": [
        "## Plot map"
      ]
    },
    {
      "cell_type": "code",
      "execution_count": null,
      "metadata": {
        "id": "QRgsNw872Xyb"
      },
      "outputs": [],
      "source": [
        "plt.figure(figsize=(12,8))\n",
        "plt.style.use('fast')\n",
        "\n",
        "# Set the boundary of the map using longitude and latitude obtained from Google Maps\n",
        "coordinates = (-74.2623, -73.6862, 40.4943, 40.9144)\n",
        "\n",
        "map = mpimg.imread(\"New_York_City.jpg\")\n",
        "plt.imshow(map,extent=coordinates)\n",
        "\n",
        "# Group by cluster labels instead of neighbourhood group\n",
        "clusters = kproto_prep_2.groupby('cluster')\n",
        "\n",
        "# Loop through each cluster and plot the listings in it\n",
        "for name, group in clusters:\n",
        "    plt.scatter(group['longitude'], group['latitude'], label=name, edgecolors='black')\n",
        "\n",
        "plt.xlabel('Longitude')\n",
        "plt.ylabel('Latitude')\n",
        "plt.title('Properties by Cluster')\n",
        "plt.legend()"
      ]
    },
    {
      "cell_type": "markdown",
      "metadata": {
        "id": "dWFMhcR92Xyb"
      },
      "source": [
        "Place original lat & long back so the results can be plotted on the map"
      ]
    },
    {
      "cell_type": "code",
      "execution_count": null,
      "metadata": {
        "id": "1YjPFlR-2Xyb"
      },
      "outputs": [],
      "source": [
        "kproto_prep_2_org_lat_long = kproto_prep_2.copy()\n",
        "\n",
        "kproto_prep_2_org_lat_long['latitude'] = orig_lat\n",
        "kproto_prep_2_org_lat_long['longitude'] = orig_long\n",
        "\n",
        "kproto_prep_2_org_lat_long"
      ]
    },
    {
      "cell_type": "code",
      "execution_count": null,
      "metadata": {
        "id": "rKocreDi2Xyb"
      },
      "outputs": [],
      "source": [
        "plt.figure(figsize=(12,8))\n",
        "plt.style.use('fast')\n",
        "\n",
        "# Set the boundary of the map using longitude and latitude obtained from Google Maps\n",
        "coordinates = (-74.2623, -73.6862, 40.4943, 40.9144)\n",
        "\n",
        "map = mpimg.imread(\"New_York_City.jpg\")\n",
        "plt.imshow(map,extent=coordinates)\n",
        "\n",
        "# Group by cluster labels instead of neighbourhood group\n",
        "clusters = kproto_prep_2_org_lat_long.groupby('cluster')\n",
        "\n",
        "# Loop through each cluster and plot the listings in it\n",
        "for name, group in clusters:\n",
        "    plt.scatter(group['longitude'], group['latitude'], label=name, edgecolors='black')\n",
        "\n",
        "plt.xlabel('Longitude')\n",
        "plt.ylabel('Latitude')\n",
        "plt.title('Properties by Cluster')\n",
        "plt.legend()"
      ]
    },
    {
      "cell_type": "markdown",
      "metadata": {
        "id": "FHj3sExK2Xyb"
      },
      "source": [
        "This looks interesting. Lets explore the data with summary statistics for each cluster group"
      ]
    },
    {
      "cell_type": "code",
      "execution_count": null,
      "metadata": {
        "id": "EYzM5Sj92Xyb"
      },
      "outputs": [],
      "source": [
        "cluster_summary = kproto_prep_2_org_lat_long.groupby('cluster')['log_revenue_opportunity'].describe()\n",
        "cluster_summary"
      ]
    },
    {
      "cell_type": "code",
      "execution_count": null,
      "metadata": {
        "id": "4RjcBtLn2Xyc"
      },
      "outputs": [],
      "source": [
        "# Boxplot of 'log_price' for each cluster\n",
        "plt.figure(figsize=(12, 8))\n",
        "sns.boxplot(x='cluster', y='log_revenue_opportunity', data=kproto_prep_2_org_lat_long)\n",
        "plt.title('Revenue Distribution per Cluster')\n",
        "plt.show()"
      ]
    },
    {
      "cell_type": "markdown",
      "metadata": {
        "id": "JOLJIp7d2Xyc"
      },
      "source": [
        "## ANOVA results"
      ]
    },
    {
      "cell_type": "code",
      "execution_count": null,
      "metadata": {
        "id": "Vag9P0Z_2Xyc"
      },
      "outputs": [],
      "source": [
        "anova_results = st.f_oneway(*(kproto_prep_2_org_lat_long['log_revenue_opportunity'][kproto_prep_2_org_lat_long['cluster'] == cluster] for cluster in kproto_prep_2_org_lat_long['cluster'].unique()))\n",
        "anova_results"
      ]
    },
    {
      "cell_type": "markdown",
      "metadata": {
        "id": "cHo0qNQY2Xyc"
      },
      "source": [
        "The above would suggest that the price is significantly different across the clusters."
      ]
    },
    {
      "cell_type": "code",
      "execution_count": null,
      "metadata": {
        "id": "YAwN8kHn2Xyc"
      },
      "outputs": [],
      "source": [
        "room_counts = kproto_prep_2_org_lat_long.groupby(['cluster', airbnb['room_type']]).size().unstack()\n",
        "room_counts.plot(kind='bar', stacked=True)\n",
        "plt.title('Counts of Room Types in Different Clusters')\n",
        "plt.show()"
      ]
    },
    {
      "cell_type": "markdown",
      "metadata": {
        "id": "FBmg5hr32Xyc"
      },
      "source": [
        "## Add `neighbourhood_group` back to see which group is in which cluster"
      ]
    },
    {
      "cell_type": "code",
      "execution_count": null,
      "metadata": {
        "id": "aZoimY8Z2Xyc"
      },
      "outputs": [],
      "source": [
        "# put neighbourhoods back\n",
        "kproto_prep_2_org_lat_long['neighbourhood_group'] = airbnb['neighbourhood_group']"
      ]
    },
    {
      "cell_type": "code",
      "execution_count": null,
      "metadata": {
        "id": "R7L2dIyh2Xyc"
      },
      "outputs": [],
      "source": [
        "kproto_prep_2_org_lat_long"
      ]
    },
    {
      "cell_type": "code",
      "execution_count": null,
      "metadata": {
        "id": "bHiPgxw22Xyc"
      },
      "outputs": [],
      "source": [
        "plt.figure(figsize=(10, 8))\n",
        "sns.countplot(data=kproto_prep_2_org_lat_long, x='neighbourhood_group', hue='cluster')\n",
        "\n",
        "plt.title('Distribution of Clusters within Each Neighbourhood Group')\n",
        "plt.ylabel('Count')\n",
        "plt.show()"
      ]
    },
    {
      "cell_type": "markdown",
      "metadata": {
        "id": "6DwIhRlB2Xyd"
      },
      "source": [
        "# KMEANS clustering `revenue_opportunity`"
      ]
    },
    {
      "cell_type": "markdown",
      "metadata": {
        "id": "dTEgPoDF2Xyd"
      },
      "source": [
        "Only left with numerical variables, thus run kmeans"
      ]
    },
    {
      "cell_type": "code",
      "execution_count": null,
      "metadata": {
        "scrolled": true,
        "id": "7NbSTGRp2Xyd"
      },
      "outputs": [],
      "source": [
        "# create reduced dataframe\n",
        "kmeans_run = airbnb[['log_revenue_opportunity']]\n",
        "kmeans_run"
      ]
    },
    {
      "cell_type": "markdown",
      "metadata": {
        "id": "WQkcXRqo2Xyd"
      },
      "source": [
        "Standardise (not really required with one variable, but still normalising for consistency)"
      ]
    },
    {
      "cell_type": "code",
      "execution_count": null,
      "metadata": {
        "id": "PobT7aOc2Xyd"
      },
      "outputs": [],
      "source": [
        "# standardise numeric variables\n",
        "scaler = StandardScaler()\n",
        "kmeans_run[['log_revenue_opportunity']] = scaler.fit_transform(kmeans_run[['log_revenue_opportunity']])"
      ]
    },
    {
      "cell_type": "code",
      "execution_count": null,
      "metadata": {
        "scrolled": true,
        "id": "nH16YgOE2Xyd"
      },
      "outputs": [],
      "source": [
        "kmeans_run"
      ]
    },
    {
      "cell_type": "code",
      "execution_count": null,
      "metadata": {
        "id": "TxX3sZXR2Xyd"
      },
      "outputs": [],
      "source": [
        "kmeans_run.dtypes"
      ]
    },
    {
      "cell_type": "code",
      "execution_count": null,
      "metadata": {
        "scrolled": true,
        "id": "2WARJqK82Xyd"
      },
      "outputs": [],
      "source": [
        "k_values = []\n",
        "sil_scores = []\n",
        "sq_distances = []\n",
        "\n",
        "for i in range(2,13):\n",
        "    # Initialize KMeans algorithm\n",
        "    # 12 times per run to find the optimal centroids\n",
        "    # random_state to ensure the same clusters every time we run this\n",
        "    kmeans = KMeans(n_clusters=i, init='k-means++', n_init=12, random_state=0)\n",
        "\n",
        "    # Fit and predict clusters\n",
        "    clusters = kmeans.fit_predict(kmeans_run)\n",
        "\n",
        "    # Compute silhouette score\n",
        "    SScore = silhouette_score(kmeans_run, clusters, metric='euclidean')\n",
        "\n",
        "    # Append to the lists\n",
        "    k_values.append(i)\n",
        "    sil_scores.append(SScore)\n",
        "    sq_distances.append(kmeans.inertia_)  # Sum of squared distances to closest centroid\n",
        "\n",
        "    print(\"Silhouette score for k (clusters) = \" + str(i) + \" is \" + str(SScore))\n",
        "\n",
        "# Plot silhouette scores\n",
        "plt.figure(figsize=(10,5))\n",
        "plt.subplot(1, 2, 1)\n",
        "plt.plot(k_values, sil_scores, 'bx-')\n",
        "plt.xlabel('k (number of clusters)')\n",
        "plt.ylabel('Silhouette Score')\n",
        "plt.title('Silhouette Score vs Number of Clusters')\n",
        "\n",
        "# Plot sum of squared distances (for the elbow plot)\n",
        "plt.subplot(1, 2, 2)\n",
        "plt.plot(k_values, sq_distances, 'bx-')\n",
        "plt.xlabel('k (number of clusters)')\n",
        "plt.ylabel('Sum of Squared Distances')\n",
        "plt.title('Elbow Plot (Sum of Squared Distances vs Number of Clusters)')\n",
        "\n",
        "plt.tight_layout()\n",
        "plt.show()"
      ]
    },
    {
      "cell_type": "markdown",
      "metadata": {
        "id": "hcYwu5GJ2Xyd"
      },
      "source": [
        "## now run kmeans with optimal clusters\n",
        "\n",
        "### the elbow is at 5 but the silhouette score is higher with less clusters, meeting at 4\n",
        "\n",
        "### continue analysis with 4 clusters"
      ]
    },
    {
      "cell_type": "code",
      "execution_count": null,
      "metadata": {
        "id": "I-_xcFTi2Xyd"
      },
      "outputs": [],
      "source": [
        "# Initialize KMeans algorithm\n",
        "# 12 times per run to find the optimal centroids\n",
        "# random_state to ensure the same clusters every time we run this\n",
        "kmeans_optimal = KMeans(n_clusters=4, init='k-means++', n_init=12, random_state=0)\n",
        "\n",
        "# Fit and predict clusters\n",
        "clusters_optimal = kmeans_optimal.fit_predict(kmeans_run)"
      ]
    },
    {
      "cell_type": "code",
      "execution_count": null,
      "metadata": {
        "id": "khgjp6dH2Xyd"
      },
      "outputs": [],
      "source": [
        "kmeans_run['cluster'] = clusters_optimal\n",
        "kmeans_run"
      ]
    },
    {
      "cell_type": "code",
      "execution_count": null,
      "metadata": {
        "scrolled": false,
        "id": "5NN8heB_2Xyd"
      },
      "outputs": [],
      "source": [
        "kmeans_run['cluster'].value_counts()"
      ]
    },
    {
      "cell_type": "markdown",
      "metadata": {
        "id": "xnhw9kUx2Xye"
      },
      "source": [
        "Place original lat & long back so the results can be plotted on the map"
      ]
    },
    {
      "cell_type": "code",
      "execution_count": null,
      "metadata": {
        "id": "p9vgF2zk2Xye"
      },
      "outputs": [],
      "source": [
        "kmeans_run['latitude'] = orig_lat\n",
        "kmeans_run['longitude'] = orig_long"
      ]
    },
    {
      "cell_type": "code",
      "execution_count": null,
      "metadata": {
        "id": "JNFOTjx22Xye"
      },
      "outputs": [],
      "source": [
        "plt.figure(figsize=(12,8))\n",
        "plt.style.use('fast')\n",
        "\n",
        "# Set the boundary of the map using longitude and latitude obtained from Google Maps\n",
        "coordinates = (-74.2623, -73.6862, 40.4943, 40.9144)\n",
        "\n",
        "map = mpimg.imread(\"New_York_City.jpg\")\n",
        "plt.imshow(map,extent=coordinates)\n",
        "\n",
        "# Group by cluster labels instead of neighbourhood group\n",
        "clusters = kmeans_run.groupby('cluster')\n",
        "\n",
        "# Loop through each cluster and plot the listings in it\n",
        "for name, group in clusters:\n",
        "    plt.scatter(group['longitude'], group['latitude'], label=name, edgecolors='black')\n",
        "\n",
        "plt.xlabel('Longitude')\n",
        "plt.ylabel('Latitude')\n",
        "plt.title('Properties by Cluster')\n",
        "plt.legend()"
      ]
    },
    {
      "cell_type": "markdown",
      "metadata": {
        "id": "jahN7oYs2Xye"
      },
      "source": [
        "Lets explore the data with summary statistics for each cluster group"
      ]
    },
    {
      "cell_type": "code",
      "execution_count": null,
      "metadata": {
        "id": "iNpKTB7I2Xye"
      },
      "outputs": [],
      "source": [
        "cluster_summary = kmeans_run.groupby('cluster')['log_revenue_opportunity'].describe()\n",
        "print(cluster_summary)"
      ]
    },
    {
      "cell_type": "code",
      "execution_count": null,
      "metadata": {
        "scrolled": true,
        "id": "dSy9Isxe2Xye"
      },
      "outputs": [],
      "source": [
        "# Boxplot of 'log_price' for each cluster\n",
        "plt.figure(figsize=(12, 8))\n",
        "sns.boxplot(x='cluster', y='log_revenue_opportunity', data=kmeans_run)\n",
        "plt.title('Revenue Distribution per Cluster')\n",
        "plt.show()"
      ]
    },
    {
      "cell_type": "markdown",
      "metadata": {
        "id": "eQ4qEpYd2Xye"
      },
      "source": [
        "## ANOVA results"
      ]
    },
    {
      "cell_type": "code",
      "execution_count": null,
      "metadata": {
        "id": "SeJhUL3Y2Xye"
      },
      "outputs": [],
      "source": [
        "anova_results = st.f_oneway(*(kmeans_run['log_revenue_opportunity'][kmeans_run['cluster'] == cluster] for cluster in kmeans_run['cluster'].unique()))\n",
        "anova_results"
      ]
    },
    {
      "cell_type": "markdown",
      "metadata": {
        "id": "yx67eTsb2Xye"
      },
      "source": [
        "The above would suggest that the price is significantly different across the clusters."
      ]
    },
    {
      "cell_type": "markdown",
      "metadata": {
        "id": "aXnO1ZPd2Xye"
      },
      "source": [
        "# Add `neighbourhood_group` back to see which group is in which cluster"
      ]
    },
    {
      "cell_type": "code",
      "execution_count": null,
      "metadata": {
        "id": "YuDR6qLg2Xye"
      },
      "outputs": [],
      "source": [
        "# put neighbourhoods back\n",
        "kmeans_run['neighbourhood_group'] = airbnb['neighbourhood_group']"
      ]
    },
    {
      "cell_type": "code",
      "execution_count": null,
      "metadata": {
        "scrolled": true,
        "id": "YQ_zAN-Y2Xye"
      },
      "outputs": [],
      "source": [
        "plt.figure(figsize=(10, 8))\n",
        "sns.countplot(data=kmeans_run, x='neighbourhood_group', hue='cluster')\n",
        "\n",
        "plt.title('Distribution of Clusters within Each Neighbourhood Group')\n",
        "plt.ylabel('Count')\n",
        "plt.show()"
      ]
    },
    {
      "cell_type": "markdown",
      "metadata": {
        "id": "8E9ZGKQ12Xyf"
      },
      "source": [
        "# DBSCAN clustering"
      ]
    },
    {
      "cell_type": "code",
      "execution_count": null,
      "metadata": {
        "id": "IzkW7jh92Xyf"
      },
      "outputs": [],
      "source": [
        "# keeping less than we're dropping so just picking those features\n",
        "cluster_data = airbnb[['price', 'log_price', 'neighbourhood_group', 'latitude', 'longitude', 'room_type', 'revenue_opportunity', 'log_revenue_opportunity', 'availability_365']]\n",
        "cluster_data"
      ]
    },
    {
      "cell_type": "code",
      "execution_count": null,
      "metadata": {
        "id": "qMFvozMc2Xyf"
      },
      "outputs": [],
      "source": [
        "# Create a copy of the data\n",
        "cluster_data_prepared = cluster_data.copy()\n",
        "\n",
        "# Encode categorical variables\n",
        "le = LabelEncoder()\n",
        "cluster_data_prepared['room_type_xform'] = le.fit_transform(cluster_data['room_type'])\n",
        "\n",
        "cluster_data_prepared"
      ]
    },
    {
      "cell_type": "markdown",
      "metadata": {
        "id": "wDHDzKaG2Xyf"
      },
      "source": [
        "Plot a k-distance graph to set eps as the point of maximum curvture"
      ]
    },
    {
      "cell_type": "code",
      "execution_count": null,
      "metadata": {
        "id": "sq2pcobb2Xyf"
      },
      "outputs": [],
      "source": [
        "neigh = NearestNeighbors(n_neighbors=2)\n",
        "nbrs = neigh.fit(cluster_data_prepared[['log_price','room_type_xform']])\n",
        "distances, indices = nbrs.kneighbors(cluster_data_prepared[['log_price','room_type_xform']])"
      ]
    },
    {
      "cell_type": "code",
      "execution_count": null,
      "metadata": {
        "id": "kFoNyc_m2Xyf"
      },
      "outputs": [],
      "source": [
        "# Plotting K-distance Graph\n",
        "distances = np.sort(distances, axis=0)\n",
        "distances = distances[:,1]\n",
        "plt.figure(figsize=(20,10))\n",
        "plt.plot(distances)\n",
        "plt.title('K-distance Graph',fontsize=20)\n",
        "plt.xlabel('Data Points sorted by distance',fontsize=14)\n",
        "plt.ylabel('Epsilon',fontsize=14)\n",
        "plt.show()"
      ]
    },
    {
      "cell_type": "markdown",
      "metadata": {
        "id": "0k1zNJmt2Xyf"
      },
      "source": [
        "This doesn't help much other than confirming the value of eps should be very small. It looks like 0.01 or possibly even smaller.\n",
        "\n",
        "After experimentation an eps of 0.1 gave good results"
      ]
    },
    {
      "cell_type": "code",
      "execution_count": null,
      "metadata": {
        "scrolled": true,
        "id": "dLfJqyY82Xyf"
      },
      "outputs": [],
      "source": [
        "dbscan=DBSCAN(eps=0.1,min_samples=9)\n",
        "dbscan.fit(cluster_data_prepared[['log_price','room_type_xform']])"
      ]
    },
    {
      "cell_type": "code",
      "execution_count": null,
      "metadata": {
        "id": "EQww9jJC2Xyf"
      },
      "outputs": [],
      "source": [
        "# Get the labels of the DBSCAN clustering\n",
        "labels = dbscan.labels_\n",
        "\n",
        "# Compute the silhouette score\n",
        "silhouette_avg = silhouette_score(cluster_data_prepared[['log_price','room_type_xform']], labels)\n",
        "\n",
        "print(\"The average silhouette_score for DBSCAN is :\", silhouette_avg)\n"
      ]
    },
    {
      "cell_type": "code",
      "execution_count": null,
      "metadata": {
        "id": "L2QMbULb2Xyf"
      },
      "outputs": [],
      "source": [
        "cluster_data_prepared['DBSCAN_labels']=dbscan.labels_\n",
        "plt.figure(figsize=(10,10))\n",
        "plt.scatter(cluster_data_prepared['log_price'],cluster_data_prepared['room_type_xform'],c=cluster_data_prepared['DBSCAN_labels'])\n",
        "plt.title('DBSCAN Clustering',fontsize=20)\n",
        "plt.xlabel('Feature 1',fontsize=14)\n",
        "plt.ylabel('Feature 2',fontsize=14)\n",
        "plt.show()"
      ]
    },
    {
      "cell_type": "code",
      "execution_count": null,
      "metadata": {
        "id": "qHEnFBUB2Xyg"
      },
      "outputs": [],
      "source": [
        "cluster_data_prepared"
      ]
    },
    {
      "cell_type": "code",
      "execution_count": null,
      "metadata": {
        "id": "WTaL4pPV2Xyg"
      },
      "outputs": [],
      "source": [
        "plt.figure(figsize=(12,8))\n",
        "plt.style.use('fast')\n",
        "# Set the boundary of the map using longitude and latitude obtained from Google Maps\n",
        "coordinates = (-74.2623, -73.6862, 40.4943, 40.9144)\n",
        "map = mpimg.imread(\"New_York_City.jpg\")\n",
        "plt.imshow(map,extent=coordinates)\n",
        "groups = cluster_data_prepared.groupby('DBSCAN_labels')\n",
        "for name,group in groups :\n",
        "     plt.scatter(group['longitude'],group['latitude'], label=name, edgecolors='black')\n",
        "plt.xlabel('Longitude')\n",
        "plt.ylabel('Latitude')\n",
        "plt.title('Properties by cluster')\n",
        "plt.legend()"
      ]
    },
    {
      "cell_type": "markdown",
      "metadata": {
        "id": "qgIA-wYL2Xyg"
      },
      "source": [
        "Export to a file to see how the clusters are made up"
      ]
    },
    {
      "cell_type": "code",
      "execution_count": null,
      "metadata": {
        "id": "lZxEkuWa2Xyg"
      },
      "outputs": [],
      "source": [
        "cluster_data_prepared.to_csv('clusters.csv', index=False)"
      ]
    },
    {
      "cell_type": "markdown",
      "metadata": {
        "id": "XatWqInn2Xyg"
      },
      "source": [
        "Create a separate dataframe for each cluster and plot them separately"
      ]
    },
    {
      "cell_type": "code",
      "execution_count": null,
      "metadata": {
        "id": "_hls4kMx2Xyg"
      },
      "outputs": [],
      "source": [
        "Cluster_1 = cluster_data_prepared[cluster_data_prepared['DBSCAN_labels'] == -1]\n",
        "Cluster0 = cluster_data_prepared[cluster_data_prepared['DBSCAN_labels'] == 0]\n",
        "Cluster1 = cluster_data_prepared[cluster_data_prepared['DBSCAN_labels'] == 1]\n",
        "Cluster2 = cluster_data_prepared[cluster_data_prepared['DBSCAN_labels'] == 2]\n",
        "Cluster3 = cluster_data_prepared[cluster_data_prepared['DBSCAN_labels'] == 3]\n",
        "Cluster4 = cluster_data_prepared[cluster_data_prepared['DBSCAN_labels'] == 4]\n",
        "Cluster5 = cluster_data_prepared[cluster_data_prepared['DBSCAN_labels'] == 5]"
      ]
    },
    {
      "cell_type": "markdown",
      "metadata": {
        "id": "ii_z1o-I2Xyg"
      },
      "source": [
        "Check room types per cluster"
      ]
    },
    {
      "cell_type": "code",
      "execution_count": null,
      "metadata": {
        "id": "OoA03rdI2Xyg"
      },
      "outputs": [],
      "source": [
        "plt.figure(figsize=(10, 8))\n",
        "sns.countplot(data=cluster_data_prepared, x='DBSCAN_labels', hue='room_type')\n",
        "\n",
        "plt.title('Distribution of Clusters within Each Neighbourhood Group')\n",
        "plt.ylabel('Count')\n",
        "plt.show()"
      ]
    },
    {
      "cell_type": "code",
      "execution_count": null,
      "metadata": {
        "id": "jnVM9Grn2Xyg"
      },
      "outputs": [],
      "source": [
        "print(\"Cluster -1 room types:\", pd.unique(Cluster_1['room_type']))\n",
        "print(\"Cluster 0 room types:\", pd.unique(Cluster0['room_type']))\n",
        "print(\"Cluster 1 room types:\", pd.unique(Cluster1['room_type']))\n",
        "print(\"Cluster 2 room types:\", pd.unique(Cluster2['room_type']))\n",
        "print(\"Cluster 3 room types:\", pd.unique(Cluster3['room_type']))\n",
        "print(\"Cluster 4 room types:\", pd.unique(Cluster4['room_type']))\n",
        "print(\"Cluster 5 room types:\", pd.unique(Cluster5['room_type']))"
      ]
    },
    {
      "cell_type": "markdown",
      "metadata": {
        "id": "YyQbB9WC2Xyg"
      },
      "source": [
        "We can see that other than the outliers, each cluster has just one room type"
      ]
    },
    {
      "cell_type": "markdown",
      "metadata": {
        "id": "IsmQWVic2Xyg"
      },
      "source": [
        "Boxplot of price for each cluster"
      ]
    },
    {
      "cell_type": "code",
      "execution_count": null,
      "metadata": {
        "id": "AX4vID1S2Xyh"
      },
      "outputs": [],
      "source": [
        "plt.figure(figsize=(12, 8))\n",
        "sns.boxplot(x='DBSCAN_labels', y='price', data=cluster_data_prepared)\n",
        "plt.title('Price Distribution per Cluster')\n",
        "plt.axis(ymin=0, ymax=5000)\n",
        "plt.show()"
      ]
    },
    {
      "cell_type": "markdown",
      "metadata": {
        "id": "si1NT-PC2Xyh"
      },
      "source": [
        "We can also see clustering based upon price.\n",
        "\n",
        "So the clusters are based upon room type and price:\n",
        "Cluster 0 = Private room priced 20 - 1,200\n",
        "Cluster 1 = Entire home/apt priced 34 - 1,800\n",
        "Cluster 2 = Shared room priced 19 - 165\n",
        "Cluster 3 = Entire home/apt priced 1,999 - 3,518\n",
        "Cluster 4 = Shared room priced 195 - 235\n",
        "Cluster 5 = Entire home/apt priced 4,000 - 4,500"
      ]
    },
    {
      "cell_type": "markdown",
      "metadata": {
        "id": "AkgetTHQ2Xyh"
      },
      "source": [
        "Now we plot the clusters on the map"
      ]
    },
    {
      "cell_type": "code",
      "execution_count": null,
      "metadata": {
        "id": "U0M1O-l62Xyh"
      },
      "outputs": [],
      "source": [
        "# Cluster 0\n",
        "plt.figure(figsize=(12,8))\n",
        "plt.style.use('fast')\n",
        "# Set the boundary of the map using longitude and latitude obtained from Google Maps\n",
        "coordinates = (-74.2623, -73.6862, 40.4943, 40.9144)\n",
        "map = mpimg.imread(\"New_York_City.jpg\")\n",
        "plt.imshow(map,extent=coordinates)\n",
        "\n",
        "plt.scatter(Cluster0['longitude'],Cluster0['latitude'], edgecolors='black')\n",
        "plt.xlabel('Longitude')\n",
        "plt.ylabel('Latitude')\n",
        "plt.title('Properties in cluster 0: Private room priced 20 - 1,200')\n",
        "plt.legend()"
      ]
    },
    {
      "cell_type": "code",
      "execution_count": null,
      "metadata": {
        "id": "prvFPbws2Xyh"
      },
      "outputs": [],
      "source": [
        "# Cluster 1\n",
        "plt.figure(figsize=(12,8))\n",
        "plt.style.use('fast')\n",
        "# Set the boundary of the map using longitude and latitude obtained from Google Maps\n",
        "coordinates = (-74.2623, -73.6862, 40.4943, 40.9144)\n",
        "map = mpimg.imread(\"New_York_City.jpg\")\n",
        "plt.imshow(map,extent=coordinates)\n",
        "\n",
        "plt.scatter(Cluster1['longitude'],Cluster1['latitude'], edgecolors='black')\n",
        "plt.xlabel('Longitude')\n",
        "plt.ylabel('Latitude')\n",
        "plt.title('Properties in cluster 1: Entire home/apt priced 34 - 1,800')\n",
        "plt.legend()"
      ]
    },
    {
      "cell_type": "code",
      "execution_count": null,
      "metadata": {
        "id": "RqA76TV62Xyh"
      },
      "outputs": [],
      "source": [
        "# Clusters 2 and 4\n",
        "plt.figure(figsize=(12,8))\n",
        "plt.style.use('fast')\n",
        "# Set the boundary of the map using longitude and latitude obtained from Google Maps\n",
        "coordinates = (-74.2623, -73.6862, 40.4943, 40.9144)\n",
        "map = mpimg.imread(\"New_York_City.jpg\")\n",
        "plt.imshow(map,extent=coordinates)\n",
        "cluster_2_and_4 = cluster_data_prepared[(cluster_data_prepared['DBSCAN_labels'] == 2) | (cluster_data_prepared['DBSCAN_labels'] == 4)]\n",
        "groups = cluster_2_and_4.groupby('DBSCAN_labels')\n",
        "for name,group in groups :\n",
        "     plt.scatter(group['longitude'],group['latitude'], label=name, edgecolors='black')\n",
        "plt.xlabel('Longitude')\n",
        "plt.ylabel('Latitude')\n",
        "plt.title('Properties in clusters 2 (Shared room priced 19 - 165) and 4 (Shared room priced 195 - 235)')\n",
        "plt.legend()"
      ]
    },
    {
      "cell_type": "code",
      "execution_count": null,
      "metadata": {
        "id": "yWX-8VNt2Xyh"
      },
      "outputs": [],
      "source": [
        "# Clusters 3 and 5\n",
        "plt.figure(figsize=(12,8))\n",
        "plt.style.use('fast')\n",
        "# Set the boundary of the map using longitude and latitude obtained from Google Maps\n",
        "coordinates = (-74.2623, -73.6862, 40.4943, 40.9144)\n",
        "map = mpimg.imread(\"New_York_City.jpg\")\n",
        "plt.imshow(map,extent=coordinates)\n",
        "cluster_3_and_5 = cluster_data_prepared[(cluster_data_prepared['DBSCAN_labels'] == 3) | (cluster_data_prepared['DBSCAN_labels'] == 5)]\n",
        "groups = cluster_3_and_5.groupby('DBSCAN_labels')\n",
        "for name,group in groups :\n",
        "     plt.scatter(group['longitude'],group['latitude'], label=name, edgecolors='black')\n",
        "plt.xlabel('Longitude')\n",
        "plt.ylabel('Latitude')\n",
        "plt.title('Properties in clusters 3 (Entire home/apt priced 1,999 - 3,518) and 5 (Entire home/apt priced 4,000 - 4,500)')\n",
        "plt.legend()"
      ]
    },
    {
      "cell_type": "markdown",
      "metadata": {
        "id": "meGe2bfQ2Xyh"
      },
      "source": [
        "## DBSCAN using revenue opportunity, room type and neighbourhood group"
      ]
    },
    {
      "cell_type": "code",
      "execution_count": null,
      "metadata": {
        "id": "LGFS5mZC2Xyh"
      },
      "outputs": [],
      "source": [
        "le = LabelEncoder()\n",
        "cluster_data_prepared['neighbourhood_group_xform'] = le.fit_transform(cluster_data['neighbourhood_group'])"
      ]
    },
    {
      "cell_type": "code",
      "execution_count": null,
      "metadata": {
        "scrolled": true,
        "id": "U0kphdDs2Xyh"
      },
      "outputs": [],
      "source": [
        "dbscan=DBSCAN(eps=0.9,min_samples=9)\n",
        "dbscan.fit(cluster_data_prepared[['log_revenue_opportunity','room_type_xform','neighbourhood_group_xform']])"
      ]
    },
    {
      "cell_type": "code",
      "execution_count": null,
      "metadata": {
        "id": "3cEB21xb2Xyh"
      },
      "outputs": [],
      "source": [
        "# Get the labels of the DBSCAN clustering\n",
        "labels = dbscan.labels_\n",
        "\n",
        "# Compute the silhouette score\n",
        "silhouette_avg = silhouette_score(cluster_data_prepared[['log_revenue_opportunity', 'room_type_xform', 'neighbourhood_group_xform']], labels)\n",
        "\n",
        "print(\"The average silhouette_score for DBSCAN is :\", silhouette_avg)\n"
      ]
    },
    {
      "cell_type": "code",
      "execution_count": null,
      "metadata": {
        "id": "E8iIukLj2Xyi"
      },
      "outputs": [],
      "source": [
        "cluster_data_prepared['DBSCAN_labels']=dbscan.labels_\n",
        "plt.figure(figsize=(10,10))\n",
        "plt.scatter(cluster_data_prepared['log_revenue_opportunity'],cluster_data_prepared['room_type_xform'],cluster_data_prepared['neighbourhood_group_xform'],c=cluster_data_prepared['DBSCAN_labels'])\n",
        "plt.title('DBSCAN Clustering',fontsize=20)\n",
        "plt.xlabel('Feature 1',fontsize=14)\n",
        "plt.ylabel('Feature 2',fontsize=14)\n",
        "plt.show()"
      ]
    },
    {
      "cell_type": "code",
      "execution_count": null,
      "metadata": {
        "id": "QHeSGxSn2Xyi"
      },
      "outputs": [],
      "source": [
        "cluster_data_prepared"
      ]
    },
    {
      "cell_type": "code",
      "execution_count": null,
      "metadata": {
        "id": "mx9TfaqQ2Xyi"
      },
      "outputs": [],
      "source": [
        "plt.figure(figsize=(12,8))\n",
        "plt.style.use('fast')\n",
        "# Set the boundary of the map using longitude and latitude obtained from Google Maps\n",
        "coordinates = (-74.2623, -73.6862, 40.4943, 40.9144)\n",
        "map = mpimg.imread(\"New_York_City.jpg\")\n",
        "plt.imshow(map,extent=coordinates)\n",
        "groups = cluster_data_prepared.groupby('DBSCAN_labels')\n",
        "for name,group in groups :\n",
        "     plt.scatter(group['longitude'],group['latitude'], label=name, edgecolors='black')\n",
        "plt.xlabel('Longitude')\n",
        "plt.ylabel('Latitude')\n",
        "plt.title('Properties by cluster')\n",
        "plt.legend()"
      ]
    },
    {
      "cell_type": "markdown",
      "metadata": {
        "id": "zlOqOBcd2Xyi"
      },
      "source": [
        "Plot only Queens, having already identified it as having the highest potential revenue opportunity."
      ]
    },
    {
      "cell_type": "code",
      "execution_count": null,
      "metadata": {
        "id": "gkUtdpbT2Xyi"
      },
      "outputs": [],
      "source": [
        "plt.figure(figsize=(12,8))\n",
        "plt.style.use('fast')\n",
        "# Set the boundary of the map using longitude and latitude obtained from Google Maps\n",
        "coordinates = (-74.2623, -73.6862, 40.4943, 40.9144)\n",
        "map = mpimg.imread(\"New_York_City.jpg\")\n",
        "plt.imshow(map,extent=coordinates)\n",
        "Queens = cluster_data_prepared[(cluster_data_prepared['DBSCAN_labels'] == 5) | (cluster_data_prepared['DBSCAN_labels'] == 8) | (cluster_data_prepared['DBSCAN_labels'] == 11)]\n",
        "groups = Queens.groupby('DBSCAN_labels')\n",
        "for name,group in groups :\n",
        "     plt.scatter(group['longitude'],group['latitude'], label=name, edgecolors='black')\n",
        "plt.xlabel('Longitude')\n",
        "plt.ylabel('Latitude')\n",
        "plt.title('Properties by cluster')\n",
        "plt.legend()"
      ]
    },
    {
      "cell_type": "code",
      "execution_count": null,
      "metadata": {
        "id": "dImEBAzv2Xyi"
      },
      "outputs": [],
      "source": [
        "plt.figure(figsize=(12, 8))\n",
        "sns.boxplot(x='DBSCAN_labels', y='price', data=cluster_data_prepared)\n",
        "plt.title('Price Distribution per Cluster')\n",
        "plt.axis(ymin=0, ymax=500)\n",
        "plt.show()"
      ]
    },
    {
      "cell_type": "code",
      "execution_count": null,
      "metadata": {
        "id": "L-9YIVjT2Xyi"
      },
      "outputs": [],
      "source": [
        "plt.figure(figsize=(12, 8))\n",
        "sns.boxplot(x='DBSCAN_labels', y='revenue_opportunity', data=cluster_data_prepared)\n",
        "plt.title('Revenue opportunity Distribution per Cluster')\n",
        "plt.axis(ymin=0, ymax=15000)\n",
        "plt.show()"
      ]
    },
    {
      "cell_type": "code",
      "execution_count": null,
      "metadata": {
        "id": "evJF5Uiu2Xyi"
      },
      "outputs": [],
      "source": [
        "plt.figure(figsize=(12, 8))\n",
        "sns.boxplot(x='DBSCAN_labels', y='availability_365', data=cluster_data_prepared)\n",
        "plt.title('Availability Distribution per Cluster')\n",
        "plt.show()"
      ]
    },
    {
      "cell_type": "code",
      "execution_count": null,
      "metadata": {
        "id": "XM76j0xn2Xyi"
      },
      "outputs": [],
      "source": [
        "plt.figure(figsize=(10, 8))\n",
        "sns.countplot(data=cluster_data_prepared, x='DBSCAN_labels', hue='neighbourhood_group')\n",
        "\n",
        "plt.title('Distribution of Clusters within Each Neighbourhood Group')\n",
        "plt.ylabel('Count')\n",
        "plt.show()"
      ]
    },
    {
      "cell_type": "code",
      "execution_count": null,
      "metadata": {
        "id": "rC3Ejt2C2Xyi"
      },
      "outputs": [],
      "source": [
        "Cluster_1 = cluster_data_prepared[cluster_data_prepared['DBSCAN_labels'] == -1]\n",
        "Cluster0 = cluster_data_prepared[cluster_data_prepared['DBSCAN_labels'] == 0]\n",
        "Cluster1 = cluster_data_prepared[cluster_data_prepared['DBSCAN_labels'] == 1]\n",
        "Cluster2 = cluster_data_prepared[cluster_data_prepared['DBSCAN_labels'] == 2]\n",
        "Cluster3 = cluster_data_prepared[cluster_data_prepared['DBSCAN_labels'] == 3]\n",
        "Cluster4 = cluster_data_prepared[cluster_data_prepared['DBSCAN_labels'] == 4]\n",
        "Cluster5 = cluster_data_prepared[cluster_data_prepared['DBSCAN_labels'] == 5]\n",
        "Cluster6 = cluster_data_prepared[cluster_data_prepared['DBSCAN_labels'] == 6]\n",
        "Cluster7 = cluster_data_prepared[cluster_data_prepared['DBSCAN_labels'] == 7]\n",
        "Cluster8 = cluster_data_prepared[cluster_data_prepared['DBSCAN_labels'] == 8]\n",
        "Cluster9 = cluster_data_prepared[cluster_data_prepared['DBSCAN_labels'] == 9]\n",
        "Cluster10 = cluster_data_prepared[cluster_data_prepared['DBSCAN_labels'] == 10]\n",
        "Cluster11 = cluster_data_prepared[cluster_data_prepared['DBSCAN_labels'] == 11]\n",
        "Cluster12 = cluster_data_prepared[cluster_data_prepared['DBSCAN_labels'] == 12]\n",
        "Cluster13 = cluster_data_prepared[cluster_data_prepared['DBSCAN_labels'] == 13]"
      ]
    },
    {
      "cell_type": "code",
      "execution_count": null,
      "metadata": {
        "id": "YoCMt0rl2Xyi"
      },
      "outputs": [],
      "source": [
        "print(\"Cluster -1 room types:\", pd.unique(Cluster_1['room_type']), \"neighbourhood groups:\", pd.unique(Cluster_1['neighbourhood_group']))\n",
        "print(\"Cluster 0 room types:\", pd.unique(Cluster0['room_type']), \"neighbourhood groups:\", pd.unique(Cluster0['neighbourhood_group']))\n",
        "print(\"Cluster 1 room types:\", pd.unique(Cluster1['room_type']), \"neighbourhood groups:\", pd.unique(Cluster1['neighbourhood_group']))\n",
        "print(\"Cluster 2 room types:\", pd.unique(Cluster2['room_type']), \"neighbourhood groups:\", pd.unique(Cluster2['neighbourhood_group']))\n",
        "print(\"Cluster 3 room types:\", pd.unique(Cluster3['room_type']), \"neighbourhood groups:\", pd.unique(Cluster3['neighbourhood_group']))\n",
        "print(\"Cluster 4 room types:\", pd.unique(Cluster4['room_type']), \"neighbourhood groups:\", pd.unique(Cluster4['neighbourhood_group']))\n",
        "print(\"Cluster 5 room types:\", pd.unique(Cluster5['room_type']), \"neighbourhood groups:\", pd.unique(Cluster5['neighbourhood_group']))\n",
        "print(\"Cluster 6 room types:\", pd.unique(Cluster6['room_type']), \"neighbourhood groups:\", pd.unique(Cluster6['neighbourhood_group']))\n",
        "print(\"Cluster 7 room types:\", pd.unique(Cluster7['room_type']), \"neighbourhood groups:\", pd.unique(Cluster7['neighbourhood_group']))\n",
        "print(\"Cluster 8 room types:\", pd.unique(Cluster8['room_type']), \"neighbourhood groups:\", pd.unique(Cluster8['neighbourhood_group']))\n",
        "print(\"Cluster 9 room types:\", pd.unique(Cluster9['room_type']), \"neighbourhood groups:\", pd.unique(Cluster9['neighbourhood_group']))\n",
        "print(\"Cluster 10 room types:\", pd.unique(Cluster10['room_type']), \"neighbourhood groups:\", pd.unique(Cluster10['neighbourhood_group']))\n",
        "print(\"Cluster 11 room types:\", pd.unique(Cluster11['room_type']), \"neighbourhood groups:\", pd.unique(Cluster11['neighbourhood_group']))\n",
        "print(\"Cluster 12 room types:\", pd.unique(Cluster12['room_type']), \"neighbourhood groups:\", pd.unique(Cluster12['neighbourhood_group']))\n",
        "print(\"Cluster 13 room types:\", pd.unique(Cluster13['room_type']), \"neighbourhood groups:\", pd.unique(Cluster13['neighbourhood_group']))"
      ]
    },
    {
      "cell_type": "code",
      "execution_count": null,
      "metadata": {
        "id": "qwOa0pat2Xyj"
      },
      "outputs": [],
      "source": [
        "cluster_summary = cluster_data_prepared.groupby('DBSCAN_labels')['revenue_opportunity'].describe()\n",
        "print(cluster_summary)"
      ]
    },
    {
      "cell_type": "markdown",
      "metadata": {
        "id": "k8aa-cW12Xyj"
      },
      "source": [
        "In order of number of rooms available:\n",
        "\n",
        "Cluster 1 (Entire home/apt in Manhattan) has the highest median revenue opportunity with a relatively low availability, so increasing the availability would significantly increase revenue here.\n",
        "\n",
        "Cluster 3 (Entire home/apt in Brooklyn) has the lowest median availability, moderately high price and high revenue opportunity. Increasing availability and number of customers in this segment would help.\n",
        "\n",
        "Cluster 0 (Private room in Brooklyn) has a low price, low availability and low revenue opportunity even though there is a high count of this property type. This does not seem like a profitable segment to push right now.\n",
        "\n",
        "Cluster 2 (Private room in Mahattan) has moderate price, availability and revenue opportunity.\n",
        "\n",
        "Cluster 5 (Private room in Queens) has good availability but low price and low revenue opportunity.\n",
        "\n",
        "Cluster 8 (Entire home/apt in Queens) good availability and high price and high revenue opportunity.\n",
        "\n",
        "Cluster 7 (Private room on Bronx) has low price, reasonable availability and low revenue opportunity.\n",
        "\n",
        "Cluster 4 (Shared room in Manhattan) has low price, reasonable availability and low revenue opportunity.\n",
        "\n",
        "Cluster 9 (Entire home/apt in Bronx) has moderate price, availability and revenue opportunity.\n",
        "\n",
        "Cluster 12 (Shared room in Brooklyn) has very low price, high availability but low revenue opportunity.\n",
        "\n",
        "Cluster 6 (Private room in Staten Island) has low price, high availability and low revenue opportunity.\n",
        "\n",
        "Cluster 11 (Shared room in Queens) has very low price, high availability but low revenue opportunity.\n",
        "\n",
        "Cluster 10 (Entire home/apt in Staten Island) has moderate price and availability and quite high revenue opportunity.\n",
        "\n",
        "Cluster 13 (Shared room in Bronx) has very low price, low availability and very low revenue opportunity.\n",
        "\n",
        "Cluster -1 contains 43 outliers across all neighbourhood regions effectively \"dropped\"\n",
        "\n",
        "\n",
        "\n",
        "We have already established that Queens is a good place to target in order to increase the number of listed rooms per resident. We also established earlier that Queens has disproportionalely fewer Entire home/appt listings than Manhattan or Brooklyn. Here we see that those Entire home/appt listings that we do have in Queens have a lower price than Manhattan and Brooklyn, but availability similar to Manhatan and higher than Brooklyn, making their revenue opportunity similar to Brooklyn, although still lower than Manhattan. So based upon all of those factors, a focus for Airbnb could be increasing the number of Entire home/appt listings in Queens.\n"
      ]
    },
    {
      "cell_type": "markdown",
      "metadata": {
        "id": "ebQbJSZR2Xyj"
      },
      "source": [
        "# KMEANS clustering `revenue_opportunity` in Queens"
      ]
    },
    {
      "cell_type": "markdown",
      "metadata": {
        "id": "ciijafYH2Xyj"
      },
      "source": [
        "Let's see what Queens looks like clustered on revenue_oportunity.\n",
        "\n",
        "It's a single numerical variable so we can use k-means."
      ]
    },
    {
      "cell_type": "code",
      "execution_count": null,
      "metadata": {
        "scrolled": true,
        "id": "CPmjSi4z2Xyj"
      },
      "outputs": [],
      "source": [
        "# create reduced dataframe\n",
        "kmeans_run = Queens[['log_revenue_opportunity']]\n",
        "kmeans_run"
      ]
    },
    {
      "cell_type": "markdown",
      "metadata": {
        "id": "LNWfc0rH2Xyj"
      },
      "source": [
        "Standardise (not really required with one variable, but still normalising for consistency)"
      ]
    },
    {
      "cell_type": "code",
      "execution_count": null,
      "metadata": {
        "id": "bOOTehUz2Xyj"
      },
      "outputs": [],
      "source": [
        "# standardise numeric variables\n",
        "scaler = StandardScaler()\n",
        "kmeans_run[['log_revenue_opportunity']] = scaler.fit_transform(kmeans_run[['log_revenue_opportunity']])"
      ]
    },
    {
      "cell_type": "code",
      "execution_count": null,
      "metadata": {
        "scrolled": true,
        "id": "KUo3m6so2Xyj"
      },
      "outputs": [],
      "source": [
        "kmeans_run"
      ]
    },
    {
      "cell_type": "code",
      "execution_count": null,
      "metadata": {
        "id": "F1DI7LrI2Xyj"
      },
      "outputs": [],
      "source": [
        "kmeans_run.dtypes"
      ]
    },
    {
      "cell_type": "code",
      "execution_count": null,
      "metadata": {
        "scrolled": true,
        "id": "auZyFXqQ2Xyj"
      },
      "outputs": [],
      "source": [
        "k_values = []\n",
        "sil_scores = []\n",
        "sq_distances = []\n",
        "\n",
        "for i in range(2,13):\n",
        "    # Initialize KMeans algorithm\n",
        "    # 12 times per run to find the optimal centroids\n",
        "    # random_state to ensure the same clusters every time we run this\n",
        "    kmeans = KMeans(n_clusters=i, init='k-means++', n_init=12, random_state=0)\n",
        "\n",
        "    # Fit and predict clusters\n",
        "    clusters = kmeans.fit_predict(kmeans_run)\n",
        "\n",
        "    # Compute silhouette score\n",
        "    SScore = silhouette_score(kmeans_run, clusters, metric='euclidean')\n",
        "\n",
        "    # Append to the lists\n",
        "    k_values.append(i)\n",
        "    sil_scores.append(SScore)\n",
        "    sq_distances.append(kmeans.inertia_)  # Sum of squared distances to closest centroid\n",
        "\n",
        "    print(\"Silhouette score for k (clusters) = \" + str(i) + \" is \" + str(SScore))\n",
        "\n",
        "# Plot silhouette scores\n",
        "plt.figure(figsize=(10,5))\n",
        "plt.subplot(1, 2, 1)\n",
        "plt.plot(k_values, sil_scores, 'bx-')\n",
        "plt.xlabel('k (number of clusters)')\n",
        "plt.ylabel('Silhouette Score')\n",
        "plt.title('Silhouette Score vs Number of Clusters')\n",
        "\n",
        "# Plot sum of squared distances (for the elbow plot)\n",
        "plt.subplot(1, 2, 2)\n",
        "plt.plot(k_values, sq_distances, 'bx-')\n",
        "plt.xlabel('k (number of clusters)')\n",
        "plt.ylabel('Sum of Squared Distances')\n",
        "plt.title('Elbow Plot (Sum of Squared Distances vs Number of Clusters)')\n",
        "\n",
        "plt.tight_layout()\n",
        "plt.show()"
      ]
    },
    {
      "cell_type": "markdown",
      "metadata": {
        "id": "K0cG424Q2Xyk"
      },
      "source": [
        "## now run kmeans with optimal clusters\n",
        "\n",
        "### the elbow is at 5 but the silhouette score is higher with less clusters, meeting at 4\n",
        "\n",
        "### continue analysis with 4 clusters"
      ]
    },
    {
      "cell_type": "code",
      "execution_count": null,
      "metadata": {
        "id": "EESX0PVG2Xyk"
      },
      "outputs": [],
      "source": [
        "# Initialize KMeans algorithm\n",
        "# 12 times per run to find the optimal centroids\n",
        "# random_state to ensure the same clusters every time we run this\n",
        "kmeans_optimal = KMeans(n_clusters=4, init='k-means++', n_init=12, random_state=0)\n",
        "\n",
        "# Fit and predict clusters\n",
        "clusters_optimal = kmeans_optimal.fit_predict(kmeans_run)"
      ]
    },
    {
      "cell_type": "code",
      "execution_count": null,
      "metadata": {
        "id": "YonzR95w2Xyk"
      },
      "outputs": [],
      "source": [
        "kmeans_run['cluster'] = clusters_optimal\n",
        "kmeans_run"
      ]
    },
    {
      "cell_type": "code",
      "execution_count": null,
      "metadata": {
        "scrolled": false,
        "id": "hex0LSCd2Xyk"
      },
      "outputs": [],
      "source": [
        "kmeans_run['cluster'].value_counts()"
      ]
    },
    {
      "cell_type": "markdown",
      "metadata": {
        "id": "VW3shIEt2Xyk"
      },
      "source": [
        "Place original lat & long back so the results can be plotted on the map"
      ]
    },
    {
      "cell_type": "code",
      "execution_count": null,
      "metadata": {
        "id": "t0JzijYf2Xyk"
      },
      "outputs": [],
      "source": [
        "kmeans_run['latitude'] = Queens[['latitude']]\n",
        "kmeans_run['longitude'] = Queens[['longitude']]"
      ]
    },
    {
      "cell_type": "code",
      "execution_count": null,
      "metadata": {
        "id": "dula_2Os2Xyk"
      },
      "outputs": [],
      "source": [
        "plt.figure(figsize=(12,8))\n",
        "plt.style.use('fast')\n",
        "\n",
        "# Set the boundary of the map using longitude and latitude obtained from Google Maps\n",
        "coordinates = (-74.2623, -73.6862, 40.4943, 40.9144)\n",
        "\n",
        "map = mpimg.imread(\"New_York_City.jpg\")\n",
        "plt.imshow(map,extent=coordinates)\n",
        "\n",
        "# Group by cluster labels instead of neighbourhood group\n",
        "clusters = kmeans_run.groupby('cluster')\n",
        "\n",
        "# Loop through each cluster and plot the listings in it\n",
        "for name, group in clusters:\n",
        "    plt.scatter(group['longitude'], group['latitude'], label=name, edgecolors='black')\n",
        "\n",
        "plt.xlabel('Longitude')\n",
        "plt.ylabel('Latitude')\n",
        "plt.title('Properties by Cluster')\n",
        "plt.legend()"
      ]
    },
    {
      "cell_type": "markdown",
      "metadata": {
        "id": "W6jDn0nZ2Xyk"
      },
      "source": [
        "Lets explore the data with summary statistics for each cluster group"
      ]
    },
    {
      "cell_type": "code",
      "execution_count": null,
      "metadata": {
        "id": "_XnnJ0b82Xyk"
      },
      "outputs": [],
      "source": [
        "cluster_summary = kmeans_run.groupby('cluster')['log_revenue_opportunity'].describe()\n",
        "print(cluster_summary)"
      ]
    },
    {
      "cell_type": "code",
      "execution_count": null,
      "metadata": {
        "id": "3JHTWVyu2Xyk"
      },
      "outputs": [],
      "source": [
        "latitude_mean = kmeans_run.groupby('cluster')['latitude'].mean()\n",
        "print(latitude_mean)"
      ]
    },
    {
      "cell_type": "code",
      "execution_count": null,
      "metadata": {
        "scrolled": false,
        "id": "8-y-PsOC2Xyk"
      },
      "outputs": [],
      "source": [
        "longitude_mean = kmeans_run.groupby('cluster')['longitude'].mean()\n",
        "print(longitude_mean)"
      ]
    },
    {
      "cell_type": "code",
      "execution_count": null,
      "metadata": {
        "scrolled": true,
        "id": "m3HQQe9O2Xyk"
      },
      "outputs": [],
      "source": [
        "log_rev_opp__mean = kmeans_run.groupby('cluster')['log_revenue_opportunity'].mean()\n",
        "print(log_rev_opp__mean)"
      ]
    },
    {
      "cell_type": "markdown",
      "metadata": {
        "id": "W51DFO_W2Xyl"
      },
      "source": [
        "## table rev opp log"
      ]
    },
    {
      "cell_type": "code",
      "execution_count": null,
      "metadata": {
        "scrolled": true,
        "id": "lZSFVZtV2Xyl"
      },
      "outputs": [],
      "source": [
        "# Convert series to df\n",
        "kmeans_queens = log_rev_opp__mean.reset_index()\n",
        "\n",
        "# Merge the mean latitude and longitude with the original DataFrame\n",
        "kmeans_queens = kmeans_queens.merge(latitude_mean, on='cluster', how='left')\n",
        "kmeans_queens = kmeans_queens.merge(longitude_mean, on='cluster', how='left')\n",
        "\n",
        "# Rename columns\n",
        "kmeans_queens.columns = ['cluster', 'Mean Log Rev Opp', 'Mean Latitude', 'Mean Longitude']\n",
        "kmeans_queens = kmeans_queens.sort_values(by=['Mean Log Rev Opp'])\n",
        "\n",
        "kmeans_queens"
      ]
    },
    {
      "cell_type": "code",
      "execution_count": null,
      "metadata": {
        "scrolled": true,
        "id": "F9bgvZ0H2Xyl"
      },
      "outputs": [],
      "source": [
        "styled_df = kmeans_queens.style.background_gradient(\n",
        "    cmap='Blues', subset=['Mean Log Rev Opp', 'Mean Latitude', 'Mean Longitude']\n",
        ").hide_index().set_table_styles(\n",
        "    [\n",
        "        {\n",
        "            'selector': 'th',\n",
        "            'props': [\n",
        "                ('padding', '1px'),\n",
        "                ('text-align', 'left')\n",
        "            ]\n",
        "        },\n",
        "        {\n",
        "            'selector': 'td',\n",
        "            'props': [\n",
        "                ('padding', '1px'),\n",
        "                ('text-align', 'center')\n",
        "            ]\n",
        "        }\n",
        "    ]\n",
        ").set_properties(**{'width': '70px'})\n",
        "\n",
        "styled_df"
      ]
    },
    {
      "cell_type": "code",
      "execution_count": null,
      "metadata": {
        "scrolled": true,
        "id": "dTSjbaf82Xyl"
      },
      "outputs": [],
      "source": [
        "# Boxplot of 'log_price' for each cluster\n",
        "plt.figure(figsize=(12, 8))\n",
        "sns.boxplot(x='cluster', y='log_revenue_opportunity', data=kmeans_run)\n",
        "plt.title('Revenue Distribution per Cluster')\n",
        "plt.show()"
      ]
    },
    {
      "cell_type": "markdown",
      "metadata": {
        "id": "3C4WhAEE2Xyl"
      },
      "source": [
        "## ANOVA results"
      ]
    },
    {
      "cell_type": "code",
      "execution_count": null,
      "metadata": {
        "id": "9fuVAegI2Xyl"
      },
      "outputs": [],
      "source": [
        "anova_results = st.f_oneway(*(kmeans_run['log_revenue_opportunity'][kmeans_run['cluster'] == cluster] for cluster in kmeans_run['cluster'].unique()))\n",
        "anova_results"
      ]
    },
    {
      "cell_type": "markdown",
      "metadata": {
        "id": "GY3lJY532Xyl"
      },
      "source": [
        "The above would suggest that the price is significantly different across the clusters."
      ]
    },
    {
      "cell_type": "markdown",
      "metadata": {
        "id": "aMLeD6gN2Xyl"
      },
      "source": [
        "## LINEAR REGRESSION"
      ]
    },
    {
      "cell_type": "markdown",
      "metadata": {
        "id": "ZmheUcAC2Xyl"
      },
      "source": [
        "Let's see if we can create a model using linear regression to predict where within Queens (the neighbourhood group identified as having the highest revenue potrential) Airbnb could see the most revenue when adding additional properties."
      ]
    },
    {
      "cell_type": "markdown",
      "metadata": {
        "id": "9ky23rk02Xyl"
      },
      "source": [
        "## Longitude and log revenue oportunity"
      ]
    },
    {
      "cell_type": "markdown",
      "metadata": {
        "id": "YZml0CC92Xyl"
      },
      "source": [
        "First we'll check longitude against revenue opportunity using the Queens dataframe created from the three clusters in the last DBSCAN."
      ]
    },
    {
      "cell_type": "code",
      "execution_count": null,
      "metadata": {
        "id": "btyOS8VP2Xyl"
      },
      "outputs": [],
      "source": [
        "msk=np.random.rand(len(Queens))<0.8\n",
        "train=Queens[msk]\n",
        "test=Queens[~msk]"
      ]
    },
    {
      "cell_type": "code",
      "execution_count": null,
      "metadata": {
        "scrolled": true,
        "id": "yG1geWVn2Xym"
      },
      "outputs": [],
      "source": [
        "# Train data distribution\n",
        "plt.scatter(train.longitude,train.log_revenue_opportunity, color='blue')\n",
        "plt.xlabel(\"Longitude\")\n",
        "plt.ylabel(\"Log revenue opportunity\")\n",
        "plt.show()"
      ]
    },
    {
      "cell_type": "markdown",
      "metadata": {
        "id": "CoX-RiZX2Xym"
      },
      "source": [
        "## Using sklearn package for data modelling"
      ]
    },
    {
      "cell_type": "code",
      "execution_count": null,
      "metadata": {
        "id": "KRaudKnh2Xym"
      },
      "outputs": [],
      "source": [
        "regr=linear_model.LinearRegression()\n",
        "train_x=np.asanyarray(train[['longitude']])\n",
        "train_y=np.asanyarray(train[['log_revenue_opportunity']])\n",
        "\n",
        "regr.fit(train_x, train_y)\n",
        "# The coefficients\n",
        "print('Coefficients:', regr.coef_)\n",
        "print('Intercept:', regr.intercept_)"
      ]
    },
    {
      "cell_type": "code",
      "execution_count": null,
      "metadata": {
        "id": "eLxP5g2L2Xym"
      },
      "outputs": [],
      "source": [
        "# Plot outputs\n",
        "plt.scatter(train.longitude,train.log_revenue_opportunity,color='blue')\n",
        "plt.plot(train_x,regr.coef_[0][0]*train_x + regr.intercept_[0],'-r')\n",
        "plt.xlabel(\"Longitude\")\n",
        "plt.ylabel(\"Log revenue opportunity\")"
      ]
    },
    {
      "cell_type": "markdown",
      "metadata": {
        "id": "HIM6R8yL2Xym"
      },
      "source": [
        "## Model evaluation"
      ]
    },
    {
      "cell_type": "code",
      "execution_count": null,
      "metadata": {
        "id": "yifdYhEN2Xym"
      },
      "outputs": [],
      "source": [
        "test_x=np.asanyarray(test[['longitude']])\n",
        "test_y=np.asanyarray(test[['log_revenue_opportunity']])\n",
        "test_y_ = regr.predict(test_y)"
      ]
    },
    {
      "cell_type": "code",
      "execution_count": null,
      "metadata": {
        "id": "Odb1E2iY2Xym"
      },
      "outputs": [],
      "source": [
        "print(\"Mean absolute error: %.2f\" % np.mean(np.absolute(test_y_-test_y)))\n",
        "print(\"Residual sum of squares (MSE): %.2f\" % np.mean((test_y_-test_y)**2))\n",
        "print(\"R2-score: %.2f\" % r2_score(test_y_,test_y))"
      ]
    },
    {
      "cell_type": "code",
      "execution_count": null,
      "metadata": {
        "scrolled": true,
        "id": "zjq2yRR-2Xym"
      },
      "outputs": [],
      "source": [
        "print(r2_score(train_x,train_y))"
      ]
    },
    {
      "cell_type": "code",
      "execution_count": null,
      "metadata": {
        "id": "yMx0wUcq2Xym"
      },
      "outputs": [],
      "source": [
        "pred_y = regr.predict(test_x)"
      ]
    },
    {
      "cell_type": "code",
      "execution_count": null,
      "metadata": {
        "id": "FZx9WOuq2Xym"
      },
      "outputs": [],
      "source": [
        "df = pd.DataFrame({'Actual': test_y.flatten(), 'Predicted': pred_y.flatten()})\n",
        "df1 = df.head(50)\n",
        "df1.plot(kind='bar',figsize=(16,10))\n",
        "plt.grid(which='major', linestyle='-', linewidth='0.5', color='green')\n",
        "plt.grid(which='minor', linestyle=':', linewidth='0.5', color='black')\n",
        "plt.show()"
      ]
    },
    {
      "cell_type": "markdown",
      "metadata": {
        "id": "GDvuyK2R2Xyn"
      },
      "source": [
        "## Latitude and log revenue oportunity"
      ]
    },
    {
      "cell_type": "markdown",
      "metadata": {
        "id": "OEDTUecC2Xyn"
      },
      "source": [
        "Next we'll check latitude against revenue opportunity using the Queens dataframe created from the three clusters in the last DBSCAN."
      ]
    },
    {
      "cell_type": "code",
      "execution_count": null,
      "metadata": {
        "id": "UYepAzs-2Xyn"
      },
      "outputs": [],
      "source": [
        "msk=np.random.rand(len(Queens))<0.8\n",
        "train=Queens[msk]\n",
        "test=Queens[~msk]"
      ]
    },
    {
      "cell_type": "code",
      "execution_count": null,
      "metadata": {
        "id": "swIhAieB2Xyn"
      },
      "outputs": [],
      "source": [
        "# Train data distribution\n",
        "plt.scatter(train.latitude,train.log_revenue_opportunity, color='blue')\n",
        "plt.xlabel(\"Latitude\")\n",
        "plt.ylabel(\"Log revenue opportunity\")\n",
        "plt.show()"
      ]
    },
    {
      "cell_type": "markdown",
      "metadata": {
        "id": "6D2gyQsd2Xyn"
      },
      "source": [
        "## Using sklearn package for data modelling"
      ]
    },
    {
      "cell_type": "code",
      "execution_count": null,
      "metadata": {
        "id": "UN4ZkRBT2Xyn"
      },
      "outputs": [],
      "source": [
        "regr=linear_model.LinearRegression()\n",
        "train_x=np.asanyarray(train[['latitude']])\n",
        "train_y=np.asanyarray(train[['log_revenue_opportunity']])\n",
        "\n",
        "regr.fit(train_x, train_y)\n",
        "# The coefficients\n",
        "print('Coefficients:', regr.coef_)\n",
        "print('Intercept:', regr.intercept_)"
      ]
    },
    {
      "cell_type": "code",
      "execution_count": null,
      "metadata": {
        "id": "5Z5k_8yP2Xyn"
      },
      "outputs": [],
      "source": [
        "# Plot outputs\n",
        "plt.scatter(train.latitude,train.log_revenue_opportunity,color='blue')\n",
        "plt.plot(train_x,regr.coef_[0][0]*train_x + regr.intercept_[0],'-r')\n",
        "plt.xlabel(\"Latitude\")\n",
        "plt.ylabel(\"Log revenue opportunity\")"
      ]
    },
    {
      "cell_type": "markdown",
      "metadata": {
        "id": "FENkgDye2Xyn"
      },
      "source": [
        "## Model evaluation"
      ]
    },
    {
      "cell_type": "code",
      "execution_count": null,
      "metadata": {
        "id": "dTp86kYL2Xyn"
      },
      "outputs": [],
      "source": [
        "test_x=np.asanyarray(test[['latitude']])\n",
        "test_y=np.asanyarray(test[['log_revenue_opportunity']])\n",
        "test_y_ = regr.predict(test_y)"
      ]
    },
    {
      "cell_type": "code",
      "execution_count": null,
      "metadata": {
        "id": "83ZJgKiG2Xyn"
      },
      "outputs": [],
      "source": [
        "print(\"Mean absolute error: %.2f\" % np.mean(np.absolute(test_y_-test_y)))\n",
        "print(\"Residual sum of squares (MSE): %.2f\" % np.mean((test_y_-test_y)**2))\n",
        "print(\"R2-score: %.2f\" % r2_score(test_y_,test_y))"
      ]
    },
    {
      "cell_type": "code",
      "execution_count": null,
      "metadata": {
        "scrolled": true,
        "id": "8j9x00Y02Xyn"
      },
      "outputs": [],
      "source": [
        "print(r2_score(train_x,train_y))"
      ]
    },
    {
      "cell_type": "code",
      "execution_count": null,
      "metadata": {
        "id": "zBXL0QW62Xyo"
      },
      "outputs": [],
      "source": [
        "pred_y = regr.predict(test_x)"
      ]
    },
    {
      "cell_type": "code",
      "execution_count": null,
      "metadata": {
        "id": "qDvxvVAe2Xyo"
      },
      "outputs": [],
      "source": [
        "df = pd.DataFrame({'Actual': test_y.flatten(), 'Predicted': pred_y.flatten()})\n",
        "df1 = df.head(50)\n",
        "df1.plot(kind='bar',figsize=(16,10))\n",
        "plt.grid(which='major', linestyle='-', linewidth='0.5', color='green')\n",
        "plt.grid(which='minor', linestyle=':', linewidth='0.5', color='black')\n",
        "plt.show()"
      ]
    },
    {
      "cell_type": "markdown",
      "metadata": {
        "id": "34RygST_2Xyo"
      },
      "source": [
        "We can see that neither latitude or longitude gave a reliable preduction for revenue.\n",
        "\n",
        "There was, however, a weak correlation between both longitude and latitude and revenue_opportunity.\n",
        "\n",
        "Revenue opportunity trended slightly higher with a higher longitude and with a lower latitude, suggesting that revenue opportunity is slightly higher further West and South in Queens. As already stated, the correlation was weak, however, and could not be used to predict actual revenues."
      ]
    }
  ],
  "metadata": {
    "kernelspec": {
      "display_name": "Python 3 (ipykernel)",
      "language": "python",
      "name": "python3"
    },
    "language_info": {
      "codemirror_mode": {
        "name": "ipython",
        "version": 3
      },
      "file_extension": ".py",
      "mimetype": "text/x-python",
      "name": "python",
      "nbconvert_exporter": "python",
      "pygments_lexer": "ipython3",
      "version": "3.10.9"
    },
    "colab": {
      "provenance": [],
      "include_colab_link": true
    }
  },
  "nbformat": 4,
  "nbformat_minor": 0
}
