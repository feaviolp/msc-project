{
  "nbformat": 4,
  "nbformat_minor": 0,
  "metadata": {
    "colab": {
      "provenance": [],
      "authorship_tag": "ABX9TyNTTsbiSvTfronKcMiYddTt",
      "include_colab_link": true
    },
    "kernelspec": {
      "name": "ir",
      "display_name": "R"
    },
    "language_info": {
      "name": "R"
    }
  },
  "cells": [
    {
      "cell_type": "markdown",
      "metadata": {
        "id": "view-in-github",
        "colab_type": "text"
      },
      "source": [
        "<a href=\"https://colab.research.google.com/github/feaviolp/msc-project/blob/main/NIJ%20statistics.ipynb\" target=\"_parent\"><img src=\"https://colab.research.google.com/assets/colab-badge.svg\" alt=\"Open In Colab\"/></a>"
      ]
    },
    {
      "cell_type": "code",
      "execution_count": 1,
      "metadata": {
        "id": "kG8GoJxPsqnF",
        "outputId": "4dc12cf0-4dfd-42f1-f14b-244716c2ca69",
        "colab": {
          "base_uri": "https://localhost:8080/"
        }
      },
      "outputs": [
        {
          "output_type": "stream",
          "name": "stderr",
          "text": [
            "\n",
            "Attaching package: ‘dplyr’\n",
            "\n",
            "\n",
            "The following objects are masked from ‘package:stats’:\n",
            "\n",
            "    filter, lag\n",
            "\n",
            "\n",
            "The following objects are masked from ‘package:base’:\n",
            "\n",
            "    intersect, setdiff, setequal, union\n",
            "\n",
            "\n"
          ]
        }
      ],
      "source": [
        "library(haven)\n",
        "library(dplyr)\n",
        "library(ggplot2)"
      ]
    },
    {
      "cell_type": "code",
      "source": [
        "\n",
        "NIJ <- read.csv(\"https://raw.githubusercontent.com/feaviolp/msc-project/main/NIJ_s_Recidivism_Challenge_Full_Dataset_20240222.csv\")\n",
        "View(NIJ)"
      ],
      "metadata": {
        "colab": {
          "base_uri": "https://localhost:8080/",
          "height": 1000
        },
        "id": "OkgZLyidtPcc",
        "outputId": "203584ed-63be-4034-fde7-edb730ee4c72"
      },
      "execution_count": 2,
      "outputs": [
        {
          "output_type": "display_data",
          "data": {
            "text/plain": [
              "      ID    Gender Race  Age_at_Release Residence_PUMA Gang_Affiliated\n",
              "1      1    M      BLACK 43-47          16             false          \n",
              "2      2    M      BLACK 33-37          16             false          \n",
              "3      3    M      BLACK 48 or older    24             false          \n",
              "4      4    M      WHITE 38-42          16             false          \n",
              "5      5    M      WHITE 33-37          16             false          \n",
              "6      6    M      WHITE 38-42          17             false          \n",
              "7      7    M      BLACK 48 or older    18             false          \n",
              "8      8    M      BLACK 38-42          16             false          \n",
              "9      9    F      BLACK 43-47           5                            \n",
              "10    10    M      BLACK 43-47          16             false          \n",
              "11    11    M      WHITE 43-47           5             false          \n",
              "12    12    M      BLACK 33-37          16             false          \n",
              "13    13    M      WHITE 48 or older    18             false          \n",
              "14    14    M      BLACK 33-37           3             true           \n",
              "15    15    M      WHITE 33-37           5             false          \n",
              "16    16    M      BLACK 33-37           3             false          \n",
              "17    17    M      BLACK 38-42          16             false          \n",
              "18    18    M      WHITE 43-47          24             false          \n",
              "19    19    M      BLACK 48 or older    12             false          \n",
              "20    20    M      WHITE 48 or older    16             false          \n",
              "21    21    M      BLACK 38-42           5             false          \n",
              "22    22    M      BLACK 33-37          16             false          \n",
              "23    23    F      WHITE 48 or older     5                            \n",
              "24    24    F      WHITE 43-47          16                            \n",
              "25    25    M      BLACK 38-42          18             false          \n",
              "26    26    M      WHITE 48 or older    17             false          \n",
              "27    27    M      WHITE 48 or older    14             false          \n",
              "28    28    M      WHITE 48 or older    23             false          \n",
              "29    29    M      BLACK 43-47           6             false          \n",
              "30    30    M      BLACK 18-22           2             false          \n",
              "⋮     ⋮     ⋮      ⋮     ⋮              ⋮              ⋮              \n",
              "25806 26731 M      WHITE 43-47           7             false          \n",
              "25807 26732 M      BLACK 38-42           5             false          \n",
              "25808 26733 M      WHITE 23-27          17             false          \n",
              "25809 26734 M      BLACK 28-32          12             false          \n",
              "25810 26735 M      BLACK 23-27          19             false          \n",
              "25811 26736 M      WHITE 38-42          12             true           \n",
              "25812 26737 M      BLACK 28-32           8             false          \n",
              "25813 26738 M      BLACK 33-37          11             false          \n",
              "25814 26739 M      WHITE 43-47           2             false          \n",
              "25815 26740 M      WHITE 48 or older    12             false          \n",
              "25816 26741 M      WHITE 28-32           3             false          \n",
              "25817 26742 M      WHITE 23-27           9             false          \n",
              "25818 26743 M      WHITE 43-47           8             false          \n",
              "25819 26744 M      BLACK 48 or older    21             false          \n",
              "25820 26745 M      WHITE 48 or older    24             false          \n",
              "25821 26746 M      BLACK 43-47           6             false          \n",
              "25822 26747 M      WHITE 33-37           8             false          \n",
              "25823 26748 M      WHITE 48 or older     7             false          \n",
              "25824 26749 M      BLACK 28-32           2             false          \n",
              "25825 26750 M      WHITE 23-27          18             false          \n",
              "25826 26751 M      BLACK 38-42           6             false          \n",
              "25827 26752 M      BLACK 28-32           7             false          \n",
              "25828 26753 M      BLACK 23-27           6             false          \n",
              "25829 26754 M      WHITE 43-47          14             false          \n",
              "25830 26755 M      WHITE 33-37           5             false          \n",
              "25831 26756 M      BLACK 23-27           9             false          \n",
              "25832 26758 M      WHITE 38-42          25             false          \n",
              "25833 26759 M      BLACK 33-37          15             false          \n",
              "25834 26760 F      WHITE 33-37          15                            \n",
              "25835 26761 M      WHITE 28-32          12             false          \n",
              "      Supervision_Risk_Score_First Supervision_Level_First\n",
              "1      3                           Standard               \n",
              "2      6                           Specialized            \n",
              "3      7                           High                   \n",
              "4      7                           High                   \n",
              "5      4                           Specialized            \n",
              "6      5                           Standard               \n",
              "7      2                           Standard               \n",
              "8      5                           High                   \n",
              "9      7                           High                   \n",
              "10     5                           Standard               \n",
              "11     3                           Specialized            \n",
              "12     5                           Specialized            \n",
              "13     3                           Standard               \n",
              "14     7                                                  \n",
              "15     7                           Standard               \n",
              "16     4                           Standard               \n",
              "17     6                           High                   \n",
              "18     1                           Standard               \n",
              "19     7                           High                   \n",
              "20     3                           Standard               \n",
              "21     3                           Standard               \n",
              "22     5                           Standard               \n",
              "23     4                                                  \n",
              "24     5                           Standard               \n",
              "25     5                           Standard               \n",
              "26     2                                                  \n",
              "27     2                           Specialized            \n",
              "28     3                           Standard               \n",
              "29     6                           High                   \n",
              "30    10                           Specialized            \n",
              "⋮     ⋮                            ⋮                      \n",
              "25806 3                            Standard               \n",
              "25807 5                            Standard               \n",
              "25808 5                            Standard               \n",
              "25809 4                            Standard               \n",
              "25810 7                            High                   \n",
              "25811 5                            Standard               \n",
              "25812 5                            Standard               \n",
              "25813 5                            Specialized            \n",
              "25814 5                            Standard               \n",
              "25815 5                            Standard               \n",
              "25816 5                            Standard               \n",
              "25817 5                            Standard               \n",
              "25818 3                            Standard               \n",
              "25819 7                            Standard               \n",
              "25820 5                            Standard               \n",
              "25821 5                            Standard               \n",
              "25822 5                            Standard               \n",
              "25823 5                            Standard               \n",
              "25824 5                            Standard               \n",
              "25825 5                            Standard               \n",
              "25826 5                            Standard               \n",
              "25827 5                            Standard               \n",
              "25828 5                            Standard               \n",
              "25829 5                            Standard               \n",
              "25830 5                            Standard               \n",
              "25831 5                            Standard               \n",
              "25832 5                            Standard               \n",
              "25833 5                            Standard               \n",
              "25834 5                            Standard               \n",
              "25835 5                            Standard               \n",
              "      Education_Level       Dependents ⋯ DrugTests_Meth_Positive\n",
              "1     At least some college 3 or more  ⋯ 0.00000000             \n",
              "2     Less than HS diploma  1          ⋯ 0.00000000             \n",
              "3     At least some college 3 or more  ⋯ 0.16666667             \n",
              "4     Less than HS diploma  1          ⋯ 0.00000000             \n",
              "5     Less than HS diploma  3 or more  ⋯ 0.05882353             \n",
              "6     High School Diploma   0          ⋯ 0.00000000             \n",
              "7     Less than HS diploma  2          ⋯ 0.00000000             \n",
              "8     High School Diploma   3 or more  ⋯ 0.00000000             \n",
              "9     High School Diploma   0          ⋯         NA             \n",
              "10    High School Diploma   3 or more  ⋯ 0.00000000             \n",
              "11    Less than HS diploma  1          ⋯ 0.30000001             \n",
              "12    High School Diploma   3 or more  ⋯ 0.08000000             \n",
              "13    Less than HS diploma  1          ⋯ 0.01605505             \n",
              "14    High School Diploma   0          ⋯         NA             \n",
              "15    Less than HS diploma  1          ⋯ 0.00000000             \n",
              "16    Less than HS diploma  3 or more  ⋯ 0.00000000             \n",
              "17    Less than HS diploma  3 or more  ⋯ 0.00000000             \n",
              "18    High School Diploma   3 or more  ⋯         NA             \n",
              "19    At least some college 3 or more  ⋯ 0.00000000             \n",
              "20    Less than HS diploma  0          ⋯ 0.00000000             \n",
              "21    High School Diploma   3 or more  ⋯         NA             \n",
              "22    Less than HS diploma  3 or more  ⋯ 0.00000000             \n",
              "23    High School Diploma   0          ⋯ 0.05555556             \n",
              "24    Less than HS diploma  0          ⋯         NA             \n",
              "25    Less than HS diploma  3 or more  ⋯ 0.00000000             \n",
              "26    Less than HS diploma  1          ⋯         NA             \n",
              "27    Less than HS diploma  0          ⋯ 0.00000000             \n",
              "28    Less than HS diploma  0          ⋯ 0.00000000             \n",
              "29    High School Diploma   0          ⋯ 0.00000000             \n",
              "30    Less than HS diploma  0          ⋯ 0.00000000             \n",
              "⋮     ⋮                     ⋮          ⋱ ⋮                      \n",
              "25806 High School Diploma   2          ⋯         NA             \n",
              "25807 High School Diploma   0          ⋯ 0.00000000             \n",
              "25808 High School Diploma   0          ⋯ 0.08333334             \n",
              "25809 High School Diploma   3 or more  ⋯ 0.00000000             \n",
              "25810 At least some college 3 or more  ⋯ 0.00000000             \n",
              "25811 At least some college 0          ⋯ 0.00000000             \n",
              "25812 At least some college 3 or more  ⋯ 0.00000000             \n",
              "25813 High School Diploma   0          ⋯ 0.00000000             \n",
              "25814 At least some college 3 or more  ⋯ 0.00000000             \n",
              "25815 At least some college 3 or more  ⋯ 0.00000000             \n",
              "25816 At least some college 3 or more  ⋯ 0.33333334             \n",
              "25817 At least some college 3 or more  ⋯         NA             \n",
              "25818 At least some college 3 or more  ⋯         NA             \n",
              "25819 Less than HS diploma  0          ⋯ 0.00000000             \n",
              "25820 At least some college 3 or more  ⋯         NA             \n",
              "25821 At least some college 3 or more  ⋯ 0.00000000             \n",
              "25822 At least some college 3 or more  ⋯ 0.00000000             \n",
              "25823 At least some college 3 or more  ⋯         NA             \n",
              "25824 High School Diploma   3 or more  ⋯ 0.00000000             \n",
              "25825 High School Diploma   3 or more  ⋯ 0.00000000             \n",
              "25826 At least some college 3 or more  ⋯ 0.00000000             \n",
              "25827 At least some college 3 or more  ⋯ 0.00000000             \n",
              "25828 At least some college 3 or more  ⋯ 0.00000000             \n",
              "25829 At least some college 3 or more  ⋯ 0.00000000             \n",
              "25830 At least some college 3 or more  ⋯ 0.00000000             \n",
              "25831 At least some college 1          ⋯ 0.00000000             \n",
              "25832 At least some college 3 or more  ⋯ 0.00000000             \n",
              "25833 At least some college 3 or more  ⋯         NA             \n",
              "25834 At least some college 3 or more  ⋯ 0.00000000             \n",
              "25835 High School Diploma   3 or more  ⋯ 0.00000000             \n",
              "      DrugTests_Other_Positive Percent_Days_Employed Jobs_Per_Year\n",
              "1     0.000000000              0.4885621             0.4476103    \n",
              "2     0.000000000              0.4252336             2.0000000    \n",
              "3     0.000000000              0.0000000             0.0000000    \n",
              "4     0.000000000              1.0000000             0.7189961    \n",
              "5     0.000000000              0.2035623             0.9293893    \n",
              "6     0.000000000              0.6742520             0.3078382    \n",
              "7     0.000000000              0.0000000             0.0000000    \n",
              "8     0.000000000              0.4694464             0.5251618    \n",
              "9              NA              0.0000000             0.0000000    \n",
              "10    0.000000000              0.3597122             1.0000000    \n",
              "11    0.000000000              1.0000000             3.4135514    \n",
              "12    0.000000000              0.0000000             0.0000000    \n",
              "13    0.002293578              0.0000000                    NA    \n",
              "14             NA              1.0000000             1.0000000    \n",
              "15    0.000000000              0.0000000             0.0000000    \n",
              "16    0.000000000              0.3389262             0.6128356    \n",
              "17    0.000000000              0.5458515             2.0000000    \n",
              "18             NA              0.4521385             0.7438900    \n",
              "19    0.000000000              0.9185751             0.4646947    \n",
              "20    0.000000000              0.7947368             0.3203947    \n",
              "21             NA              1.0000000             2.0000000    \n",
              "22    0.000000000              1.0000000             3.1969365    \n",
              "23    0.000000000              0.0000000             0.0000000    \n",
              "24             NA              0.9913793             1.0000000    \n",
              "25    0.000000000              0.1964286             0.9317602    \n",
              "26             NA              1.0000000             2.0000000    \n",
              "27    0.000000000              0.8064516             1.0000000    \n",
              "28    0.000000000              0.0000000             0.0000000    \n",
              "29    0.000000000              0.8953553             0.2043928    \n",
              "30    0.000000000              0.0000000             0.0000000    \n",
              "⋮     ⋮                        ⋮                     ⋮            \n",
              "25806         NA               1.0000000             0.9317602    \n",
              "25807 0.00000000               0.0000000                    NA    \n",
              "25808 0.08333334               0.0000000             0.0000000    \n",
              "25809 0.00000000               0.5747423             0.9413660    \n",
              "25810 0.00000000               0.0000000             0.0000000    \n",
              "25811 0.00000000               0.0000000             0.0000000    \n",
              "25812 0.00000000               1.0000000             1.3346529    \n",
              "25813 0.10000000               0.0000000             0.0000000    \n",
              "25814 0.00000000               0.7392405             0.6164557    \n",
              "25815 0.00000000               0.0000000             0.0000000    \n",
              "25816 0.00000000               0.1851852             1.0000000    \n",
              "25817         NA               0.1051805             0.5733909    \n",
              "25818         NA               0.1815182             2.0000000    \n",
              "25819 0.00000000               0.9923469             0.4658801    \n",
              "25820         NA               0.0000000             0.0000000    \n",
              "25821 0.00000000               0.0000000             0.0000000    \n",
              "25822 0.00000000               0.3815385             1.1238462    \n",
              "25823         NA               0.0000000             0.0000000    \n",
              "25824 0.00000000               0.3351293             1.1807651    \n",
              "25825 0.00000000               0.0000000             0.0000000    \n",
              "25826 0.00000000               1.0000000             0.8886861    \n",
              "25827 0.16666667               0.7572464             0.6616848    \n",
              "25828 0.00000000               0.0000000             0.0000000    \n",
              "25829 0.00000000               0.0000000             0.0000000    \n",
              "25830 0.00000000               0.0000000                    NA    \n",
              "25831 0.00000000               0.1895067             0.5720439    \n",
              "25832 0.00000000               0.7570978             0.5761041    \n",
              "25833         NA               0.7111383             0.8941248    \n",
              "25834 0.00000000               0.0000000             0.0000000    \n",
              "25835 0.00000000               0.1244541             0.3987445    \n",
              "      Employment_Exempt Recidivism_Within_3years Recidivism_Arrest_Year1\n",
              "1     false             false                    false                  \n",
              "2     false             true                     false                  \n",
              "3     false             true                     false                  \n",
              "4     false             false                    false                  \n",
              "5     false             true                     true                   \n",
              "6     false             false                    false                  \n",
              "7     false             true                     false                  \n",
              "8     false             false                    false                  \n",
              "9     true              true                     true                   \n",
              "10    false             true                     true                   \n",
              "11    true              true                     false                  \n",
              "12    true              true                     true                   \n",
              "13    false             false                    false                  \n",
              "14    false             true                     true                   \n",
              "15    true              false                    false                  \n",
              "16    false             false                    false                  \n",
              "17    false             true                     true                   \n",
              "18    false             true                     false                  \n",
              "19    false             false                    false                  \n",
              "20    false             true                     false                  \n",
              "21    false             false                    false                  \n",
              "22    false             false                    false                  \n",
              "23    false             false                    false                  \n",
              "24    false             false                    false                  \n",
              "25    false             true                     true                   \n",
              "26    false             true                     true                   \n",
              "27    false             false                    false                  \n",
              "28    false             true                     false                  \n",
              "29    true              false                    false                  \n",
              "30    false             true                     true                   \n",
              "⋮     ⋮                 ⋮                        ⋮                      \n",
              "25806 false             false                    false                  \n",
              "25807 false             false                    false                  \n",
              "25808 false             true                     true                   \n",
              "25809 false             false                    false                  \n",
              "25810 false             false                    false                  \n",
              "25811 false             true                     true                   \n",
              "25812 false             false                    false                  \n",
              "25813 false             true                     true                   \n",
              "25814 false             false                    false                  \n",
              "25815 false             true                     false                  \n",
              "25816 false             true                     true                   \n",
              "25817 false             true                     true                   \n",
              "25818 false             true                     true                   \n",
              "25819 false             false                    false                  \n",
              "25820 true              false                    false                  \n",
              "25821 false             false                    false                  \n",
              "25822 false             true                     true                   \n",
              "25823 false             false                    false                  \n",
              "25824 false             true                     true                   \n",
              "25825 false             true                     true                   \n",
              "25826 false             true                     false                  \n",
              "25827 false             true                     false                  \n",
              "25828 false             true                     false                  \n",
              "25829 true              true                     false                  \n",
              "25830 true              false                    false                  \n",
              "25831 false             true                     true                   \n",
              "25832 false             true                     false                  \n",
              "25833 false             true                     false                  \n",
              "25834 true              false                    false                  \n",
              "25835 false             true                     true                   \n",
              "      Recidivism_Arrest_Year2 Recidivism_Arrest_Year3 Training_Sample\n",
              "1     false                   false                   1              \n",
              "2     false                   true                    1              \n",
              "3     true                    false                   1              \n",
              "4     false                   false                   1              \n",
              "5     false                   false                   1              \n",
              "6     false                   false                   0              \n",
              "7     false                   true                    1              \n",
              "8     false                   false                   0              \n",
              "9     false                   false                   1              \n",
              "10    false                   false                   1              \n",
              "11    true                    false                   1              \n",
              "12    false                   false                   0              \n",
              "13    false                   false                   1              \n",
              "14    false                   false                   1              \n",
              "15    false                   false                   0              \n",
              "16    false                   false                   0              \n",
              "17    false                   false                   1              \n",
              "18    true                    false                   1              \n",
              "19    false                   false                   1              \n",
              "20    false                   true                    1              \n",
              "21    false                   false                   1              \n",
              "22    false                   false                   1              \n",
              "23    false                   false                   0              \n",
              "24    false                   false                   1              \n",
              "25    false                   false                   1              \n",
              "26    false                   false                   1              \n",
              "27    false                   false                   0              \n",
              "28    true                    false                   0              \n",
              "29    false                   false                   1              \n",
              "30    false                   false                   1              \n",
              "⋮     ⋮                       ⋮                       ⋮              \n",
              "25806 false                   false                   1              \n",
              "25807 false                   false                   0              \n",
              "25808 false                   false                   0              \n",
              "25809 false                   false                   1              \n",
              "25810 false                   false                   1              \n",
              "25811 false                   false                   0              \n",
              "25812 false                   false                   1              \n",
              "25813 false                   false                   1              \n",
              "25814 false                   false                   1              \n",
              "25815 true                    false                   0              \n",
              "25816 false                   false                   0              \n",
              "25817 false                   false                   1              \n",
              "25818 false                   false                   1              \n",
              "25819 false                   false                   0              \n",
              "25820 false                   false                   1              \n",
              "25821 false                   false                   0              \n",
              "25822 false                   false                   0              \n",
              "25823 false                   false                   1              \n",
              "25824 false                   false                   0              \n",
              "25825 false                   false                   1              \n",
              "25826 true                    false                   1              \n",
              "25827 true                    false                   0              \n",
              "25828 true                    false                   1              \n",
              "25829 true                    false                   1              \n",
              "25830 false                   false                   0              \n",
              "25831 false                   false                   1              \n",
              "25832 true                    false                   1              \n",
              "25833 true                    false                   1              \n",
              "25834 false                   false                   1              \n",
              "25835 false                   false                   1              "
            ],
            "text/html": [
              "<table class=\"dataframe\">\n",
              "<caption>A data.frame: 25835 × 54</caption>\n",
              "<thead>\n",
              "\t<tr><th scope=col>ID</th><th scope=col>Gender</th><th scope=col>Race</th><th scope=col>Age_at_Release</th><th scope=col>Residence_PUMA</th><th scope=col>Gang_Affiliated</th><th scope=col>Supervision_Risk_Score_First</th><th scope=col>Supervision_Level_First</th><th scope=col>Education_Level</th><th scope=col>Dependents</th><th scope=col>⋯</th><th scope=col>DrugTests_Meth_Positive</th><th scope=col>DrugTests_Other_Positive</th><th scope=col>Percent_Days_Employed</th><th scope=col>Jobs_Per_Year</th><th scope=col>Employment_Exempt</th><th scope=col>Recidivism_Within_3years</th><th scope=col>Recidivism_Arrest_Year1</th><th scope=col>Recidivism_Arrest_Year2</th><th scope=col>Recidivism_Arrest_Year3</th><th scope=col>Training_Sample</th></tr>\n",
              "\t<tr><th scope=col>&lt;int&gt;</th><th scope=col>&lt;chr&gt;</th><th scope=col>&lt;chr&gt;</th><th scope=col>&lt;chr&gt;</th><th scope=col>&lt;int&gt;</th><th scope=col>&lt;chr&gt;</th><th scope=col>&lt;int&gt;</th><th scope=col>&lt;chr&gt;</th><th scope=col>&lt;chr&gt;</th><th scope=col>&lt;chr&gt;</th><th scope=col>⋯</th><th scope=col>&lt;dbl&gt;</th><th scope=col>&lt;dbl&gt;</th><th scope=col>&lt;dbl&gt;</th><th scope=col>&lt;dbl&gt;</th><th scope=col>&lt;chr&gt;</th><th scope=col>&lt;chr&gt;</th><th scope=col>&lt;chr&gt;</th><th scope=col>&lt;chr&gt;</th><th scope=col>&lt;chr&gt;</th><th scope=col>&lt;int&gt;</th></tr>\n",
              "</thead>\n",
              "<tbody>\n",
              "\t<tr><td> 1</td><td>M</td><td>BLACK</td><td>43-47      </td><td>16</td><td>false</td><td> 3</td><td>Standard   </td><td>At least some college</td><td>3 or more</td><td>⋯</td><td>0.00000000</td><td>0.000000000</td><td>0.4885621</td><td>0.4476103</td><td>false</td><td>false</td><td>false</td><td>false</td><td>false</td><td>1</td></tr>\n",
              "\t<tr><td> 2</td><td>M</td><td>BLACK</td><td>33-37      </td><td>16</td><td>false</td><td> 6</td><td>Specialized</td><td>Less than HS diploma </td><td>1        </td><td>⋯</td><td>0.00000000</td><td>0.000000000</td><td>0.4252336</td><td>2.0000000</td><td>false</td><td>true </td><td>false</td><td>false</td><td>true </td><td>1</td></tr>\n",
              "\t<tr><td> 3</td><td>M</td><td>BLACK</td><td>48 or older</td><td>24</td><td>false</td><td> 7</td><td>High       </td><td>At least some college</td><td>3 or more</td><td>⋯</td><td>0.16666667</td><td>0.000000000</td><td>0.0000000</td><td>0.0000000</td><td>false</td><td>true </td><td>false</td><td>true </td><td>false</td><td>1</td></tr>\n",
              "\t<tr><td> 4</td><td>M</td><td>WHITE</td><td>38-42      </td><td>16</td><td>false</td><td> 7</td><td>High       </td><td>Less than HS diploma </td><td>1        </td><td>⋯</td><td>0.00000000</td><td>0.000000000</td><td>1.0000000</td><td>0.7189961</td><td>false</td><td>false</td><td>false</td><td>false</td><td>false</td><td>1</td></tr>\n",
              "\t<tr><td> 5</td><td>M</td><td>WHITE</td><td>33-37      </td><td>16</td><td>false</td><td> 4</td><td>Specialized</td><td>Less than HS diploma </td><td>3 or more</td><td>⋯</td><td>0.05882353</td><td>0.000000000</td><td>0.2035623</td><td>0.9293893</td><td>false</td><td>true </td><td>true </td><td>false</td><td>false</td><td>1</td></tr>\n",
              "\t<tr><td> 6</td><td>M</td><td>WHITE</td><td>38-42      </td><td>17</td><td>false</td><td> 5</td><td>Standard   </td><td>High School Diploma  </td><td>0        </td><td>⋯</td><td>0.00000000</td><td>0.000000000</td><td>0.6742520</td><td>0.3078382</td><td>false</td><td>false</td><td>false</td><td>false</td><td>false</td><td>0</td></tr>\n",
              "\t<tr><td> 7</td><td>M</td><td>BLACK</td><td>48 or older</td><td>18</td><td>false</td><td> 2</td><td>Standard   </td><td>Less than HS diploma </td><td>2        </td><td>⋯</td><td>0.00000000</td><td>0.000000000</td><td>0.0000000</td><td>0.0000000</td><td>false</td><td>true </td><td>false</td><td>false</td><td>true </td><td>1</td></tr>\n",
              "\t<tr><td> 8</td><td>M</td><td>BLACK</td><td>38-42      </td><td>16</td><td>false</td><td> 5</td><td>High       </td><td>High School Diploma  </td><td>3 or more</td><td>⋯</td><td>0.00000000</td><td>0.000000000</td><td>0.4694464</td><td>0.5251618</td><td>false</td><td>false</td><td>false</td><td>false</td><td>false</td><td>0</td></tr>\n",
              "\t<tr><td> 9</td><td>F</td><td>BLACK</td><td>43-47      </td><td> 5</td><td>     </td><td> 7</td><td>High       </td><td>High School Diploma  </td><td>0        </td><td>⋯</td><td>        NA</td><td>         NA</td><td>0.0000000</td><td>0.0000000</td><td>true </td><td>true </td><td>true </td><td>false</td><td>false</td><td>1</td></tr>\n",
              "\t<tr><td>10</td><td>M</td><td>BLACK</td><td>43-47      </td><td>16</td><td>false</td><td> 5</td><td>Standard   </td><td>High School Diploma  </td><td>3 or more</td><td>⋯</td><td>0.00000000</td><td>0.000000000</td><td>0.3597122</td><td>1.0000000</td><td>false</td><td>true </td><td>true </td><td>false</td><td>false</td><td>1</td></tr>\n",
              "\t<tr><td>11</td><td>M</td><td>WHITE</td><td>43-47      </td><td> 5</td><td>false</td><td> 3</td><td>Specialized</td><td>Less than HS diploma </td><td>1        </td><td>⋯</td><td>0.30000001</td><td>0.000000000</td><td>1.0000000</td><td>3.4135514</td><td>true </td><td>true </td><td>false</td><td>true </td><td>false</td><td>1</td></tr>\n",
              "\t<tr><td>12</td><td>M</td><td>BLACK</td><td>33-37      </td><td>16</td><td>false</td><td> 5</td><td>Specialized</td><td>High School Diploma  </td><td>3 or more</td><td>⋯</td><td>0.08000000</td><td>0.000000000</td><td>0.0000000</td><td>0.0000000</td><td>true </td><td>true </td><td>true </td><td>false</td><td>false</td><td>0</td></tr>\n",
              "\t<tr><td>13</td><td>M</td><td>WHITE</td><td>48 or older</td><td>18</td><td>false</td><td> 3</td><td>Standard   </td><td>Less than HS diploma </td><td>1        </td><td>⋯</td><td>0.01605505</td><td>0.002293578</td><td>0.0000000</td><td>       NA</td><td>false</td><td>false</td><td>false</td><td>false</td><td>false</td><td>1</td></tr>\n",
              "\t<tr><td>14</td><td>M</td><td>BLACK</td><td>33-37      </td><td> 3</td><td>true </td><td> 7</td><td>           </td><td>High School Diploma  </td><td>0        </td><td>⋯</td><td>        NA</td><td>         NA</td><td>1.0000000</td><td>1.0000000</td><td>false</td><td>true </td><td>true </td><td>false</td><td>false</td><td>1</td></tr>\n",
              "\t<tr><td>15</td><td>M</td><td>WHITE</td><td>33-37      </td><td> 5</td><td>false</td><td> 7</td><td>Standard   </td><td>Less than HS diploma </td><td>1        </td><td>⋯</td><td>0.00000000</td><td>0.000000000</td><td>0.0000000</td><td>0.0000000</td><td>true </td><td>false</td><td>false</td><td>false</td><td>false</td><td>0</td></tr>\n",
              "\t<tr><td>16</td><td>M</td><td>BLACK</td><td>33-37      </td><td> 3</td><td>false</td><td> 4</td><td>Standard   </td><td>Less than HS diploma </td><td>3 or more</td><td>⋯</td><td>0.00000000</td><td>0.000000000</td><td>0.3389262</td><td>0.6128356</td><td>false</td><td>false</td><td>false</td><td>false</td><td>false</td><td>0</td></tr>\n",
              "\t<tr><td>17</td><td>M</td><td>BLACK</td><td>38-42      </td><td>16</td><td>false</td><td> 6</td><td>High       </td><td>Less than HS diploma </td><td>3 or more</td><td>⋯</td><td>0.00000000</td><td>0.000000000</td><td>0.5458515</td><td>2.0000000</td><td>false</td><td>true </td><td>true </td><td>false</td><td>false</td><td>1</td></tr>\n",
              "\t<tr><td>18</td><td>M</td><td>WHITE</td><td>43-47      </td><td>24</td><td>false</td><td> 1</td><td>Standard   </td><td>High School Diploma  </td><td>3 or more</td><td>⋯</td><td>        NA</td><td>         NA</td><td>0.4521385</td><td>0.7438900</td><td>false</td><td>true </td><td>false</td><td>true </td><td>false</td><td>1</td></tr>\n",
              "\t<tr><td>19</td><td>M</td><td>BLACK</td><td>48 or older</td><td>12</td><td>false</td><td> 7</td><td>High       </td><td>At least some college</td><td>3 or more</td><td>⋯</td><td>0.00000000</td><td>0.000000000</td><td>0.9185751</td><td>0.4646947</td><td>false</td><td>false</td><td>false</td><td>false</td><td>false</td><td>1</td></tr>\n",
              "\t<tr><td>20</td><td>M</td><td>WHITE</td><td>48 or older</td><td>16</td><td>false</td><td> 3</td><td>Standard   </td><td>Less than HS diploma </td><td>0        </td><td>⋯</td><td>0.00000000</td><td>0.000000000</td><td>0.7947368</td><td>0.3203947</td><td>false</td><td>true </td><td>false</td><td>false</td><td>true </td><td>1</td></tr>\n",
              "\t<tr><td>21</td><td>M</td><td>BLACK</td><td>38-42      </td><td> 5</td><td>false</td><td> 3</td><td>Standard   </td><td>High School Diploma  </td><td>3 or more</td><td>⋯</td><td>        NA</td><td>         NA</td><td>1.0000000</td><td>2.0000000</td><td>false</td><td>false</td><td>false</td><td>false</td><td>false</td><td>1</td></tr>\n",
              "\t<tr><td>22</td><td>M</td><td>BLACK</td><td>33-37      </td><td>16</td><td>false</td><td> 5</td><td>Standard   </td><td>Less than HS diploma </td><td>3 or more</td><td>⋯</td><td>0.00000000</td><td>0.000000000</td><td>1.0000000</td><td>3.1969365</td><td>false</td><td>false</td><td>false</td><td>false</td><td>false</td><td>1</td></tr>\n",
              "\t<tr><td>23</td><td>F</td><td>WHITE</td><td>48 or older</td><td> 5</td><td>     </td><td> 4</td><td>           </td><td>High School Diploma  </td><td>0        </td><td>⋯</td><td>0.05555556</td><td>0.000000000</td><td>0.0000000</td><td>0.0000000</td><td>false</td><td>false</td><td>false</td><td>false</td><td>false</td><td>0</td></tr>\n",
              "\t<tr><td>24</td><td>F</td><td>WHITE</td><td>43-47      </td><td>16</td><td>     </td><td> 5</td><td>Standard   </td><td>Less than HS diploma </td><td>0        </td><td>⋯</td><td>        NA</td><td>         NA</td><td>0.9913793</td><td>1.0000000</td><td>false</td><td>false</td><td>false</td><td>false</td><td>false</td><td>1</td></tr>\n",
              "\t<tr><td>25</td><td>M</td><td>BLACK</td><td>38-42      </td><td>18</td><td>false</td><td> 5</td><td>Standard   </td><td>Less than HS diploma </td><td>3 or more</td><td>⋯</td><td>0.00000000</td><td>0.000000000</td><td>0.1964286</td><td>0.9317602</td><td>false</td><td>true </td><td>true </td><td>false</td><td>false</td><td>1</td></tr>\n",
              "\t<tr><td>26</td><td>M</td><td>WHITE</td><td>48 or older</td><td>17</td><td>false</td><td> 2</td><td>           </td><td>Less than HS diploma </td><td>1        </td><td>⋯</td><td>        NA</td><td>         NA</td><td>1.0000000</td><td>2.0000000</td><td>false</td><td>true </td><td>true </td><td>false</td><td>false</td><td>1</td></tr>\n",
              "\t<tr><td>27</td><td>M</td><td>WHITE</td><td>48 or older</td><td>14</td><td>false</td><td> 2</td><td>Specialized</td><td>Less than HS diploma </td><td>0        </td><td>⋯</td><td>0.00000000</td><td>0.000000000</td><td>0.8064516</td><td>1.0000000</td><td>false</td><td>false</td><td>false</td><td>false</td><td>false</td><td>0</td></tr>\n",
              "\t<tr><td>28</td><td>M</td><td>WHITE</td><td>48 or older</td><td>23</td><td>false</td><td> 3</td><td>Standard   </td><td>Less than HS diploma </td><td>0        </td><td>⋯</td><td>0.00000000</td><td>0.000000000</td><td>0.0000000</td><td>0.0000000</td><td>false</td><td>true </td><td>false</td><td>true </td><td>false</td><td>0</td></tr>\n",
              "\t<tr><td>29</td><td>M</td><td>BLACK</td><td>43-47      </td><td> 6</td><td>false</td><td> 6</td><td>High       </td><td>High School Diploma  </td><td>0        </td><td>⋯</td><td>0.00000000</td><td>0.000000000</td><td>0.8953553</td><td>0.2043928</td><td>true </td><td>false</td><td>false</td><td>false</td><td>false</td><td>1</td></tr>\n",
              "\t<tr><td>30</td><td>M</td><td>BLACK</td><td>18-22      </td><td> 2</td><td>false</td><td>10</td><td>Specialized</td><td>Less than HS diploma </td><td>0        </td><td>⋯</td><td>0.00000000</td><td>0.000000000</td><td>0.0000000</td><td>0.0000000</td><td>false</td><td>true </td><td>true </td><td>false</td><td>false</td><td>1</td></tr>\n",
              "\t<tr><td>⋮</td><td>⋮</td><td>⋮</td><td>⋮</td><td>⋮</td><td>⋮</td><td>⋮</td><td>⋮</td><td>⋮</td><td>⋮</td><td>⋱</td><td>⋮</td><td>⋮</td><td>⋮</td><td>⋮</td><td>⋮</td><td>⋮</td><td>⋮</td><td>⋮</td><td>⋮</td><td>⋮</td></tr>\n",
              "\t<tr><td>26731</td><td>M</td><td>WHITE</td><td>43-47      </td><td> 7</td><td>false</td><td>3</td><td>Standard   </td><td>High School Diploma  </td><td>2        </td><td>⋯</td><td>        NA</td><td>        NA</td><td>1.0000000</td><td>0.9317602</td><td>false</td><td>false</td><td>false</td><td>false</td><td>false</td><td>1</td></tr>\n",
              "\t<tr><td>26732</td><td>M</td><td>BLACK</td><td>38-42      </td><td> 5</td><td>false</td><td>5</td><td>Standard   </td><td>High School Diploma  </td><td>0        </td><td>⋯</td><td>0.00000000</td><td>0.00000000</td><td>0.0000000</td><td>       NA</td><td>false</td><td>false</td><td>false</td><td>false</td><td>false</td><td>0</td></tr>\n",
              "\t<tr><td>26733</td><td>M</td><td>WHITE</td><td>23-27      </td><td>17</td><td>false</td><td>5</td><td>Standard   </td><td>High School Diploma  </td><td>0        </td><td>⋯</td><td>0.08333334</td><td>0.08333334</td><td>0.0000000</td><td>0.0000000</td><td>false</td><td>true </td><td>true </td><td>false</td><td>false</td><td>0</td></tr>\n",
              "\t<tr><td>26734</td><td>M</td><td>BLACK</td><td>28-32      </td><td>12</td><td>false</td><td>4</td><td>Standard   </td><td>High School Diploma  </td><td>3 or more</td><td>⋯</td><td>0.00000000</td><td>0.00000000</td><td>0.5747423</td><td>0.9413660</td><td>false</td><td>false</td><td>false</td><td>false</td><td>false</td><td>1</td></tr>\n",
              "\t<tr><td>26735</td><td>M</td><td>BLACK</td><td>23-27      </td><td>19</td><td>false</td><td>7</td><td>High       </td><td>At least some college</td><td>3 or more</td><td>⋯</td><td>0.00000000</td><td>0.00000000</td><td>0.0000000</td><td>0.0000000</td><td>false</td><td>false</td><td>false</td><td>false</td><td>false</td><td>1</td></tr>\n",
              "\t<tr><td>26736</td><td>M</td><td>WHITE</td><td>38-42      </td><td>12</td><td>true </td><td>5</td><td>Standard   </td><td>At least some college</td><td>0        </td><td>⋯</td><td>0.00000000</td><td>0.00000000</td><td>0.0000000</td><td>0.0000000</td><td>false</td><td>true </td><td>true </td><td>false</td><td>false</td><td>0</td></tr>\n",
              "\t<tr><td>26737</td><td>M</td><td>BLACK</td><td>28-32      </td><td> 8</td><td>false</td><td>5</td><td>Standard   </td><td>At least some college</td><td>3 or more</td><td>⋯</td><td>0.00000000</td><td>0.00000000</td><td>1.0000000</td><td>1.3346529</td><td>false</td><td>false</td><td>false</td><td>false</td><td>false</td><td>1</td></tr>\n",
              "\t<tr><td>26738</td><td>M</td><td>BLACK</td><td>33-37      </td><td>11</td><td>false</td><td>5</td><td>Specialized</td><td>High School Diploma  </td><td>0        </td><td>⋯</td><td>0.00000000</td><td>0.10000000</td><td>0.0000000</td><td>0.0000000</td><td>false</td><td>true </td><td>true </td><td>false</td><td>false</td><td>1</td></tr>\n",
              "\t<tr><td>26739</td><td>M</td><td>WHITE</td><td>43-47      </td><td> 2</td><td>false</td><td>5</td><td>Standard   </td><td>At least some college</td><td>3 or more</td><td>⋯</td><td>0.00000000</td><td>0.00000000</td><td>0.7392405</td><td>0.6164557</td><td>false</td><td>false</td><td>false</td><td>false</td><td>false</td><td>1</td></tr>\n",
              "\t<tr><td>26740</td><td>M</td><td>WHITE</td><td>48 or older</td><td>12</td><td>false</td><td>5</td><td>Standard   </td><td>At least some college</td><td>3 or more</td><td>⋯</td><td>0.00000000</td><td>0.00000000</td><td>0.0000000</td><td>0.0000000</td><td>false</td><td>true </td><td>false</td><td>true </td><td>false</td><td>0</td></tr>\n",
              "\t<tr><td>26741</td><td>M</td><td>WHITE</td><td>28-32      </td><td> 3</td><td>false</td><td>5</td><td>Standard   </td><td>At least some college</td><td>3 or more</td><td>⋯</td><td>0.33333334</td><td>0.00000000</td><td>0.1851852</td><td>1.0000000</td><td>false</td><td>true </td><td>true </td><td>false</td><td>false</td><td>0</td></tr>\n",
              "\t<tr><td>26742</td><td>M</td><td>WHITE</td><td>23-27      </td><td> 9</td><td>false</td><td>5</td><td>Standard   </td><td>At least some college</td><td>3 or more</td><td>⋯</td><td>        NA</td><td>        NA</td><td>0.1051805</td><td>0.5733909</td><td>false</td><td>true </td><td>true </td><td>false</td><td>false</td><td>1</td></tr>\n",
              "\t<tr><td>26743</td><td>M</td><td>WHITE</td><td>43-47      </td><td> 8</td><td>false</td><td>3</td><td>Standard   </td><td>At least some college</td><td>3 or more</td><td>⋯</td><td>        NA</td><td>        NA</td><td>0.1815182</td><td>2.0000000</td><td>false</td><td>true </td><td>true </td><td>false</td><td>false</td><td>1</td></tr>\n",
              "\t<tr><td>26744</td><td>M</td><td>BLACK</td><td>48 or older</td><td>21</td><td>false</td><td>7</td><td>Standard   </td><td>Less than HS diploma </td><td>0        </td><td>⋯</td><td>0.00000000</td><td>0.00000000</td><td>0.9923469</td><td>0.4658801</td><td>false</td><td>false</td><td>false</td><td>false</td><td>false</td><td>0</td></tr>\n",
              "\t<tr><td>26745</td><td>M</td><td>WHITE</td><td>48 or older</td><td>24</td><td>false</td><td>5</td><td>Standard   </td><td>At least some college</td><td>3 or more</td><td>⋯</td><td>        NA</td><td>        NA</td><td>0.0000000</td><td>0.0000000</td><td>true </td><td>false</td><td>false</td><td>false</td><td>false</td><td>1</td></tr>\n",
              "\t<tr><td>26746</td><td>M</td><td>BLACK</td><td>43-47      </td><td> 6</td><td>false</td><td>5</td><td>Standard   </td><td>At least some college</td><td>3 or more</td><td>⋯</td><td>0.00000000</td><td>0.00000000</td><td>0.0000000</td><td>0.0000000</td><td>false</td><td>false</td><td>false</td><td>false</td><td>false</td><td>0</td></tr>\n",
              "\t<tr><td>26747</td><td>M</td><td>WHITE</td><td>33-37      </td><td> 8</td><td>false</td><td>5</td><td>Standard   </td><td>At least some college</td><td>3 or more</td><td>⋯</td><td>0.00000000</td><td>0.00000000</td><td>0.3815385</td><td>1.1238462</td><td>false</td><td>true </td><td>true </td><td>false</td><td>false</td><td>0</td></tr>\n",
              "\t<tr><td>26748</td><td>M</td><td>WHITE</td><td>48 or older</td><td> 7</td><td>false</td><td>5</td><td>Standard   </td><td>At least some college</td><td>3 or more</td><td>⋯</td><td>        NA</td><td>        NA</td><td>0.0000000</td><td>0.0000000</td><td>false</td><td>false</td><td>false</td><td>false</td><td>false</td><td>1</td></tr>\n",
              "\t<tr><td>26749</td><td>M</td><td>BLACK</td><td>28-32      </td><td> 2</td><td>false</td><td>5</td><td>Standard   </td><td>High School Diploma  </td><td>3 or more</td><td>⋯</td><td>0.00000000</td><td>0.00000000</td><td>0.3351293</td><td>1.1807651</td><td>false</td><td>true </td><td>true </td><td>false</td><td>false</td><td>0</td></tr>\n",
              "\t<tr><td>26750</td><td>M</td><td>WHITE</td><td>23-27      </td><td>18</td><td>false</td><td>5</td><td>Standard   </td><td>High School Diploma  </td><td>3 or more</td><td>⋯</td><td>0.00000000</td><td>0.00000000</td><td>0.0000000</td><td>0.0000000</td><td>false</td><td>true </td><td>true </td><td>false</td><td>false</td><td>1</td></tr>\n",
              "\t<tr><td>26751</td><td>M</td><td>BLACK</td><td>38-42      </td><td> 6</td><td>false</td><td>5</td><td>Standard   </td><td>At least some college</td><td>3 or more</td><td>⋯</td><td>0.00000000</td><td>0.00000000</td><td>1.0000000</td><td>0.8886861</td><td>false</td><td>true </td><td>false</td><td>true </td><td>false</td><td>1</td></tr>\n",
              "\t<tr><td>26752</td><td>M</td><td>BLACK</td><td>28-32      </td><td> 7</td><td>false</td><td>5</td><td>Standard   </td><td>At least some college</td><td>3 or more</td><td>⋯</td><td>0.00000000</td><td>0.16666667</td><td>0.7572464</td><td>0.6616848</td><td>false</td><td>true </td><td>false</td><td>true </td><td>false</td><td>0</td></tr>\n",
              "\t<tr><td>26753</td><td>M</td><td>BLACK</td><td>23-27      </td><td> 6</td><td>false</td><td>5</td><td>Standard   </td><td>At least some college</td><td>3 or more</td><td>⋯</td><td>0.00000000</td><td>0.00000000</td><td>0.0000000</td><td>0.0000000</td><td>false</td><td>true </td><td>false</td><td>true </td><td>false</td><td>1</td></tr>\n",
              "\t<tr><td>26754</td><td>M</td><td>WHITE</td><td>43-47      </td><td>14</td><td>false</td><td>5</td><td>Standard   </td><td>At least some college</td><td>3 or more</td><td>⋯</td><td>0.00000000</td><td>0.00000000</td><td>0.0000000</td><td>0.0000000</td><td>true </td><td>true </td><td>false</td><td>true </td><td>false</td><td>1</td></tr>\n",
              "\t<tr><td>26755</td><td>M</td><td>WHITE</td><td>33-37      </td><td> 5</td><td>false</td><td>5</td><td>Standard   </td><td>At least some college</td><td>3 or more</td><td>⋯</td><td>0.00000000</td><td>0.00000000</td><td>0.0000000</td><td>       NA</td><td>true </td><td>false</td><td>false</td><td>false</td><td>false</td><td>0</td></tr>\n",
              "\t<tr><td>26756</td><td>M</td><td>BLACK</td><td>23-27      </td><td> 9</td><td>false</td><td>5</td><td>Standard   </td><td>At least some college</td><td>1        </td><td>⋯</td><td>0.00000000</td><td>0.00000000</td><td>0.1895067</td><td>0.5720439</td><td>false</td><td>true </td><td>true </td><td>false</td><td>false</td><td>1</td></tr>\n",
              "\t<tr><td>26758</td><td>M</td><td>WHITE</td><td>38-42      </td><td>25</td><td>false</td><td>5</td><td>Standard   </td><td>At least some college</td><td>3 or more</td><td>⋯</td><td>0.00000000</td><td>0.00000000</td><td>0.7570978</td><td>0.5761041</td><td>false</td><td>true </td><td>false</td><td>true </td><td>false</td><td>1</td></tr>\n",
              "\t<tr><td>26759</td><td>M</td><td>BLACK</td><td>33-37      </td><td>15</td><td>false</td><td>5</td><td>Standard   </td><td>At least some college</td><td>3 or more</td><td>⋯</td><td>        NA</td><td>        NA</td><td>0.7111383</td><td>0.8941248</td><td>false</td><td>true </td><td>false</td><td>true </td><td>false</td><td>1</td></tr>\n",
              "\t<tr><td>26760</td><td>F</td><td>WHITE</td><td>33-37      </td><td>15</td><td>     </td><td>5</td><td>Standard   </td><td>At least some college</td><td>3 or more</td><td>⋯</td><td>0.00000000</td><td>0.00000000</td><td>0.0000000</td><td>0.0000000</td><td>true </td><td>false</td><td>false</td><td>false</td><td>false</td><td>1</td></tr>\n",
              "\t<tr><td>26761</td><td>M</td><td>WHITE</td><td>28-32      </td><td>12</td><td>false</td><td>5</td><td>Standard   </td><td>High School Diploma  </td><td>3 or more</td><td>⋯</td><td>0.00000000</td><td>0.00000000</td><td>0.1244541</td><td>0.3987445</td><td>false</td><td>true </td><td>true </td><td>false</td><td>false</td><td>1</td></tr>\n",
              "</tbody>\n",
              "</table>\n"
            ],
            "text/markdown": "\nA data.frame: 25835 × 54\n\n| ID &lt;int&gt; | Gender &lt;chr&gt; | Race &lt;chr&gt; | Age_at_Release &lt;chr&gt; | Residence_PUMA &lt;int&gt; | Gang_Affiliated &lt;chr&gt; | Supervision_Risk_Score_First &lt;int&gt; | Supervision_Level_First &lt;chr&gt; | Education_Level &lt;chr&gt; | Dependents &lt;chr&gt; | ⋯ ⋯ | DrugTests_Meth_Positive &lt;dbl&gt; | DrugTests_Other_Positive &lt;dbl&gt; | Percent_Days_Employed &lt;dbl&gt; | Jobs_Per_Year &lt;dbl&gt; | Employment_Exempt &lt;chr&gt; | Recidivism_Within_3years &lt;chr&gt; | Recidivism_Arrest_Year1 &lt;chr&gt; | Recidivism_Arrest_Year2 &lt;chr&gt; | Recidivism_Arrest_Year3 &lt;chr&gt; | Training_Sample &lt;int&gt; |\n|---|---|---|---|---|---|---|---|---|---|---|---|---|---|---|---|---|---|---|---|---|\n|  1 | M | BLACK | 43-47       | 16 | false |  3 | Standard    | At least some college | 3 or more | ⋯ | 0.00000000 | 0.000000000 | 0.4885621 | 0.4476103 | false | false | false | false | false | 1 |\n|  2 | M | BLACK | 33-37       | 16 | false |  6 | Specialized | Less than HS diploma  | 1         | ⋯ | 0.00000000 | 0.000000000 | 0.4252336 | 2.0000000 | false | true  | false | false | true  | 1 |\n|  3 | M | BLACK | 48 or older | 24 | false |  7 | High        | At least some college | 3 or more | ⋯ | 0.16666667 | 0.000000000 | 0.0000000 | 0.0000000 | false | true  | false | true  | false | 1 |\n|  4 | M | WHITE | 38-42       | 16 | false |  7 | High        | Less than HS diploma  | 1         | ⋯ | 0.00000000 | 0.000000000 | 1.0000000 | 0.7189961 | false | false | false | false | false | 1 |\n|  5 | M | WHITE | 33-37       | 16 | false |  4 | Specialized | Less than HS diploma  | 3 or more | ⋯ | 0.05882353 | 0.000000000 | 0.2035623 | 0.9293893 | false | true  | true  | false | false | 1 |\n|  6 | M | WHITE | 38-42       | 17 | false |  5 | Standard    | High School Diploma   | 0         | ⋯ | 0.00000000 | 0.000000000 | 0.6742520 | 0.3078382 | false | false | false | false | false | 0 |\n|  7 | M | BLACK | 48 or older | 18 | false |  2 | Standard    | Less than HS diploma  | 2         | ⋯ | 0.00000000 | 0.000000000 | 0.0000000 | 0.0000000 | false | true  | false | false | true  | 1 |\n|  8 | M | BLACK | 38-42       | 16 | false |  5 | High        | High School Diploma   | 3 or more | ⋯ | 0.00000000 | 0.000000000 | 0.4694464 | 0.5251618 | false | false | false | false | false | 0 |\n|  9 | F | BLACK | 43-47       |  5 | <!----> |  7 | High        | High School Diploma   | 0         | ⋯ |         NA |          NA | 0.0000000 | 0.0000000 | true  | true  | true  | false | false | 1 |\n| 10 | M | BLACK | 43-47       | 16 | false |  5 | Standard    | High School Diploma   | 3 or more | ⋯ | 0.00000000 | 0.000000000 | 0.3597122 | 1.0000000 | false | true  | true  | false | false | 1 |\n| 11 | M | WHITE | 43-47       |  5 | false |  3 | Specialized | Less than HS diploma  | 1         | ⋯ | 0.30000001 | 0.000000000 | 1.0000000 | 3.4135514 | true  | true  | false | true  | false | 1 |\n| 12 | M | BLACK | 33-37       | 16 | false |  5 | Specialized | High School Diploma   | 3 or more | ⋯ | 0.08000000 | 0.000000000 | 0.0000000 | 0.0000000 | true  | true  | true  | false | false | 0 |\n| 13 | M | WHITE | 48 or older | 18 | false |  3 | Standard    | Less than HS diploma  | 1         | ⋯ | 0.01605505 | 0.002293578 | 0.0000000 |        NA | false | false | false | false | false | 1 |\n| 14 | M | BLACK | 33-37       |  3 | true  |  7 | <!----> | High School Diploma   | 0         | ⋯ |         NA |          NA | 1.0000000 | 1.0000000 | false | true  | true  | false | false | 1 |\n| 15 | M | WHITE | 33-37       |  5 | false |  7 | Standard    | Less than HS diploma  | 1         | ⋯ | 0.00000000 | 0.000000000 | 0.0000000 | 0.0000000 | true  | false | false | false | false | 0 |\n| 16 | M | BLACK | 33-37       |  3 | false |  4 | Standard    | Less than HS diploma  | 3 or more | ⋯ | 0.00000000 | 0.000000000 | 0.3389262 | 0.6128356 | false | false | false | false | false | 0 |\n| 17 | M | BLACK | 38-42       | 16 | false |  6 | High        | Less than HS diploma  | 3 or more | ⋯ | 0.00000000 | 0.000000000 | 0.5458515 | 2.0000000 | false | true  | true  | false | false | 1 |\n| 18 | M | WHITE | 43-47       | 24 | false |  1 | Standard    | High School Diploma   | 3 or more | ⋯ |         NA |          NA | 0.4521385 | 0.7438900 | false | true  | false | true  | false | 1 |\n| 19 | M | BLACK | 48 or older | 12 | false |  7 | High        | At least some college | 3 or more | ⋯ | 0.00000000 | 0.000000000 | 0.9185751 | 0.4646947 | false | false | false | false | false | 1 |\n| 20 | M | WHITE | 48 or older | 16 | false |  3 | Standard    | Less than HS diploma  | 0         | ⋯ | 0.00000000 | 0.000000000 | 0.7947368 | 0.3203947 | false | true  | false | false | true  | 1 |\n| 21 | M | BLACK | 38-42       |  5 | false |  3 | Standard    | High School Diploma   | 3 or more | ⋯ |         NA |          NA | 1.0000000 | 2.0000000 | false | false | false | false | false | 1 |\n| 22 | M | BLACK | 33-37       | 16 | false |  5 | Standard    | Less than HS diploma  | 3 or more | ⋯ | 0.00000000 | 0.000000000 | 1.0000000 | 3.1969365 | false | false | false | false | false | 1 |\n| 23 | F | WHITE | 48 or older |  5 | <!----> |  4 | <!----> | High School Diploma   | 0         | ⋯ | 0.05555556 | 0.000000000 | 0.0000000 | 0.0000000 | false | false | false | false | false | 0 |\n| 24 | F | WHITE | 43-47       | 16 | <!----> |  5 | Standard    | Less than HS diploma  | 0         | ⋯ |         NA |          NA | 0.9913793 | 1.0000000 | false | false | false | false | false | 1 |\n| 25 | M | BLACK | 38-42       | 18 | false |  5 | Standard    | Less than HS diploma  | 3 or more | ⋯ | 0.00000000 | 0.000000000 | 0.1964286 | 0.9317602 | false | true  | true  | false | false | 1 |\n| 26 | M | WHITE | 48 or older | 17 | false |  2 | <!----> | Less than HS diploma  | 1         | ⋯ |         NA |          NA | 1.0000000 | 2.0000000 | false | true  | true  | false | false | 1 |\n| 27 | M | WHITE | 48 or older | 14 | false |  2 | Specialized | Less than HS diploma  | 0         | ⋯ | 0.00000000 | 0.000000000 | 0.8064516 | 1.0000000 | false | false | false | false | false | 0 |\n| 28 | M | WHITE | 48 or older | 23 | false |  3 | Standard    | Less than HS diploma  | 0         | ⋯ | 0.00000000 | 0.000000000 | 0.0000000 | 0.0000000 | false | true  | false | true  | false | 0 |\n| 29 | M | BLACK | 43-47       |  6 | false |  6 | High        | High School Diploma   | 0         | ⋯ | 0.00000000 | 0.000000000 | 0.8953553 | 0.2043928 | true  | false | false | false | false | 1 |\n| 30 | M | BLACK | 18-22       |  2 | false | 10 | Specialized | Less than HS diploma  | 0         | ⋯ | 0.00000000 | 0.000000000 | 0.0000000 | 0.0000000 | false | true  | true  | false | false | 1 |\n| ⋮ | ⋮ | ⋮ | ⋮ | ⋮ | ⋮ | ⋮ | ⋮ | ⋮ | ⋮ | ⋱ | ⋮ | ⋮ | ⋮ | ⋮ | ⋮ | ⋮ | ⋮ | ⋮ | ⋮ | ⋮ |\n| 26731 | M | WHITE | 43-47       |  7 | false | 3 | Standard    | High School Diploma   | 2         | ⋯ |         NA |         NA | 1.0000000 | 0.9317602 | false | false | false | false | false | 1 |\n| 26732 | M | BLACK | 38-42       |  5 | false | 5 | Standard    | High School Diploma   | 0         | ⋯ | 0.00000000 | 0.00000000 | 0.0000000 |        NA | false | false | false | false | false | 0 |\n| 26733 | M | WHITE | 23-27       | 17 | false | 5 | Standard    | High School Diploma   | 0         | ⋯ | 0.08333334 | 0.08333334 | 0.0000000 | 0.0000000 | false | true  | true  | false | false | 0 |\n| 26734 | M | BLACK | 28-32       | 12 | false | 4 | Standard    | High School Diploma   | 3 or more | ⋯ | 0.00000000 | 0.00000000 | 0.5747423 | 0.9413660 | false | false | false | false | false | 1 |\n| 26735 | M | BLACK | 23-27       | 19 | false | 7 | High        | At least some college | 3 or more | ⋯ | 0.00000000 | 0.00000000 | 0.0000000 | 0.0000000 | false | false | false | false | false | 1 |\n| 26736 | M | WHITE | 38-42       | 12 | true  | 5 | Standard    | At least some college | 0         | ⋯ | 0.00000000 | 0.00000000 | 0.0000000 | 0.0000000 | false | true  | true  | false | false | 0 |\n| 26737 | M | BLACK | 28-32       |  8 | false | 5 | Standard    | At least some college | 3 or more | ⋯ | 0.00000000 | 0.00000000 | 1.0000000 | 1.3346529 | false | false | false | false | false | 1 |\n| 26738 | M | BLACK | 33-37       | 11 | false | 5 | Specialized | High School Diploma   | 0         | ⋯ | 0.00000000 | 0.10000000 | 0.0000000 | 0.0000000 | false | true  | true  | false | false | 1 |\n| 26739 | M | WHITE | 43-47       |  2 | false | 5 | Standard    | At least some college | 3 or more | ⋯ | 0.00000000 | 0.00000000 | 0.7392405 | 0.6164557 | false | false | false | false | false | 1 |\n| 26740 | M | WHITE | 48 or older | 12 | false | 5 | Standard    | At least some college | 3 or more | ⋯ | 0.00000000 | 0.00000000 | 0.0000000 | 0.0000000 | false | true  | false | true  | false | 0 |\n| 26741 | M | WHITE | 28-32       |  3 | false | 5 | Standard    | At least some college | 3 or more | ⋯ | 0.33333334 | 0.00000000 | 0.1851852 | 1.0000000 | false | true  | true  | false | false | 0 |\n| 26742 | M | WHITE | 23-27       |  9 | false | 5 | Standard    | At least some college | 3 or more | ⋯ |         NA |         NA | 0.1051805 | 0.5733909 | false | true  | true  | false | false | 1 |\n| 26743 | M | WHITE | 43-47       |  8 | false | 3 | Standard    | At least some college | 3 or more | ⋯ |         NA |         NA | 0.1815182 | 2.0000000 | false | true  | true  | false | false | 1 |\n| 26744 | M | BLACK | 48 or older | 21 | false | 7 | Standard    | Less than HS diploma  | 0         | ⋯ | 0.00000000 | 0.00000000 | 0.9923469 | 0.4658801 | false | false | false | false | false | 0 |\n| 26745 | M | WHITE | 48 or older | 24 | false | 5 | Standard    | At least some college | 3 or more | ⋯ |         NA |         NA | 0.0000000 | 0.0000000 | true  | false | false | false | false | 1 |\n| 26746 | M | BLACK | 43-47       |  6 | false | 5 | Standard    | At least some college | 3 or more | ⋯ | 0.00000000 | 0.00000000 | 0.0000000 | 0.0000000 | false | false | false | false | false | 0 |\n| 26747 | M | WHITE | 33-37       |  8 | false | 5 | Standard    | At least some college | 3 or more | ⋯ | 0.00000000 | 0.00000000 | 0.3815385 | 1.1238462 | false | true  | true  | false | false | 0 |\n| 26748 | M | WHITE | 48 or older |  7 | false | 5 | Standard    | At least some college | 3 or more | ⋯ |         NA |         NA | 0.0000000 | 0.0000000 | false | false | false | false | false | 1 |\n| 26749 | M | BLACK | 28-32       |  2 | false | 5 | Standard    | High School Diploma   | 3 or more | ⋯ | 0.00000000 | 0.00000000 | 0.3351293 | 1.1807651 | false | true  | true  | false | false | 0 |\n| 26750 | M | WHITE | 23-27       | 18 | false | 5 | Standard    | High School Diploma   | 3 or more | ⋯ | 0.00000000 | 0.00000000 | 0.0000000 | 0.0000000 | false | true  | true  | false | false | 1 |\n| 26751 | M | BLACK | 38-42       |  6 | false | 5 | Standard    | At least some college | 3 or more | ⋯ | 0.00000000 | 0.00000000 | 1.0000000 | 0.8886861 | false | true  | false | true  | false | 1 |\n| 26752 | M | BLACK | 28-32       |  7 | false | 5 | Standard    | At least some college | 3 or more | ⋯ | 0.00000000 | 0.16666667 | 0.7572464 | 0.6616848 | false | true  | false | true  | false | 0 |\n| 26753 | M | BLACK | 23-27       |  6 | false | 5 | Standard    | At least some college | 3 or more | ⋯ | 0.00000000 | 0.00000000 | 0.0000000 | 0.0000000 | false | true  | false | true  | false | 1 |\n| 26754 | M | WHITE | 43-47       | 14 | false | 5 | Standard    | At least some college | 3 or more | ⋯ | 0.00000000 | 0.00000000 | 0.0000000 | 0.0000000 | true  | true  | false | true  | false | 1 |\n| 26755 | M | WHITE | 33-37       |  5 | false | 5 | Standard    | At least some college | 3 or more | ⋯ | 0.00000000 | 0.00000000 | 0.0000000 |        NA | true  | false | false | false | false | 0 |\n| 26756 | M | BLACK | 23-27       |  9 | false | 5 | Standard    | At least some college | 1         | ⋯ | 0.00000000 | 0.00000000 | 0.1895067 | 0.5720439 | false | true  | true  | false | false | 1 |\n| 26758 | M | WHITE | 38-42       | 25 | false | 5 | Standard    | At least some college | 3 or more | ⋯ | 0.00000000 | 0.00000000 | 0.7570978 | 0.5761041 | false | true  | false | true  | false | 1 |\n| 26759 | M | BLACK | 33-37       | 15 | false | 5 | Standard    | At least some college | 3 or more | ⋯ |         NA |         NA | 0.7111383 | 0.8941248 | false | true  | false | true  | false | 1 |\n| 26760 | F | WHITE | 33-37       | 15 | <!----> | 5 | Standard    | At least some college | 3 or more | ⋯ | 0.00000000 | 0.00000000 | 0.0000000 | 0.0000000 | true  | false | false | false | false | 1 |\n| 26761 | M | WHITE | 28-32       | 12 | false | 5 | Standard    | High School Diploma   | 3 or more | ⋯ | 0.00000000 | 0.00000000 | 0.1244541 | 0.3987445 | false | true  | true  | false | false | 1 |\n\n",
            "text/latex": "A data.frame: 25835 × 54\n\\begin{tabular}{lllllllllllllllllllll}\n ID & Gender & Race & Age\\_at\\_Release & Residence\\_PUMA & Gang\\_Affiliated & Supervision\\_Risk\\_Score\\_First & Supervision\\_Level\\_First & Education\\_Level & Dependents & ⋯ & DrugTests\\_Meth\\_Positive & DrugTests\\_Other\\_Positive & Percent\\_Days\\_Employed & Jobs\\_Per\\_Year & Employment\\_Exempt & Recidivism\\_Within\\_3years & Recidivism\\_Arrest\\_Year1 & Recidivism\\_Arrest\\_Year2 & Recidivism\\_Arrest\\_Year3 & Training\\_Sample\\\\\n <int> & <chr> & <chr> & <chr> & <int> & <chr> & <int> & <chr> & <chr> & <chr> & ⋯ & <dbl> & <dbl> & <dbl> & <dbl> & <chr> & <chr> & <chr> & <chr> & <chr> & <int>\\\\\n\\hline\n\t  1 & M & BLACK & 43-47       & 16 & false &  3 & Standard    & At least some college & 3 or more & ⋯ & 0.00000000 & 0.000000000 & 0.4885621 & 0.4476103 & false & false & false & false & false & 1\\\\\n\t  2 & M & BLACK & 33-37       & 16 & false &  6 & Specialized & Less than HS diploma  & 1         & ⋯ & 0.00000000 & 0.000000000 & 0.4252336 & 2.0000000 & false & true  & false & false & true  & 1\\\\\n\t  3 & M & BLACK & 48 or older & 24 & false &  7 & High        & At least some college & 3 or more & ⋯ & 0.16666667 & 0.000000000 & 0.0000000 & 0.0000000 & false & true  & false & true  & false & 1\\\\\n\t  4 & M & WHITE & 38-42       & 16 & false &  7 & High        & Less than HS diploma  & 1         & ⋯ & 0.00000000 & 0.000000000 & 1.0000000 & 0.7189961 & false & false & false & false & false & 1\\\\\n\t  5 & M & WHITE & 33-37       & 16 & false &  4 & Specialized & Less than HS diploma  & 3 or more & ⋯ & 0.05882353 & 0.000000000 & 0.2035623 & 0.9293893 & false & true  & true  & false & false & 1\\\\\n\t  6 & M & WHITE & 38-42       & 17 & false &  5 & Standard    & High School Diploma   & 0         & ⋯ & 0.00000000 & 0.000000000 & 0.6742520 & 0.3078382 & false & false & false & false & false & 0\\\\\n\t  7 & M & BLACK & 48 or older & 18 & false &  2 & Standard    & Less than HS diploma  & 2         & ⋯ & 0.00000000 & 0.000000000 & 0.0000000 & 0.0000000 & false & true  & false & false & true  & 1\\\\\n\t  8 & M & BLACK & 38-42       & 16 & false &  5 & High        & High School Diploma   & 3 or more & ⋯ & 0.00000000 & 0.000000000 & 0.4694464 & 0.5251618 & false & false & false & false & false & 0\\\\\n\t  9 & F & BLACK & 43-47       &  5 &       &  7 & High        & High School Diploma   & 0         & ⋯ &         NA &          NA & 0.0000000 & 0.0000000 & true  & true  & true  & false & false & 1\\\\\n\t 10 & M & BLACK & 43-47       & 16 & false &  5 & Standard    & High School Diploma   & 3 or more & ⋯ & 0.00000000 & 0.000000000 & 0.3597122 & 1.0000000 & false & true  & true  & false & false & 1\\\\\n\t 11 & M & WHITE & 43-47       &  5 & false &  3 & Specialized & Less than HS diploma  & 1         & ⋯ & 0.30000001 & 0.000000000 & 1.0000000 & 3.4135514 & true  & true  & false & true  & false & 1\\\\\n\t 12 & M & BLACK & 33-37       & 16 & false &  5 & Specialized & High School Diploma   & 3 or more & ⋯ & 0.08000000 & 0.000000000 & 0.0000000 & 0.0000000 & true  & true  & true  & false & false & 0\\\\\n\t 13 & M & WHITE & 48 or older & 18 & false &  3 & Standard    & Less than HS diploma  & 1         & ⋯ & 0.01605505 & 0.002293578 & 0.0000000 &        NA & false & false & false & false & false & 1\\\\\n\t 14 & M & BLACK & 33-37       &  3 & true  &  7 &             & High School Diploma   & 0         & ⋯ &         NA &          NA & 1.0000000 & 1.0000000 & false & true  & true  & false & false & 1\\\\\n\t 15 & M & WHITE & 33-37       &  5 & false &  7 & Standard    & Less than HS diploma  & 1         & ⋯ & 0.00000000 & 0.000000000 & 0.0000000 & 0.0000000 & true  & false & false & false & false & 0\\\\\n\t 16 & M & BLACK & 33-37       &  3 & false &  4 & Standard    & Less than HS diploma  & 3 or more & ⋯ & 0.00000000 & 0.000000000 & 0.3389262 & 0.6128356 & false & false & false & false & false & 0\\\\\n\t 17 & M & BLACK & 38-42       & 16 & false &  6 & High        & Less than HS diploma  & 3 or more & ⋯ & 0.00000000 & 0.000000000 & 0.5458515 & 2.0000000 & false & true  & true  & false & false & 1\\\\\n\t 18 & M & WHITE & 43-47       & 24 & false &  1 & Standard    & High School Diploma   & 3 or more & ⋯ &         NA &          NA & 0.4521385 & 0.7438900 & false & true  & false & true  & false & 1\\\\\n\t 19 & M & BLACK & 48 or older & 12 & false &  7 & High        & At least some college & 3 or more & ⋯ & 0.00000000 & 0.000000000 & 0.9185751 & 0.4646947 & false & false & false & false & false & 1\\\\\n\t 20 & M & WHITE & 48 or older & 16 & false &  3 & Standard    & Less than HS diploma  & 0         & ⋯ & 0.00000000 & 0.000000000 & 0.7947368 & 0.3203947 & false & true  & false & false & true  & 1\\\\\n\t 21 & M & BLACK & 38-42       &  5 & false &  3 & Standard    & High School Diploma   & 3 or more & ⋯ &         NA &          NA & 1.0000000 & 2.0000000 & false & false & false & false & false & 1\\\\\n\t 22 & M & BLACK & 33-37       & 16 & false &  5 & Standard    & Less than HS diploma  & 3 or more & ⋯ & 0.00000000 & 0.000000000 & 1.0000000 & 3.1969365 & false & false & false & false & false & 1\\\\\n\t 23 & F & WHITE & 48 or older &  5 &       &  4 &             & High School Diploma   & 0         & ⋯ & 0.05555556 & 0.000000000 & 0.0000000 & 0.0000000 & false & false & false & false & false & 0\\\\\n\t 24 & F & WHITE & 43-47       & 16 &       &  5 & Standard    & Less than HS diploma  & 0         & ⋯ &         NA &          NA & 0.9913793 & 1.0000000 & false & false & false & false & false & 1\\\\\n\t 25 & M & BLACK & 38-42       & 18 & false &  5 & Standard    & Less than HS diploma  & 3 or more & ⋯ & 0.00000000 & 0.000000000 & 0.1964286 & 0.9317602 & false & true  & true  & false & false & 1\\\\\n\t 26 & M & WHITE & 48 or older & 17 & false &  2 &             & Less than HS diploma  & 1         & ⋯ &         NA &          NA & 1.0000000 & 2.0000000 & false & true  & true  & false & false & 1\\\\\n\t 27 & M & WHITE & 48 or older & 14 & false &  2 & Specialized & Less than HS diploma  & 0         & ⋯ & 0.00000000 & 0.000000000 & 0.8064516 & 1.0000000 & false & false & false & false & false & 0\\\\\n\t 28 & M & WHITE & 48 or older & 23 & false &  3 & Standard    & Less than HS diploma  & 0         & ⋯ & 0.00000000 & 0.000000000 & 0.0000000 & 0.0000000 & false & true  & false & true  & false & 0\\\\\n\t 29 & M & BLACK & 43-47       &  6 & false &  6 & High        & High School Diploma   & 0         & ⋯ & 0.00000000 & 0.000000000 & 0.8953553 & 0.2043928 & true  & false & false & false & false & 1\\\\\n\t 30 & M & BLACK & 18-22       &  2 & false & 10 & Specialized & Less than HS diploma  & 0         & ⋯ & 0.00000000 & 0.000000000 & 0.0000000 & 0.0000000 & false & true  & true  & false & false & 1\\\\\n\t ⋮ & ⋮ & ⋮ & ⋮ & ⋮ & ⋮ & ⋮ & ⋮ & ⋮ & ⋮ & ⋱ & ⋮ & ⋮ & ⋮ & ⋮ & ⋮ & ⋮ & ⋮ & ⋮ & ⋮ & ⋮\\\\\n\t 26731 & M & WHITE & 43-47       &  7 & false & 3 & Standard    & High School Diploma   & 2         & ⋯ &         NA &         NA & 1.0000000 & 0.9317602 & false & false & false & false & false & 1\\\\\n\t 26732 & M & BLACK & 38-42       &  5 & false & 5 & Standard    & High School Diploma   & 0         & ⋯ & 0.00000000 & 0.00000000 & 0.0000000 &        NA & false & false & false & false & false & 0\\\\\n\t 26733 & M & WHITE & 23-27       & 17 & false & 5 & Standard    & High School Diploma   & 0         & ⋯ & 0.08333334 & 0.08333334 & 0.0000000 & 0.0000000 & false & true  & true  & false & false & 0\\\\\n\t 26734 & M & BLACK & 28-32       & 12 & false & 4 & Standard    & High School Diploma   & 3 or more & ⋯ & 0.00000000 & 0.00000000 & 0.5747423 & 0.9413660 & false & false & false & false & false & 1\\\\\n\t 26735 & M & BLACK & 23-27       & 19 & false & 7 & High        & At least some college & 3 or more & ⋯ & 0.00000000 & 0.00000000 & 0.0000000 & 0.0000000 & false & false & false & false & false & 1\\\\\n\t 26736 & M & WHITE & 38-42       & 12 & true  & 5 & Standard    & At least some college & 0         & ⋯ & 0.00000000 & 0.00000000 & 0.0000000 & 0.0000000 & false & true  & true  & false & false & 0\\\\\n\t 26737 & M & BLACK & 28-32       &  8 & false & 5 & Standard    & At least some college & 3 or more & ⋯ & 0.00000000 & 0.00000000 & 1.0000000 & 1.3346529 & false & false & false & false & false & 1\\\\\n\t 26738 & M & BLACK & 33-37       & 11 & false & 5 & Specialized & High School Diploma   & 0         & ⋯ & 0.00000000 & 0.10000000 & 0.0000000 & 0.0000000 & false & true  & true  & false & false & 1\\\\\n\t 26739 & M & WHITE & 43-47       &  2 & false & 5 & Standard    & At least some college & 3 or more & ⋯ & 0.00000000 & 0.00000000 & 0.7392405 & 0.6164557 & false & false & false & false & false & 1\\\\\n\t 26740 & M & WHITE & 48 or older & 12 & false & 5 & Standard    & At least some college & 3 or more & ⋯ & 0.00000000 & 0.00000000 & 0.0000000 & 0.0000000 & false & true  & false & true  & false & 0\\\\\n\t 26741 & M & WHITE & 28-32       &  3 & false & 5 & Standard    & At least some college & 3 or more & ⋯ & 0.33333334 & 0.00000000 & 0.1851852 & 1.0000000 & false & true  & true  & false & false & 0\\\\\n\t 26742 & M & WHITE & 23-27       &  9 & false & 5 & Standard    & At least some college & 3 or more & ⋯ &         NA &         NA & 0.1051805 & 0.5733909 & false & true  & true  & false & false & 1\\\\\n\t 26743 & M & WHITE & 43-47       &  8 & false & 3 & Standard    & At least some college & 3 or more & ⋯ &         NA &         NA & 0.1815182 & 2.0000000 & false & true  & true  & false & false & 1\\\\\n\t 26744 & M & BLACK & 48 or older & 21 & false & 7 & Standard    & Less than HS diploma  & 0         & ⋯ & 0.00000000 & 0.00000000 & 0.9923469 & 0.4658801 & false & false & false & false & false & 0\\\\\n\t 26745 & M & WHITE & 48 or older & 24 & false & 5 & Standard    & At least some college & 3 or more & ⋯ &         NA &         NA & 0.0000000 & 0.0000000 & true  & false & false & false & false & 1\\\\\n\t 26746 & M & BLACK & 43-47       &  6 & false & 5 & Standard    & At least some college & 3 or more & ⋯ & 0.00000000 & 0.00000000 & 0.0000000 & 0.0000000 & false & false & false & false & false & 0\\\\\n\t 26747 & M & WHITE & 33-37       &  8 & false & 5 & Standard    & At least some college & 3 or more & ⋯ & 0.00000000 & 0.00000000 & 0.3815385 & 1.1238462 & false & true  & true  & false & false & 0\\\\\n\t 26748 & M & WHITE & 48 or older &  7 & false & 5 & Standard    & At least some college & 3 or more & ⋯ &         NA &         NA & 0.0000000 & 0.0000000 & false & false & false & false & false & 1\\\\\n\t 26749 & M & BLACK & 28-32       &  2 & false & 5 & Standard    & High School Diploma   & 3 or more & ⋯ & 0.00000000 & 0.00000000 & 0.3351293 & 1.1807651 & false & true  & true  & false & false & 0\\\\\n\t 26750 & M & WHITE & 23-27       & 18 & false & 5 & Standard    & High School Diploma   & 3 or more & ⋯ & 0.00000000 & 0.00000000 & 0.0000000 & 0.0000000 & false & true  & true  & false & false & 1\\\\\n\t 26751 & M & BLACK & 38-42       &  6 & false & 5 & Standard    & At least some college & 3 or more & ⋯ & 0.00000000 & 0.00000000 & 1.0000000 & 0.8886861 & false & true  & false & true  & false & 1\\\\\n\t 26752 & M & BLACK & 28-32       &  7 & false & 5 & Standard    & At least some college & 3 or more & ⋯ & 0.00000000 & 0.16666667 & 0.7572464 & 0.6616848 & false & true  & false & true  & false & 0\\\\\n\t 26753 & M & BLACK & 23-27       &  6 & false & 5 & Standard    & At least some college & 3 or more & ⋯ & 0.00000000 & 0.00000000 & 0.0000000 & 0.0000000 & false & true  & false & true  & false & 1\\\\\n\t 26754 & M & WHITE & 43-47       & 14 & false & 5 & Standard    & At least some college & 3 or more & ⋯ & 0.00000000 & 0.00000000 & 0.0000000 & 0.0000000 & true  & true  & false & true  & false & 1\\\\\n\t 26755 & M & WHITE & 33-37       &  5 & false & 5 & Standard    & At least some college & 3 or more & ⋯ & 0.00000000 & 0.00000000 & 0.0000000 &        NA & true  & false & false & false & false & 0\\\\\n\t 26756 & M & BLACK & 23-27       &  9 & false & 5 & Standard    & At least some college & 1         & ⋯ & 0.00000000 & 0.00000000 & 0.1895067 & 0.5720439 & false & true  & true  & false & false & 1\\\\\n\t 26758 & M & WHITE & 38-42       & 25 & false & 5 & Standard    & At least some college & 3 or more & ⋯ & 0.00000000 & 0.00000000 & 0.7570978 & 0.5761041 & false & true  & false & true  & false & 1\\\\\n\t 26759 & M & BLACK & 33-37       & 15 & false & 5 & Standard    & At least some college & 3 or more & ⋯ &         NA &         NA & 0.7111383 & 0.8941248 & false & true  & false & true  & false & 1\\\\\n\t 26760 & F & WHITE & 33-37       & 15 &       & 5 & Standard    & At least some college & 3 or more & ⋯ & 0.00000000 & 0.00000000 & 0.0000000 & 0.0000000 & true  & false & false & false & false & 1\\\\\n\t 26761 & M & WHITE & 28-32       & 12 & false & 5 & Standard    & High School Diploma   & 3 or more & ⋯ & 0.00000000 & 0.00000000 & 0.1244541 & 0.3987445 & false & true  & true  & false & false & 1\\\\\n\\end{tabular}\n"
          },
          "metadata": {}
        }
      ]
    },
    {
      "cell_type": "markdown",
      "source": [
        "Remove redundant columns from the datafram"
      ],
      "metadata": {
        "id": "pUfMl51mdfQc"
      }
    },
    {
      "cell_type": "code",
      "source": [
        "NIJ = subset(NIJ, select = -c(Recidivism_Arrest_Year1,Recidivism_Arrest_Year2,Recidivism_Arrest_Year3,Training_Sample))"
      ],
      "metadata": {
        "id": "ZcKL_meYdftD"
      },
      "execution_count": 3,
      "outputs": []
    },
    {
      "cell_type": "markdown",
      "source": [
        "Is there a statisitically significant difference in prior arrest episodes and PP violation charges betweeen black males and white males?"
      ],
      "metadata": {
        "id": "STtGr0y21wVd"
      }
    },
    {
      "cell_type": "markdown",
      "source": [
        "Replace null values with appropriate values:\n",
        "\n",
        "- Gang_Affiliated is missing only for Female offenders so replace with FALSE\n",
        "- Supervision_Risk_Score_First is INTEGER so replace with the most frequently occuring value\n",
        "- Supervision_Level_First is CATEGORICAL so replace with the most frequently occuring value\n",
        "- Prison_Offense is categorical and includes \"Other\" so replace with \"Other\"\n",
        "- Avg_Days_per_DrugTest is FLOAT so replace with average value\n",
        "- DrugTests_THC_Positive is FLOAT but replace with 0\n",
        "- DrugTests_Cocaine_Positive is FLOAT but replace with 0\n",
        "- DrugTests_Meth_Positive is FLOAT but replace with 0\n",
        "- DrugTests_Other_Positive is FLOAT but replace with 0\n",
        "- Percent_Days_Employed is FLOAT so replace with average value\n",
        "- Jobs_Per_Year is FLOAT so replace with average value"
      ],
      "metadata": {
        "id": "DqcoO7zZHgE0"
      }
    },
    {
      "cell_type": "code",
      "source": [
        "\n",
        "NIJ$Gang_Affiliated <- replace(NIJ$Gang_Affiliated, NIJ$Gang_Affiliated == '', 'false')\n",
        "NIJ$Supervision_Risk_Score_First[is.na(NIJ$Supervision_Risk_Score_First)]<- names(which.max(table(NIJ$Supervision_Risk_Score_First)))\n",
        "NIJ$Supervision_Level_First <- replace(NIJ$Supervision_Level_First, NIJ$Supervision_Level_First == '', names(which.max(table(NIJ$Supervision_Level_First))))\n",
        "NIJ$Prison_Offense <- replace(NIJ$Prison_Offense, NIJ$Prison_Offense == '', 'Other')\n",
        "NIJ$Avg_Days_per_DrugTest[is.na(NIJ$Avg_Days_per_DrugTest)]<-mean(NIJ$Avg_Days_per_DrugTest ,na.rm=TRUE)\n",
        "NIJ$DrugTests_THC_Positive[is.na(NIJ$DrugTests_THC_Positive)]<-0\n",
        "NIJ$DrugTests_Cocaine_Positive[is.na(NIJ$DrugTests_Cocaine_Positive)]<-0\n",
        "NIJ$DrugTests_Meth_Positive[is.na(NIJ$DrugTests_Meth_Positive)]<-0\n",
        "NIJ$DrugTests_Other_Positive[is.na(NIJ$DrugTests_Other_Positive)]<-0\n",
        "NIJ$Percent_Days_Employed[is.na(NIJ$Percent_Days_Employed)]<-mean(NIJ$Percent_Days_Employed ,na.rm=TRUE)\n",
        "NIJ$Jobs_Per_Year[is.na(NIJ$Jobs_Per_Year)]<-mean(NIJ$Jobs_Per_Year ,na.rm=TRUE)"
      ],
      "metadata": {
        "id": "-Fr2o6viBRPG"
      },
      "execution_count": 4,
      "outputs": []
    },
    {
      "cell_type": "markdown",
      "source": [
        "Copy the dataframe to use for descriptive analysis later and replace M and F with Male and Female."
      ],
      "metadata": {
        "id": "qgSP0Cp_ev2D"
      }
    },
    {
      "cell_type": "code",
      "source": [
        "NIJ_orig <- NIJ\n",
        "NIJ_orig$Gender <- replace(NIJ_orig$Gender, NIJ_orig$Gender == 'M', 'Male')\n",
        "NIJ_orig$Gender <- replace(NIJ_orig$Gender, NIJ_orig$Gender == 'F', 'Female')"
      ],
      "metadata": {
        "id": "0tBNZqmdewAq"
      },
      "execution_count": 5,
      "outputs": []
    },
    {
      "cell_type": "code",
      "source": [],
      "metadata": {
        "id": "Yy2lR2I6fYZ9"
      },
      "execution_count": 6,
      "outputs": []
    },
    {
      "cell_type": "markdown",
      "source": [
        "Some features contain integers but max out with, \"x or more\". To enable numerical analysis the \"or more\" will be removed and the column changed to integer:\n",
        "\n",
        "- Dependents: \"3 or more\" changed to \"3\"\n",
        "- Prior_Arrest_Episodes_Felony: \"10 more more\" changed to \"10\"\n",
        "- Prior_Arrest_Episodes_Misd: \"6 or more\" changed to \"6\"\n",
        "- Prior_Arrest_Episodes_Violent: \"3 or more\" changed to \"3\"\n",
        "- Prior_Arrest_Episodes_Property: \"5 or more\" changed to \"5\"\n",
        "- Prior_Arrest_Episodes_Drug: \"5 or more\" changed to \"5\"\n",
        "- Prior_Arrest_Episodes_PPViolationCharges: \"5 or more\" changed to \"5\"\n",
        "- Prior_Conviction_Episodes_Felony.replace: \"3 or more\" changed to \"3\"\n",
        "- Prior_Conviction_Episodes_Misd.replace: \"4 or more\" changed to \"4\"\n",
        "- Prior_Conviction_Episodes_Prop.replace: \"3 or more\" changed to \"3\"\n",
        "- Prior_Conviction_Episodes_Drug.replace: \"2 or more\" changed to \"2\"\n",
        "- Delinquency_Reports: \"4 or more\" changed to \"4\"\n",
        "- Program_Attendances: \"10 more more\" changed to \"10\"\n",
        "- Program_UnexcusedAbsences: \"3 or more\" changed to \"3\"\n",
        "- Residence_Changes: \"3 or more\" changed to \"3\""
      ],
      "metadata": {
        "id": "wXEkqvpUI8I7"
      }
    },
    {
      "cell_type": "code",
      "source": [
        "NIJ$Dependents <- replace(NIJ$Dependents, NIJ$Dependents == '3 or more', '3')\n",
        "NIJ$Dependents <-  as.integer(NIJ$Dependents)\n",
        "\n",
        "NIJ$Prior_Arrest_Episodes_Felony <- replace(NIJ$Prior_Arrest_Episodes_Felony, NIJ$Prior_Arrest_Episodes_Felony == '10 or more', '10')\n",
        "NIJ$Prior_Arrest_Episodes_Felony <-  as.integer(NIJ$Prior_Arrest_Episodes_Felony)\n",
        "\n",
        "NIJ$Prior_Arrest_Episodes_Misd <- replace(NIJ$Prior_Arrest_Episodes_Misd, NIJ$Prior_Arrest_Episodes_Misd == '6 or more', '6')\n",
        "NIJ$Prior_Arrest_Episodes_Misd <-  as.integer(NIJ$Prior_Arrest_Episodes_Misd)\n",
        "\n",
        "NIJ$Prior_Arrest_Episodes_Violent <- replace(NIJ$Prior_Arrest_Episodes_Violent, NIJ$Prior_Arrest_Episodes_Violent == '3 or more', '3')\n",
        "NIJ$Prior_Arrest_Episodes_Violent <-  as.integer(NIJ$Prior_Arrest_Episodes_Violent)\n",
        "\n",
        "NIJ$Prior_Arrest_Episodes_Property <- replace(NIJ$Prior_Arrest_Episodes_Property, NIJ$Prior_Arrest_Episodes_Property == '5 or more', '5')\n",
        "NIJ$Prior_Arrest_Episodes_Property <-  as.integer(NIJ$Prior_Arrest_Episodes_Property)\n",
        "\n",
        "NIJ$Prior_Arrest_Episodes_Drug <- replace(NIJ$Prior_Arrest_Episodes_Drug, NIJ$Prior_Arrest_Episodes_Drug == '5 or more', '5')\n",
        "NIJ$Prior_Arrest_Episodes_Drug <-  as.integer(NIJ$Prior_Arrest_Episodes_Drug)\n",
        "\n",
        "NIJ$Prior_Arrest_Episodes_PPViolationCharges <- replace(NIJ$Prior_Arrest_Episodes_PPViolationCharges, NIJ$Prior_Arrest_Episodes_PPViolationCharges == '5 or more', '5')\n",
        "NIJ$Prior_Arrest_Episodes_PPViolationCharges <-  as.integer(NIJ$Prior_Arrest_Episodes_PPViolationCharges)\n",
        "\n",
        "NIJ$Prior_Conviction_Episodes_Felony <- replace(NIJ$Prior_Conviction_Episodes_Felony, NIJ$Prior_Conviction_Episodes_Felony == '3 or more', '3')\n",
        "NIJ$Prior_Conviction_Episodes_Felony <-  as.integer(NIJ$Prior_Conviction_Episodes_Felony)\n",
        "\n",
        "NIJ$Prior_Conviction_Episodes_Misd <- replace(NIJ$Prior_Conviction_Episodes_Misd, NIJ$Prior_Conviction_Episodes_Misd == '4 or more', '4')\n",
        "NIJ$Prior_Conviction_Episodes_Misd <-  as.integer(NIJ$Prior_Conviction_Episodes_Misd)\n",
        "\n",
        "NIJ$Prior_Conviction_Episodes_Prop <- replace(NIJ$Prior_Conviction_Episodes_Prop, NIJ$Prior_Conviction_Episodes_Prop == '3 or more', '3')\n",
        "NIJ$Prior_Conviction_Episodes_Prop <-  as.integer(NIJ$Prior_Conviction_Episodes_Prop)\n",
        "\n",
        "NIJ$Prior_Conviction_Episodes_Drug <- replace(NIJ$Prior_Conviction_Episodes_Drug, NIJ$Prior_Conviction_Episodes_Drug == '2 or more', '2')\n",
        "NIJ$Prior_Conviction_Episodes_Drug <-  as.integer(NIJ$Prior_Conviction_Episodes_Drug)\n",
        "\n",
        "NIJ$Delinquency_Reports <- replace(NIJ$Delinquency_Reports, NIJ$Delinquency_Reports == '4 or more', '4')\n",
        "NIJ$Delinquency_Reports <-  as.integer(NIJ$Delinquency_Reports)\n",
        "\n",
        "NIJ$Program_Attendances <- replace(NIJ$Program_Attendances, NIJ$Program_Attendances == '10 or more', '10')\n",
        "NIJ$Program_Attendances <-  as.integer(NIJ$Program_Attendances)\n",
        "\n",
        "NIJ$Program_UnexcusedAbsences <- replace(NIJ$Program_UnexcusedAbsences, NIJ$Program_UnexcusedAbsences == '3 or more', '3')\n",
        "NIJ$Program_UnexcusedAbsences <-  as.integer(NIJ$Program_UnexcusedAbsences)\n",
        "\n",
        "NIJ$Residence_Changes <- replace(NIJ$Residence_Changes, NIJ$Residence_Changes == '3 or more', '3')\n",
        "NIJ$Residence_Changes <-  as.integer(NIJ$Residence_Changes)\n"
      ],
      "metadata": {
        "id": "KIDNY899C6v9"
      },
      "execution_count": 7,
      "outputs": []
    },
    {
      "cell_type": "markdown",
      "source": [
        "Age_at_Release is populated with ranges which won't be assessed as numeric, so change each value to the first number in each range and convert to integer:"
      ],
      "metadata": {
        "id": "-HKaJY64KkzL"
      }
    },
    {
      "cell_type": "code",
      "source": [
        "\n",
        "NIJ$Age_at_Release <- replace(NIJ$Age_at_Release, NIJ$Age_at_Release == '18-22', '18')\n",
        "NIJ$Age_at_Release <- replace(NIJ$Age_at_Release, NIJ$Age_at_Release == '23-27', '23')\n",
        "NIJ$Age_at_Release <- replace(NIJ$Age_at_Release, NIJ$Age_at_Release == '28-32', '28')\n",
        "NIJ$Age_at_Release <- replace(NIJ$Age_at_Release, NIJ$Age_at_Release == '33-37', '33')\n",
        "NIJ$Age_at_Release <- replace(NIJ$Age_at_Release, NIJ$Age_at_Release == '38-42', '38')\n",
        "NIJ$Age_at_Release <- replace(NIJ$Age_at_Release, NIJ$Age_at_Release == '43-47', '43')\n",
        "NIJ$Age_at_Release <- replace(NIJ$Age_at_Release, NIJ$Age_at_Release == '48 or older', '48')\n",
        "\n",
        "NIJ$Age_at_Release <-  as.integer(NIJ$Age_at_Release)"
      ],
      "metadata": {
        "id": "_TKzwpSLKle5"
      },
      "execution_count": 8,
      "outputs": []
    },
    {
      "cell_type": "markdown",
      "source": [
        "Prison_Years is populated with range descriptions so change to integer:"
      ],
      "metadata": {
        "id": "0YFZboOGY-yD"
      }
    },
    {
      "cell_type": "code",
      "source": [
        "NIJ$Prison_Years <- replace(NIJ$Prison_Years, NIJ$Prison_Years == 'Less than 1 year', '0')\n",
        "NIJ$Prison_Years <- replace(NIJ$Prison_Years, NIJ$Prison_Years == '1-2 years', '1')\n",
        "NIJ$Prison_Years <- replace(NIJ$Prison_Years, NIJ$Prison_Years == 'Greater than 2 to 3 years', '2')\n",
        "NIJ$Prison_Years <- replace(NIJ$Prison_Years, NIJ$Prison_Years == 'More than 3 years', '3')\n",
        "\n",
        "NIJ$Prison_Years <-  as.integer(NIJ$Prison_Years)"
      ],
      "metadata": {
        "id": "8-NneQJFY_Z7"
      },
      "execution_count": 9,
      "outputs": []
    },
    {
      "cell_type": "markdown",
      "source": [],
      "metadata": {
        "id": "DHtidXG7ZzIi"
      }
    },
    {
      "cell_type": "markdown",
      "source": [
        "Supervision_Level_First\n",
        "- Standard = 1\n",
        "- High = 2\n",
        "- Specialized = 3\n",
        "\n",
        "Education_Level\n",
        "- Less than HS diploma = 1\n",
        "- High School Diploma = 2\n",
        "- At least some college = 3\n",
        "\n",
        "\n",
        "\n",
        "\n"
      ],
      "metadata": {
        "id": "yoBUjob-Xmt6"
      }
    },
    {
      "cell_type": "code",
      "source": [
        "NIJ$Supervision_Level_First <- replace(NIJ$Supervision_Level_First, NIJ$Supervision_Level_First == 'Standard', '1')\n",
        "NIJ$Supervision_Level_First <- replace(NIJ$Supervision_Level_First, NIJ$Supervision_Level_First == 'High', '2')\n",
        "NIJ$Supervision_Level_First <- replace(NIJ$Supervision_Level_First, NIJ$Supervision_Level_First == 'Specialized', '3')\n",
        "\n",
        "NIJ$Supervision_Level_First <-  as.integer(NIJ$Supervision_Level_First)\n",
        "\n",
        "NIJ$Education_Level <- replace(NIJ$Education_Level, NIJ$Education_Level == 'Less than HS diploma', '1')\n",
        "NIJ$Education_Level <- replace(NIJ$Education_Level, NIJ$Education_Level == 'High School Diploma', '2')\n",
        "NIJ$Education_Level <- replace(NIJ$Education_Level, NIJ$Education_Level == 'At least some college', '3')\n",
        "\n",
        "NIJ$Education_Level <-  as.integer(NIJ$Education_Level)"
      ],
      "metadata": {
        "id": "2LvJy29FXnbS"
      },
      "execution_count": 10,
      "outputs": []
    },
    {
      "cell_type": "markdown",
      "source": [
        "Convert Gender, Race and Recidivism_Within_3years to integers"
      ],
      "metadata": {
        "id": "8g5mdo6WLaPa"
      }
    },
    {
      "cell_type": "code",
      "source": [
        "#NIJ$Gender <-  as.integer(factor(NIJ$Gender))\n",
        "#NIJ$Race <-  as.integer(factor(NIJ$Race))\n",
        "#NIJ$Recidivism_Within_3years <-  as.integer(factor(NIJ$Recidivism_Within_3years))\n",
        "\n"
      ],
      "metadata": {
        "id": "yJ7GI6piBOvy"
      },
      "execution_count": 11,
      "outputs": []
    },
    {
      "cell_type": "markdown",
      "source": [
        "Convert character features to integer"
      ],
      "metadata": {
        "id": "5EeUByPuNR_S"
      }
    },
    {
      "cell_type": "code",
      "source": [
        "#NIJ$Gender <-  as.integer(factor(NIJ$Gender))\n",
        "#NIJ$Race <-  as.integer(factor(NIJ$Race))\n",
        "#NIJ$Gang_Affiliated <-  as.integer(factor(NIJ$Gang_Affiliated))\n",
        "#NIJ$Supervision_Risk_Score_First <-  as.integer(NIJ$Supervision_Risk_Score_First)\n",
        "#NIJ$Race <-  as.integer(factor(NIJ$Race))\n",
        "#NIJ$Race <-  as.integer(factor(NIJ$Race))\n",
        "#NIJ$Race <-  as.integer(factor(NIJ$Race))\n",
        "#NIJ$Race <-  as.integer(factor(NIJ$Race))\n",
        "#NIJ$Race <-  as.integer(factor(NIJ$Race))\n",
        "#NIJ$Race <-  as.integer(factor(NIJ$Race))\n",
        "#NIJ$Race <-  as.integer(factor(NIJ$Race))\n",
        "\n",
        "#NIJ$Recidivism_Within_3years <-  as.integer(factor(NIJ$Recidivism_Within_3years))\n"
      ],
      "metadata": {
        "id": "2Fkf04MdNSXC"
      },
      "execution_count": 12,
      "outputs": []
    },
    {
      "cell_type": "markdown",
      "source": [
        "Convert boolean and character features to integer"
      ],
      "metadata": {
        "id": "0uh-t_dCNBgC"
      }
    },
    {
      "cell_type": "code",
      "source": [
        "glimpse(NIJ)"
      ],
      "metadata": {
        "id": "a2SEC1qZNTuC",
        "outputId": "9e5fd371-ac63-4a17-f846-04ef71c38f99",
        "colab": {
          "base_uri": "https://localhost:8080/"
        }
      },
      "execution_count": 13,
      "outputs": [
        {
          "output_type": "stream",
          "name": "stdout",
          "text": [
            "Rows: 25,835\n",
            "Columns: 50\n",
            "$ ID                                                \u001b[3m\u001b[90m<int>\u001b[39m\u001b[23m 1, 2, 3, 4, 5, 6, 7,…\n",
            "$ Gender                                            \u001b[3m\u001b[90m<chr>\u001b[39m\u001b[23m \"M\", \"M\", \"M\", \"M\", …\n",
            "$ Race                                              \u001b[3m\u001b[90m<chr>\u001b[39m\u001b[23m \"BLACK\", \"BLACK\", \"B…\n",
            "$ Age_at_Release                                    \u001b[3m\u001b[90m<int>\u001b[39m\u001b[23m 43, 33, 48, 38, 33, …\n",
            "$ Residence_PUMA                                    \u001b[3m\u001b[90m<int>\u001b[39m\u001b[23m 16, 16, 24, 16, 16, …\n",
            "$ Gang_Affiliated                                   \u001b[3m\u001b[90m<chr>\u001b[39m\u001b[23m \"false\", \"false\", \"f…\n",
            "$ Supervision_Risk_Score_First                      \u001b[3m\u001b[90m<chr>\u001b[39m\u001b[23m \"3\", \"6\", \"7\", \"7\", …\n",
            "$ Supervision_Level_First                           \u001b[3m\u001b[90m<int>\u001b[39m\u001b[23m 1, 3, 2, 2, 3, 1, 1,…\n",
            "$ Education_Level                                   \u001b[3m\u001b[90m<int>\u001b[39m\u001b[23m 3, 1, 3, 1, 1, 2, 1,…\n",
            "$ Dependents                                        \u001b[3m\u001b[90m<int>\u001b[39m\u001b[23m 3, 1, 3, 1, 3, 0, 2,…\n",
            "$ Prison_Offense                                    \u001b[3m\u001b[90m<chr>\u001b[39m\u001b[23m \"Drug\", \"Violent/Non…\n",
            "$ Prison_Years                                      \u001b[3m\u001b[90m<int>\u001b[39m\u001b[23m 3, 3, 1, 1, 1, 3, 0,…\n",
            "$ Prior_Arrest_Episodes_Felony                      \u001b[3m\u001b[90m<int>\u001b[39m\u001b[23m 6, 7, 6, 8, 4, 4, 10…\n",
            "$ Prior_Arrest_Episodes_Misd                        \u001b[3m\u001b[90m<int>\u001b[39m\u001b[23m 6, 6, 6, 6, 4, 0, 6,…\n",
            "$ Prior_Arrest_Episodes_Violent                     \u001b[3m\u001b[90m<int>\u001b[39m\u001b[23m 1, 3, 3, 0, 3, 1, 1,…\n",
            "$ Prior_Arrest_Episodes_Property                    \u001b[3m\u001b[90m<int>\u001b[39m\u001b[23m 3, 0, 2, 3, 2, 3, 5,…\n",
            "$ Prior_Arrest_Episodes_Drug                        \u001b[3m\u001b[90m<int>\u001b[39m\u001b[23m 3, 3, 2, 3, 1, 0, 1,…\n",
            "$ Prior_Arrest_Episodes_PPViolationCharges          \u001b[3m\u001b[90m<int>\u001b[39m\u001b[23m 4, 5, 5, 3, 3, 0, 5,…\n",
            "$ Prior_Arrest_Episodes_DVCharges                   \u001b[3m\u001b[90m<chr>\u001b[39m\u001b[23m \"false\", \"true\", \"tr…\n",
            "$ Prior_Arrest_Episodes_GunCharges                  \u001b[3m\u001b[90m<chr>\u001b[39m\u001b[23m \"false\", \"false\", \"f…\n",
            "$ Prior_Conviction_Episodes_Felony                  \u001b[3m\u001b[90m<int>\u001b[39m\u001b[23m 3, 3, 3, 3, 1, 1, 3,…\n",
            "$ Prior_Conviction_Episodes_Misd                    \u001b[3m\u001b[90m<int>\u001b[39m\u001b[23m 3, 4, 2, 4, 0, 0, 1,…\n",
            "$ Prior_Conviction_Episodes_Viol                    \u001b[3m\u001b[90m<chr>\u001b[39m\u001b[23m \"false\", \"true\", \"tr…\n",
            "$ Prior_Conviction_Episodes_Prop                    \u001b[3m\u001b[90m<int>\u001b[39m\u001b[23m 2, 0, 1, 3, 0, 2, 3,…\n",
            "$ Prior_Conviction_Episodes_Drug                    \u001b[3m\u001b[90m<int>\u001b[39m\u001b[23m 2, 2, 2, 2, 1, 0, 0,…\n",
            "$ Prior_Conviction_Episodes_PPViolationCharges      \u001b[3m\u001b[90m<chr>\u001b[39m\u001b[23m \"false\", \"true\", \"fa…\n",
            "$ Prior_Conviction_Episodes_DomesticViolenceCharges \u001b[3m\u001b[90m<chr>\u001b[39m\u001b[23m \"false\", \"true\", \"tr…\n",
            "$ Prior_Conviction_Episodes_GunCharges              \u001b[3m\u001b[90m<chr>\u001b[39m\u001b[23m \"false\", \"true\", \"fa…\n",
            "$ Prior_Revocations_Parole                          \u001b[3m\u001b[90m<chr>\u001b[39m\u001b[23m \"false\", \"false\", \"f…\n",
            "$ Prior_Revocations_Probation                       \u001b[3m\u001b[90m<chr>\u001b[39m\u001b[23m \"false\", \"false\", \"f…\n",
            "$ Condition_MH_SA                                   \u001b[3m\u001b[90m<chr>\u001b[39m\u001b[23m \"true\", \"false\", \"tr…\n",
            "$ Condition_Cog_Ed                                  \u001b[3m\u001b[90m<chr>\u001b[39m\u001b[23m \"true\", \"false\", \"tr…\n",
            "$ Condition_Other                                   \u001b[3m\u001b[90m<chr>\u001b[39m\u001b[23m \"false\", \"false\", \"f…\n",
            "$ Violations_ElectronicMonitoring                   \u001b[3m\u001b[90m<chr>\u001b[39m\u001b[23m \"false\", \"false\", \"f…\n",
            "$ Violations_Instruction                            \u001b[3m\u001b[90m<chr>\u001b[39m\u001b[23m \"false\", \"true\", \"tr…\n",
            "$ Violations_FailToReport                           \u001b[3m\u001b[90m<chr>\u001b[39m\u001b[23m \"false\", \"false\", \"f…\n",
            "$ Violations_MoveWithoutPermission                  \u001b[3m\u001b[90m<chr>\u001b[39m\u001b[23m \"false\", \"false\", \"t…\n",
            "$ Delinquency_Reports                               \u001b[3m\u001b[90m<int>\u001b[39m\u001b[23m 0, 4, 4, 0, 0, 0, 0,…\n",
            "$ Program_Attendances                               \u001b[3m\u001b[90m<int>\u001b[39m\u001b[23m 6, 0, 6, 6, 7, 0, 0,…\n",
            "$ Program_UnexcusedAbsences                         \u001b[3m\u001b[90m<int>\u001b[39m\u001b[23m 0, 0, 0, 0, 0, 0, 0,…\n",
            "$ Residence_Changes                                 \u001b[3m\u001b[90m<int>\u001b[39m\u001b[23m 2, 2, 0, 3, 0, 3, 1,…\n",
            "$ Avg_Days_per_DrugTest                             \u001b[3m\u001b[90m<dbl>\u001b[39m\u001b[23m 612.00000, 35.66667,…\n",
            "$ DrugTests_THC_Positive                            \u001b[3m\u001b[90m<dbl>\u001b[39m\u001b[23m 0.0000000, 0.0000000…\n",
            "$ DrugTests_Cocaine_Positive                        \u001b[3m\u001b[90m<dbl>\u001b[39m\u001b[23m 0, 0, 0, 0, 0, 0, 0,…\n",
            "$ DrugTests_Meth_Positive                           \u001b[3m\u001b[90m<dbl>\u001b[39m\u001b[23m 0.00000000, 0.000000…\n",
            "$ DrugTests_Other_Positive                          \u001b[3m\u001b[90m<dbl>\u001b[39m\u001b[23m 0.000000000, 0.00000…\n",
            "$ Percent_Days_Employed                             \u001b[3m\u001b[90m<dbl>\u001b[39m\u001b[23m 0.4885621, 0.4252336…\n",
            "$ Jobs_Per_Year                                     \u001b[3m\u001b[90m<dbl>\u001b[39m\u001b[23m 0.4476103, 2.0000000…\n",
            "$ Employment_Exempt                                 \u001b[3m\u001b[90m<chr>\u001b[39m\u001b[23m \"false\", \"false\", \"f…\n",
            "$ Recidivism_Within_3years                          \u001b[3m\u001b[90m<chr>\u001b[39m\u001b[23m \"false\", \"true\", \"tr…\n"
          ]
        }
      ]
    },
    {
      "cell_type": "code",
      "source": [
        "NIJ$Gender <- as.integer(factor(NIJ$Gender))\n",
        "NIJ$Race <- as.integer(factor(NIJ$Race))\n",
        "NIJ$Gang_Affiliated <- as.integer(factor(NIJ$Gang_Affiliated))\n",
        "NIJ$Supervision_Risk_Score_First <- as.integer(NIJ$Supervision_Risk_Score_First)\n",
        "NIJ$Prison_Offense <- as.integer(factor(NIJ$Prison_Offense))\n",
        "NIJ$Prior_Arrest_Episodes_DVCharges <- as.integer(factor(NIJ$Prior_Arrest_Episodes_DVCharges))\n",
        "NIJ$Prior_Arrest_Episodes_GunCharges <- as.integer(factor(NIJ$Prior_Arrest_Episodes_GunCharges))\n",
        "NIJ$Prior_Conviction_Episodes_Viol <- as.integer(factor(NIJ$Prior_Conviction_Episodes_Viol))\n",
        "NIJ$Prior_Conviction_Episodes_PPViolationCharges <- as.integer(factor(NIJ$Prior_Conviction_Episodes_PPViolationCharges))\n",
        "NIJ$Prior_Conviction_Episodes_DomesticViolenceCharges <- as.integer(factor(NIJ$Prior_Conviction_Episodes_DomesticViolenceCharges))\n",
        "NIJ$Prior_Conviction_Episodes_GunCharges <- as.integer(factor(NIJ$Prior_Conviction_Episodes_GunCharges))\n",
        "NIJ$Prior_Revocations_Parole  <- as.integer(factor(NIJ$Prior_Revocations_Parole ))\n",
        "NIJ$Prior_Revocations_Probation <- as.integer(factor(NIJ$Prior_Revocations_Probation))\n",
        "NIJ$Condition_MH_SA <- as.integer(factor(NIJ$Condition_MH_SA))\n",
        "NIJ$Condition_Cog_Ed <- as.integer(factor(NIJ$Condition_Cog_Ed))\n",
        "NIJ$Condition_Other <- as.integer(factor(NIJ$Condition_Other))\n",
        "NIJ$Violations_ElectronicMonitoring <- as.integer(factor(NIJ$Violations_ElectronicMonitoring))\n",
        "NIJ$Violations_Instruction <- as.integer(factor(NIJ$Violations_Instruction))\n",
        "NIJ$Violations_FailToReport <- as.integer(factor(NIJ$Violations_FailToReport))\n",
        "NIJ$Violations_MoveWithoutPermission <- as.integer(factor(NIJ$Violations_MoveWithoutPermission))\n",
        "NIJ$Employment_Exempt <- as.integer(factor(NIJ$Employment_Exempt))\n",
        "NIJ$Recidivism_Within_3years <- as.integer(factor(NIJ$Recidivism_Within_3years))"
      ],
      "metadata": {
        "id": "ffOdu-ZPW7bL"
      },
      "execution_count": 14,
      "outputs": []
    },
    {
      "cell_type": "code",
      "source": [
        "glimpse(NIJ)"
      ],
      "metadata": {
        "id": "gpZ9YjaKeQha",
        "outputId": "21a3b6db-f266-42d4-a98b-5566d7f7c022",
        "colab": {
          "base_uri": "https://localhost:8080/"
        }
      },
      "execution_count": 15,
      "outputs": [
        {
          "output_type": "stream",
          "name": "stdout",
          "text": [
            "Rows: 25,835\n",
            "Columns: 50\n",
            "$ ID                                                \u001b[3m\u001b[90m<int>\u001b[39m\u001b[23m 1, 2, 3, 4, 5, 6, 7,…\n",
            "$ Gender                                            \u001b[3m\u001b[90m<int>\u001b[39m\u001b[23m 2, 2, 2, 2, 2, 2, 2,…\n",
            "$ Race                                              \u001b[3m\u001b[90m<int>\u001b[39m\u001b[23m 1, 1, 1, 2, 2, 2, 1,…\n",
            "$ Age_at_Release                                    \u001b[3m\u001b[90m<int>\u001b[39m\u001b[23m 43, 33, 48, 38, 33, …\n",
            "$ Residence_PUMA                                    \u001b[3m\u001b[90m<int>\u001b[39m\u001b[23m 16, 16, 24, 16, 16, …\n",
            "$ Gang_Affiliated                                   \u001b[3m\u001b[90m<int>\u001b[39m\u001b[23m 1, 1, 1, 1, 1, 1, 1,…\n",
            "$ Supervision_Risk_Score_First                      \u001b[3m\u001b[90m<int>\u001b[39m\u001b[23m 3, 6, 7, 7, 4, 5, 2,…\n",
            "$ Supervision_Level_First                           \u001b[3m\u001b[90m<int>\u001b[39m\u001b[23m 1, 3, 2, 2, 3, 1, 1,…\n",
            "$ Education_Level                                   \u001b[3m\u001b[90m<int>\u001b[39m\u001b[23m 3, 1, 3, 1, 1, 2, 1,…\n",
            "$ Dependents                                        \u001b[3m\u001b[90m<int>\u001b[39m\u001b[23m 3, 1, 3, 1, 3, 0, 2,…\n",
            "$ Prison_Offense                                    \u001b[3m\u001b[90m<int>\u001b[39m\u001b[23m 1, 4, 1, 3, 4, 3, 2,…\n",
            "$ Prison_Years                                      \u001b[3m\u001b[90m<int>\u001b[39m\u001b[23m 3, 3, 1, 1, 1, 3, 0,…\n",
            "$ Prior_Arrest_Episodes_Felony                      \u001b[3m\u001b[90m<int>\u001b[39m\u001b[23m 6, 7, 6, 8, 4, 4, 10…\n",
            "$ Prior_Arrest_Episodes_Misd                        \u001b[3m\u001b[90m<int>\u001b[39m\u001b[23m 6, 6, 6, 6, 4, 0, 6,…\n",
            "$ Prior_Arrest_Episodes_Violent                     \u001b[3m\u001b[90m<int>\u001b[39m\u001b[23m 1, 3, 3, 0, 3, 1, 1,…\n",
            "$ Prior_Arrest_Episodes_Property                    \u001b[3m\u001b[90m<int>\u001b[39m\u001b[23m 3, 0, 2, 3, 2, 3, 5,…\n",
            "$ Prior_Arrest_Episodes_Drug                        \u001b[3m\u001b[90m<int>\u001b[39m\u001b[23m 3, 3, 2, 3, 1, 0, 1,…\n",
            "$ Prior_Arrest_Episodes_PPViolationCharges          \u001b[3m\u001b[90m<int>\u001b[39m\u001b[23m 4, 5, 5, 3, 3, 0, 5,…\n",
            "$ Prior_Arrest_Episodes_DVCharges                   \u001b[3m\u001b[90m<int>\u001b[39m\u001b[23m 1, 2, 2, 1, 2, 1, 1,…\n",
            "$ Prior_Arrest_Episodes_GunCharges                  \u001b[3m\u001b[90m<int>\u001b[39m\u001b[23m 1, 1, 1, 1, 1, 1, 2,…\n",
            "$ Prior_Conviction_Episodes_Felony                  \u001b[3m\u001b[90m<int>\u001b[39m\u001b[23m 3, 3, 3, 3, 1, 1, 3,…\n",
            "$ Prior_Conviction_Episodes_Misd                    \u001b[3m\u001b[90m<int>\u001b[39m\u001b[23m 3, 4, 2, 4, 0, 0, 1,…\n",
            "$ Prior_Conviction_Episodes_Viol                    \u001b[3m\u001b[90m<int>\u001b[39m\u001b[23m 1, 2, 2, 1, 2, 1, 1,…\n",
            "$ Prior_Conviction_Episodes_Prop                    \u001b[3m\u001b[90m<int>\u001b[39m\u001b[23m 2, 0, 1, 3, 0, 2, 3,…\n",
            "$ Prior_Conviction_Episodes_Drug                    \u001b[3m\u001b[90m<int>\u001b[39m\u001b[23m 2, 2, 2, 2, 1, 0, 0,…\n",
            "$ Prior_Conviction_Episodes_PPViolationCharges      \u001b[3m\u001b[90m<int>\u001b[39m\u001b[23m 1, 2, 1, 1, 1, 1, 2,…\n",
            "$ Prior_Conviction_Episodes_DomesticViolenceCharges \u001b[3m\u001b[90m<int>\u001b[39m\u001b[23m 1, 2, 2, 1, 1, 1, 1,…\n",
            "$ Prior_Conviction_Episodes_GunCharges              \u001b[3m\u001b[90m<int>\u001b[39m\u001b[23m 1, 2, 1, 1, 1, 1, 2,…\n",
            "$ Prior_Revocations_Parole                          \u001b[3m\u001b[90m<int>\u001b[39m\u001b[23m 1, 1, 1, 1, 1, 1, 1,…\n",
            "$ Prior_Revocations_Probation                       \u001b[3m\u001b[90m<int>\u001b[39m\u001b[23m 1, 1, 1, 2, 1, 1, 1,…\n",
            "$ Condition_MH_SA                                   \u001b[3m\u001b[90m<int>\u001b[39m\u001b[23m 2, 1, 2, 2, 2, 1, 1,…\n",
            "$ Condition_Cog_Ed                                  \u001b[3m\u001b[90m<int>\u001b[39m\u001b[23m 2, 1, 2, 2, 2, 1, 1,…\n",
            "$ Condition_Other                                   \u001b[3m\u001b[90m<int>\u001b[39m\u001b[23m 1, 1, 1, 1, 2, 2, 1,…\n",
            "$ Violations_ElectronicMonitoring                   \u001b[3m\u001b[90m<int>\u001b[39m\u001b[23m 1, 1, 1, 1, 1, 1, 1,…\n",
            "$ Violations_Instruction                            \u001b[3m\u001b[90m<int>\u001b[39m\u001b[23m 1, 2, 2, 1, 1, 1, 1,…\n",
            "$ Violations_FailToReport                           \u001b[3m\u001b[90m<int>\u001b[39m\u001b[23m 1, 1, 1, 1, 1, 1, 1,…\n",
            "$ Violations_MoveWithoutPermission                  \u001b[3m\u001b[90m<int>\u001b[39m\u001b[23m 1, 1, 2, 1, 1, 2, 1,…\n",
            "$ Delinquency_Reports                               \u001b[3m\u001b[90m<int>\u001b[39m\u001b[23m 0, 4, 4, 0, 0, 0, 0,…\n",
            "$ Program_Attendances                               \u001b[3m\u001b[90m<int>\u001b[39m\u001b[23m 6, 0, 6, 6, 7, 0, 0,…\n",
            "$ Program_UnexcusedAbsences                         \u001b[3m\u001b[90m<int>\u001b[39m\u001b[23m 0, 0, 0, 0, 0, 0, 0,…\n",
            "$ Residence_Changes                                 \u001b[3m\u001b[90m<int>\u001b[39m\u001b[23m 2, 2, 0, 3, 0, 3, 1,…\n",
            "$ Avg_Days_per_DrugTest                             \u001b[3m\u001b[90m<dbl>\u001b[39m\u001b[23m 612.00000, 35.66667,…\n",
            "$ DrugTests_THC_Positive                            \u001b[3m\u001b[90m<dbl>\u001b[39m\u001b[23m 0.0000000, 0.0000000…\n",
            "$ DrugTests_Cocaine_Positive                        \u001b[3m\u001b[90m<dbl>\u001b[39m\u001b[23m 0, 0, 0, 0, 0, 0, 0,…\n",
            "$ DrugTests_Meth_Positive                           \u001b[3m\u001b[90m<dbl>\u001b[39m\u001b[23m 0.00000000, 0.000000…\n",
            "$ DrugTests_Other_Positive                          \u001b[3m\u001b[90m<dbl>\u001b[39m\u001b[23m 0.000000000, 0.00000…\n",
            "$ Percent_Days_Employed                             \u001b[3m\u001b[90m<dbl>\u001b[39m\u001b[23m 0.4885621, 0.4252336…\n",
            "$ Jobs_Per_Year                                     \u001b[3m\u001b[90m<dbl>\u001b[39m\u001b[23m 0.4476103, 2.0000000…\n",
            "$ Employment_Exempt                                 \u001b[3m\u001b[90m<int>\u001b[39m\u001b[23m 1, 1, 1, 1, 1, 1, 1,…\n",
            "$ Recidivism_Within_3years                          \u001b[3m\u001b[90m<int>\u001b[39m\u001b[23m 1, 2, 2, 1, 2, 1, 2,…\n"
          ]
        }
      ]
    },
    {
      "cell_type": "code",
      "source": [
        "View(NIJ)"
      ],
      "metadata": {
        "id": "fzYYE7-NCipu",
        "outputId": "735b70f3-e906-42ad-f8ce-3ed7de63a6ba",
        "colab": {
          "base_uri": "https://localhost:8080/",
          "height": 1000
        }
      },
      "execution_count": 16,
      "outputs": [
        {
          "output_type": "display_data",
          "data": {
            "text/plain": [
              "      ID    Gender Race Age_at_Release Residence_PUMA Gang_Affiliated\n",
              "1      1    2      1    43             16             1              \n",
              "2      2    2      1    33             16             1              \n",
              "3      3    2      1    48             24             1              \n",
              "4      4    2      2    38             16             1              \n",
              "5      5    2      2    33             16             1              \n",
              "6      6    2      2    38             17             1              \n",
              "7      7    2      1    48             18             1              \n",
              "8      8    2      1    38             16             1              \n",
              "9      9    1      1    43              5             1              \n",
              "10    10    2      1    43             16             1              \n",
              "11    11    2      2    43              5             1              \n",
              "12    12    2      1    33             16             1              \n",
              "13    13    2      2    48             18             1              \n",
              "14    14    2      1    33              3             2              \n",
              "15    15    2      2    33              5             1              \n",
              "16    16    2      1    33              3             1              \n",
              "17    17    2      1    38             16             1              \n",
              "18    18    2      2    43             24             1              \n",
              "19    19    2      1    48             12             1              \n",
              "20    20    2      2    48             16             1              \n",
              "21    21    2      1    38              5             1              \n",
              "22    22    2      1    33             16             1              \n",
              "23    23    1      2    48              5             1              \n",
              "24    24    1      2    43             16             1              \n",
              "25    25    2      1    38             18             1              \n",
              "26    26    2      2    48             17             1              \n",
              "27    27    2      2    48             14             1              \n",
              "28    28    2      2    48             23             1              \n",
              "29    29    2      1    43              6             1              \n",
              "30    30    2      1    18              2             1              \n",
              "⋮     ⋮     ⋮      ⋮    ⋮              ⋮              ⋮              \n",
              "25806 26731 2      2    43              7             1              \n",
              "25807 26732 2      1    38              5             1              \n",
              "25808 26733 2      2    23             17             1              \n",
              "25809 26734 2      1    28             12             1              \n",
              "25810 26735 2      1    23             19             1              \n",
              "25811 26736 2      2    38             12             2              \n",
              "25812 26737 2      1    28              8             1              \n",
              "25813 26738 2      1    33             11             1              \n",
              "25814 26739 2      2    43              2             1              \n",
              "25815 26740 2      2    48             12             1              \n",
              "25816 26741 2      2    28              3             1              \n",
              "25817 26742 2      2    23              9             1              \n",
              "25818 26743 2      2    43              8             1              \n",
              "25819 26744 2      1    48             21             1              \n",
              "25820 26745 2      2    48             24             1              \n",
              "25821 26746 2      1    43              6             1              \n",
              "25822 26747 2      2    33              8             1              \n",
              "25823 26748 2      2    48              7             1              \n",
              "25824 26749 2      1    28              2             1              \n",
              "25825 26750 2      2    23             18             1              \n",
              "25826 26751 2      1    38              6             1              \n",
              "25827 26752 2      1    28              7             1              \n",
              "25828 26753 2      1    23              6             1              \n",
              "25829 26754 2      2    43             14             1              \n",
              "25830 26755 2      2    33              5             1              \n",
              "25831 26756 2      1    23              9             1              \n",
              "25832 26758 2      2    38             25             1              \n",
              "25833 26759 2      1    33             15             1              \n",
              "25834 26760 1      2    33             15             1              \n",
              "25835 26761 2      2    28             12             1              \n",
              "      Supervision_Risk_Score_First Supervision_Level_First Education_Level\n",
              "1      3                           1                       3              \n",
              "2      6                           3                       1              \n",
              "3      7                           2                       3              \n",
              "4      7                           2                       1              \n",
              "5      4                           3                       1              \n",
              "6      5                           1                       2              \n",
              "7      2                           1                       1              \n",
              "8      5                           2                       2              \n",
              "9      7                           2                       2              \n",
              "10     5                           1                       2              \n",
              "11     3                           3                       1              \n",
              "12     5                           3                       2              \n",
              "13     3                           1                       1              \n",
              "14     7                           1                       2              \n",
              "15     7                           1                       1              \n",
              "16     4                           1                       1              \n",
              "17     6                           2                       1              \n",
              "18     1                           1                       2              \n",
              "19     7                           2                       3              \n",
              "20     3                           1                       1              \n",
              "21     3                           1                       2              \n",
              "22     5                           1                       1              \n",
              "23     4                           1                       2              \n",
              "24     5                           1                       1              \n",
              "25     5                           1                       1              \n",
              "26     2                           1                       1              \n",
              "27     2                           3                       1              \n",
              "28     3                           1                       1              \n",
              "29     6                           2                       2              \n",
              "30    10                           3                       1              \n",
              "⋮     ⋮                            ⋮                       ⋮              \n",
              "25806 3                            1                       2              \n",
              "25807 5                            1                       2              \n",
              "25808 5                            1                       2              \n",
              "25809 4                            1                       2              \n",
              "25810 7                            2                       3              \n",
              "25811 5                            1                       3              \n",
              "25812 5                            1                       3              \n",
              "25813 5                            3                       2              \n",
              "25814 5                            1                       3              \n",
              "25815 5                            1                       3              \n",
              "25816 5                            1                       3              \n",
              "25817 5                            1                       3              \n",
              "25818 3                            1                       3              \n",
              "25819 7                            1                       1              \n",
              "25820 5                            1                       3              \n",
              "25821 5                            1                       3              \n",
              "25822 5                            1                       3              \n",
              "25823 5                            1                       3              \n",
              "25824 5                            1                       2              \n",
              "25825 5                            1                       2              \n",
              "25826 5                            1                       3              \n",
              "25827 5                            1                       3              \n",
              "25828 5                            1                       3              \n",
              "25829 5                            1                       3              \n",
              "25830 5                            1                       3              \n",
              "25831 5                            1                       3              \n",
              "25832 5                            1                       3              \n",
              "25833 5                            1                       3              \n",
              "25834 5                            1                       3              \n",
              "25835 5                            1                       2              \n",
              "      Dependents ⋯ Residence_Changes Avg_Days_per_DrugTest\n",
              "1     3          ⋯ 2                  612.00000           \n",
              "2     1          ⋯ 2                   35.66667           \n",
              "3     3          ⋯ 0                   93.66667           \n",
              "4     1          ⋯ 3                   25.40000           \n",
              "5     3          ⋯ 0                   23.11765           \n",
              "6     0          ⋯ 3                  474.60000           \n",
              "7     2          ⋯ 1                  238.50000           \n",
              "8     3          ⋯ 0                   34.77500           \n",
              "9     0          ⋯ 0                   93.89004           \n",
              "10    3          ⋯ 0                   27.80000           \n",
              "11    1          ⋯ 2                   42.80000           \n",
              "12    3          ⋯ 0                    8.04000           \n",
              "13    1          ⋯ 1                   93.89004           \n",
              "14    0          ⋯ 1                   93.89004           \n",
              "15    1          ⋯ 1                   98.75000           \n",
              "16    3          ⋯ 0                   74.50000           \n",
              "17    3          ⋯ 0                  114.50000           \n",
              "18    3          ⋯ 2                   93.89004           \n",
              "19    3          ⋯ 2                   43.66667           \n",
              "20    0          ⋯ 1                  228.00000           \n",
              "21    3          ⋯ 0                   93.89004           \n",
              "22    3          ⋯ 0                   22.85000           \n",
              "23    0          ⋯ 0                   15.50000           \n",
              "24    0          ⋯ 1                   93.89004           \n",
              "25    3          ⋯ 1                  196.00000           \n",
              "26    1          ⋯ 1                   93.89004           \n",
              "27    0          ⋯ 0                   31.00000           \n",
              "28    0          ⋯ 1                   43.14286           \n",
              "29    0          ⋯ 3                  357.40000           \n",
              "30    0          ⋯ 3                 1087.00000           \n",
              "⋮     ⋮          ⋱ ⋮                 ⋮                    \n",
              "25806 2          ⋯ 1                  93.89004            \n",
              "25807 0          ⋯ 1                  93.89004            \n",
              "25808 0          ⋯ 1                  10.29167            \n",
              "25809 3          ⋯ 0                  25.86667            \n",
              "25810 3          ⋯ 1                  84.45455            \n",
              "25811 0          ⋯ 1                  53.85714            \n",
              "25812 3          ⋯ 1                  37.31818            \n",
              "25813 0          ⋯ 1                  63.80000            \n",
              "25814 3          ⋯ 2                 118.50000            \n",
              "25815 3          ⋯ 0                  69.95000            \n",
              "25816 3          ⋯ 3                  22.50000            \n",
              "25817 3          ⋯ 0                  93.89004            \n",
              "25818 3          ⋯ 0                  93.89004            \n",
              "25819 0          ⋯ 0                  17.42222            \n",
              "25820 3          ⋯ 0                  93.89004            \n",
              "25821 3          ⋯ 0                  20.12195            \n",
              "25822 3          ⋯ 1                 130.00000            \n",
              "25823 3          ⋯ 1                  93.89004            \n",
              "25824 3          ⋯ 1                  61.86667            \n",
              "25825 3          ⋯ 0                  71.42857            \n",
              "25826 3          ⋯ 2                  20.55000            \n",
              "25827 3          ⋯ 0                  92.00000            \n",
              "25828 3          ⋯ 0                 385.50000            \n",
              "25829 3          ⋯ 0                  37.64000            \n",
              "25830 3          ⋯ 1                  93.89004            \n",
              "25831 1          ⋯ 0                 127.70000            \n",
              "25832 3          ⋯ 0                  42.26667            \n",
              "25833 3          ⋯ 1                  93.89004            \n",
              "25834 3          ⋯ 0                  58.10000            \n",
              "25835 3          ⋯ 2                  91.60000            \n",
              "      DrugTests_THC_Positive DrugTests_Cocaine_Positive DrugTests_Meth_Positive\n",
              "1     0.0000000              0                          0.00000000             \n",
              "2     0.0000000              0                          0.00000000             \n",
              "3     0.3333333              0                          0.16666667             \n",
              "4     0.0000000              0                          0.00000000             \n",
              "5     0.0000000              0                          0.05882353             \n",
              "6     0.0000000              0                          0.00000000             \n",
              "7     0.0000000              0                          0.00000000             \n",
              "8     0.0000000              0                          0.00000000             \n",
              "9     0.0000000              0                          0.00000000             \n",
              "10    0.0000000              0                          0.00000000             \n",
              "11    0.3000000              0                          0.30000001             \n",
              "12    0.0400000              0                          0.08000000             \n",
              "13    0.0000000              0                          0.01605505             \n",
              "14    0.0000000              0                          0.00000000             \n",
              "15    0.0000000              0                          0.00000000             \n",
              "16    0.0000000              0                          0.00000000             \n",
              "17    0.0000000              0                          0.00000000             \n",
              "18    0.0000000              0                          0.00000000             \n",
              "19    0.0000000              0                          0.00000000             \n",
              "20    0.0000000              0                          0.00000000             \n",
              "21    0.0000000              0                          0.00000000             \n",
              "22    0.0500000              0                          0.00000000             \n",
              "23    0.0000000              0                          0.05555556             \n",
              "24    0.0000000              0                          0.00000000             \n",
              "25    0.0000000              0                          0.00000000             \n",
              "26    0.0000000              0                          0.00000000             \n",
              "27    0.0000000              0                          0.00000000             \n",
              "28    0.0000000              0                          0.00000000             \n",
              "29    0.0000000              0                          0.00000000             \n",
              "30    1.0000000              0                          0.00000000             \n",
              "⋮     ⋮                      ⋮                          ⋮                      \n",
              "25806 0.00000000             0.00000000                 0.00000000             \n",
              "25807 0.00000000             0.00000000                 0.00000000             \n",
              "25808 0.16666667             0.00000000                 0.08333334             \n",
              "25809 0.20000000             0.00000000                 0.00000000             \n",
              "25810 0.18181819             0.00000000                 0.00000000             \n",
              "25811 0.00000000             0.00000000                 0.00000000             \n",
              "25812 0.09090909             0.00000000                 0.00000000             \n",
              "25813 0.20000000             0.10000000                 0.00000000             \n",
              "25814 0.00000000             0.00000000                 0.00000000             \n",
              "25815 0.10000000             0.00000000                 0.00000000             \n",
              "25816 0.16666667             0.00000000                 0.33333334             \n",
              "25817 0.00000000             0.00000000                 0.00000000             \n",
              "25818 0.00000000             0.00000000                 0.00000000             \n",
              "25819 0.00000000             0.08888889                 0.00000000             \n",
              "25820 0.00000000             0.00000000                 0.00000000             \n",
              "25821 0.17073171             0.04878049                 0.00000000             \n",
              "25822 0.00000000             0.00000000                 0.00000000             \n",
              "25823 0.00000000             0.00000000                 0.00000000             \n",
              "25824 0.00000000             0.00000000                 0.00000000             \n",
              "25825 0.28571430             0.00000000                 0.00000000             \n",
              "25826 0.10000000             0.00000000                 0.00000000             \n",
              "25827 0.00000000             0.00000000                 0.00000000             \n",
              "25828 0.00000000             0.00000000                 0.00000000             \n",
              "25829 0.00000000             0.00000000                 0.00000000             \n",
              "25830 0.00000000             0.00000000                 0.00000000             \n",
              "25831 0.00000000             0.00000000                 0.00000000             \n",
              "25832 0.00000000             0.00000000                 0.00000000             \n",
              "25833 0.00000000             0.00000000                 0.00000000             \n",
              "25834 0.00000000             0.00000000                 0.00000000             \n",
              "25835 0.10000000             0.00000000                 0.00000000             \n",
              "      DrugTests_Other_Positive Percent_Days_Employed Jobs_Per_Year\n",
              "1     0.000000000              0.4885621             0.4476103    \n",
              "2     0.000000000              0.4252336             2.0000000    \n",
              "3     0.000000000              0.0000000             0.0000000    \n",
              "4     0.000000000              1.0000000             0.7189961    \n",
              "5     0.000000000              0.2035623             0.9293893    \n",
              "6     0.000000000              0.6742520             0.3078382    \n",
              "7     0.000000000              0.0000000             0.0000000    \n",
              "8     0.000000000              0.4694464             0.5251618    \n",
              "9     0.000000000              0.0000000             0.0000000    \n",
              "10    0.000000000              0.3597122             1.0000000    \n",
              "11    0.000000000              1.0000000             3.4135514    \n",
              "12    0.000000000              0.0000000             0.0000000    \n",
              "13    0.002293578              0.0000000             0.7692952    \n",
              "14    0.000000000              1.0000000             1.0000000    \n",
              "15    0.000000000              0.0000000             0.0000000    \n",
              "16    0.000000000              0.3389262             0.6128356    \n",
              "17    0.000000000              0.5458515             2.0000000    \n",
              "18    0.000000000              0.4521385             0.7438900    \n",
              "19    0.000000000              0.9185751             0.4646947    \n",
              "20    0.000000000              0.7947368             0.3203947    \n",
              "21    0.000000000              1.0000000             2.0000000    \n",
              "22    0.000000000              1.0000000             3.1969365    \n",
              "23    0.000000000              0.0000000             0.0000000    \n",
              "24    0.000000000              0.9913793             1.0000000    \n",
              "25    0.000000000              0.1964286             0.9317602    \n",
              "26    0.000000000              1.0000000             2.0000000    \n",
              "27    0.000000000              0.8064516             1.0000000    \n",
              "28    0.000000000              0.0000000             0.0000000    \n",
              "29    0.000000000              0.8953553             0.2043928    \n",
              "30    0.000000000              0.0000000             0.0000000    \n",
              "⋮     ⋮                        ⋮                     ⋮            \n",
              "25806 0.00000000               1.0000000             0.9317602    \n",
              "25807 0.00000000               0.0000000             0.7692952    \n",
              "25808 0.08333334               0.0000000             0.0000000    \n",
              "25809 0.00000000               0.5747423             0.9413660    \n",
              "25810 0.00000000               0.0000000             0.0000000    \n",
              "25811 0.00000000               0.0000000             0.0000000    \n",
              "25812 0.00000000               1.0000000             1.3346529    \n",
              "25813 0.10000000               0.0000000             0.0000000    \n",
              "25814 0.00000000               0.7392405             0.6164557    \n",
              "25815 0.00000000               0.0000000             0.0000000    \n",
              "25816 0.00000000               0.1851852             1.0000000    \n",
              "25817 0.00000000               0.1051805             0.5733909    \n",
              "25818 0.00000000               0.1815182             2.0000000    \n",
              "25819 0.00000000               0.9923469             0.4658801    \n",
              "25820 0.00000000               0.0000000             0.0000000    \n",
              "25821 0.00000000               0.0000000             0.0000000    \n",
              "25822 0.00000000               0.3815385             1.1238462    \n",
              "25823 0.00000000               0.0000000             0.0000000    \n",
              "25824 0.00000000               0.3351293             1.1807651    \n",
              "25825 0.00000000               0.0000000             0.0000000    \n",
              "25826 0.00000000               1.0000000             0.8886861    \n",
              "25827 0.16666667               0.7572464             0.6616848    \n",
              "25828 0.00000000               0.0000000             0.0000000    \n",
              "25829 0.00000000               0.0000000             0.0000000    \n",
              "25830 0.00000000               0.0000000             0.7692952    \n",
              "25831 0.00000000               0.1895067             0.5720439    \n",
              "25832 0.00000000               0.7570978             0.5761041    \n",
              "25833 0.00000000               0.7111383             0.8941248    \n",
              "25834 0.00000000               0.0000000             0.0000000    \n",
              "25835 0.00000000               0.1244541             0.3987445    \n",
              "      Employment_Exempt Recidivism_Within_3years\n",
              "1     1                 1                       \n",
              "2     1                 2                       \n",
              "3     1                 2                       \n",
              "4     1                 1                       \n",
              "5     1                 2                       \n",
              "6     1                 1                       \n",
              "7     1                 2                       \n",
              "8     1                 1                       \n",
              "9     2                 2                       \n",
              "10    1                 2                       \n",
              "11    2                 2                       \n",
              "12    2                 2                       \n",
              "13    1                 1                       \n",
              "14    1                 2                       \n",
              "15    2                 1                       \n",
              "16    1                 1                       \n",
              "17    1                 2                       \n",
              "18    1                 2                       \n",
              "19    1                 1                       \n",
              "20    1                 2                       \n",
              "21    1                 1                       \n",
              "22    1                 1                       \n",
              "23    1                 1                       \n",
              "24    1                 1                       \n",
              "25    1                 2                       \n",
              "26    1                 2                       \n",
              "27    1                 1                       \n",
              "28    1                 2                       \n",
              "29    2                 1                       \n",
              "30    1                 2                       \n",
              "⋮     ⋮                 ⋮                       \n",
              "25806 1                 1                       \n",
              "25807 1                 1                       \n",
              "25808 1                 2                       \n",
              "25809 1                 1                       \n",
              "25810 1                 1                       \n",
              "25811 1                 2                       \n",
              "25812 1                 1                       \n",
              "25813 1                 2                       \n",
              "25814 1                 1                       \n",
              "25815 1                 2                       \n",
              "25816 1                 2                       \n",
              "25817 1                 2                       \n",
              "25818 1                 2                       \n",
              "25819 1                 1                       \n",
              "25820 2                 1                       \n",
              "25821 1                 1                       \n",
              "25822 1                 2                       \n",
              "25823 1                 1                       \n",
              "25824 1                 2                       \n",
              "25825 1                 2                       \n",
              "25826 1                 2                       \n",
              "25827 1                 2                       \n",
              "25828 1                 2                       \n",
              "25829 2                 2                       \n",
              "25830 2                 1                       \n",
              "25831 1                 2                       \n",
              "25832 1                 2                       \n",
              "25833 1                 2                       \n",
              "25834 2                 1                       \n",
              "25835 1                 2                       "
            ],
            "text/html": [
              "<table class=\"dataframe\">\n",
              "<caption>A data.frame: 25835 × 50</caption>\n",
              "<thead>\n",
              "\t<tr><th></th><th scope=col>ID</th><th scope=col>Gender</th><th scope=col>Race</th><th scope=col>Age_at_Release</th><th scope=col>Residence_PUMA</th><th scope=col>Gang_Affiliated</th><th scope=col>Supervision_Risk_Score_First</th><th scope=col>Supervision_Level_First</th><th scope=col>Education_Level</th><th scope=col>Dependents</th><th scope=col>⋯</th><th scope=col>Residence_Changes</th><th scope=col>Avg_Days_per_DrugTest</th><th scope=col>DrugTests_THC_Positive</th><th scope=col>DrugTests_Cocaine_Positive</th><th scope=col>DrugTests_Meth_Positive</th><th scope=col>DrugTests_Other_Positive</th><th scope=col>Percent_Days_Employed</th><th scope=col>Jobs_Per_Year</th><th scope=col>Employment_Exempt</th><th scope=col>Recidivism_Within_3years</th></tr>\n",
              "\t<tr><th></th><th scope=col>&lt;int&gt;</th><th scope=col>&lt;int&gt;</th><th scope=col>&lt;int&gt;</th><th scope=col>&lt;int&gt;</th><th scope=col>&lt;int&gt;</th><th scope=col>&lt;int&gt;</th><th scope=col>&lt;int&gt;</th><th scope=col>&lt;int&gt;</th><th scope=col>&lt;int&gt;</th><th scope=col>&lt;int&gt;</th><th scope=col>⋯</th><th scope=col>&lt;int&gt;</th><th scope=col>&lt;dbl&gt;</th><th scope=col>&lt;dbl&gt;</th><th scope=col>&lt;dbl&gt;</th><th scope=col>&lt;dbl&gt;</th><th scope=col>&lt;dbl&gt;</th><th scope=col>&lt;dbl&gt;</th><th scope=col>&lt;dbl&gt;</th><th scope=col>&lt;int&gt;</th><th scope=col>&lt;int&gt;</th></tr>\n",
              "</thead>\n",
              "<tbody>\n",
              "\t<tr><th scope=row>1</th><td> 1</td><td>2</td><td>1</td><td>43</td><td>16</td><td>1</td><td> 3</td><td>1</td><td>3</td><td>3</td><td>⋯</td><td>2</td><td> 612.00000</td><td>0.0000000</td><td>0</td><td>0.00000000</td><td>0.000000000</td><td>0.4885621</td><td>0.4476103</td><td>1</td><td>1</td></tr>\n",
              "\t<tr><th scope=row>2</th><td> 2</td><td>2</td><td>1</td><td>33</td><td>16</td><td>1</td><td> 6</td><td>3</td><td>1</td><td>1</td><td>⋯</td><td>2</td><td>  35.66667</td><td>0.0000000</td><td>0</td><td>0.00000000</td><td>0.000000000</td><td>0.4252336</td><td>2.0000000</td><td>1</td><td>2</td></tr>\n",
              "\t<tr><th scope=row>3</th><td> 3</td><td>2</td><td>1</td><td>48</td><td>24</td><td>1</td><td> 7</td><td>2</td><td>3</td><td>3</td><td>⋯</td><td>0</td><td>  93.66667</td><td>0.3333333</td><td>0</td><td>0.16666667</td><td>0.000000000</td><td>0.0000000</td><td>0.0000000</td><td>1</td><td>2</td></tr>\n",
              "\t<tr><th scope=row>4</th><td> 4</td><td>2</td><td>2</td><td>38</td><td>16</td><td>1</td><td> 7</td><td>2</td><td>1</td><td>1</td><td>⋯</td><td>3</td><td>  25.40000</td><td>0.0000000</td><td>0</td><td>0.00000000</td><td>0.000000000</td><td>1.0000000</td><td>0.7189961</td><td>1</td><td>1</td></tr>\n",
              "\t<tr><th scope=row>5</th><td> 5</td><td>2</td><td>2</td><td>33</td><td>16</td><td>1</td><td> 4</td><td>3</td><td>1</td><td>3</td><td>⋯</td><td>0</td><td>  23.11765</td><td>0.0000000</td><td>0</td><td>0.05882353</td><td>0.000000000</td><td>0.2035623</td><td>0.9293893</td><td>1</td><td>2</td></tr>\n",
              "\t<tr><th scope=row>6</th><td> 6</td><td>2</td><td>2</td><td>38</td><td>17</td><td>1</td><td> 5</td><td>1</td><td>2</td><td>0</td><td>⋯</td><td>3</td><td> 474.60000</td><td>0.0000000</td><td>0</td><td>0.00000000</td><td>0.000000000</td><td>0.6742520</td><td>0.3078382</td><td>1</td><td>1</td></tr>\n",
              "\t<tr><th scope=row>7</th><td> 7</td><td>2</td><td>1</td><td>48</td><td>18</td><td>1</td><td> 2</td><td>1</td><td>1</td><td>2</td><td>⋯</td><td>1</td><td> 238.50000</td><td>0.0000000</td><td>0</td><td>0.00000000</td><td>0.000000000</td><td>0.0000000</td><td>0.0000000</td><td>1</td><td>2</td></tr>\n",
              "\t<tr><th scope=row>8</th><td> 8</td><td>2</td><td>1</td><td>38</td><td>16</td><td>1</td><td> 5</td><td>2</td><td>2</td><td>3</td><td>⋯</td><td>0</td><td>  34.77500</td><td>0.0000000</td><td>0</td><td>0.00000000</td><td>0.000000000</td><td>0.4694464</td><td>0.5251618</td><td>1</td><td>1</td></tr>\n",
              "\t<tr><th scope=row>9</th><td> 9</td><td>1</td><td>1</td><td>43</td><td> 5</td><td>1</td><td> 7</td><td>2</td><td>2</td><td>0</td><td>⋯</td><td>0</td><td>  93.89004</td><td>0.0000000</td><td>0</td><td>0.00000000</td><td>0.000000000</td><td>0.0000000</td><td>0.0000000</td><td>2</td><td>2</td></tr>\n",
              "\t<tr><th scope=row>10</th><td>10</td><td>2</td><td>1</td><td>43</td><td>16</td><td>1</td><td> 5</td><td>1</td><td>2</td><td>3</td><td>⋯</td><td>0</td><td>  27.80000</td><td>0.0000000</td><td>0</td><td>0.00000000</td><td>0.000000000</td><td>0.3597122</td><td>1.0000000</td><td>1</td><td>2</td></tr>\n",
              "\t<tr><th scope=row>11</th><td>11</td><td>2</td><td>2</td><td>43</td><td> 5</td><td>1</td><td> 3</td><td>3</td><td>1</td><td>1</td><td>⋯</td><td>2</td><td>  42.80000</td><td>0.3000000</td><td>0</td><td>0.30000001</td><td>0.000000000</td><td>1.0000000</td><td>3.4135514</td><td>2</td><td>2</td></tr>\n",
              "\t<tr><th scope=row>12</th><td>12</td><td>2</td><td>1</td><td>33</td><td>16</td><td>1</td><td> 5</td><td>3</td><td>2</td><td>3</td><td>⋯</td><td>0</td><td>   8.04000</td><td>0.0400000</td><td>0</td><td>0.08000000</td><td>0.000000000</td><td>0.0000000</td><td>0.0000000</td><td>2</td><td>2</td></tr>\n",
              "\t<tr><th scope=row>13</th><td>13</td><td>2</td><td>2</td><td>48</td><td>18</td><td>1</td><td> 3</td><td>1</td><td>1</td><td>1</td><td>⋯</td><td>1</td><td>  93.89004</td><td>0.0000000</td><td>0</td><td>0.01605505</td><td>0.002293578</td><td>0.0000000</td><td>0.7692952</td><td>1</td><td>1</td></tr>\n",
              "\t<tr><th scope=row>14</th><td>14</td><td>2</td><td>1</td><td>33</td><td> 3</td><td>2</td><td> 7</td><td>1</td><td>2</td><td>0</td><td>⋯</td><td>1</td><td>  93.89004</td><td>0.0000000</td><td>0</td><td>0.00000000</td><td>0.000000000</td><td>1.0000000</td><td>1.0000000</td><td>1</td><td>2</td></tr>\n",
              "\t<tr><th scope=row>15</th><td>15</td><td>2</td><td>2</td><td>33</td><td> 5</td><td>1</td><td> 7</td><td>1</td><td>1</td><td>1</td><td>⋯</td><td>1</td><td>  98.75000</td><td>0.0000000</td><td>0</td><td>0.00000000</td><td>0.000000000</td><td>0.0000000</td><td>0.0000000</td><td>2</td><td>1</td></tr>\n",
              "\t<tr><th scope=row>16</th><td>16</td><td>2</td><td>1</td><td>33</td><td> 3</td><td>1</td><td> 4</td><td>1</td><td>1</td><td>3</td><td>⋯</td><td>0</td><td>  74.50000</td><td>0.0000000</td><td>0</td><td>0.00000000</td><td>0.000000000</td><td>0.3389262</td><td>0.6128356</td><td>1</td><td>1</td></tr>\n",
              "\t<tr><th scope=row>17</th><td>17</td><td>2</td><td>1</td><td>38</td><td>16</td><td>1</td><td> 6</td><td>2</td><td>1</td><td>3</td><td>⋯</td><td>0</td><td> 114.50000</td><td>0.0000000</td><td>0</td><td>0.00000000</td><td>0.000000000</td><td>0.5458515</td><td>2.0000000</td><td>1</td><td>2</td></tr>\n",
              "\t<tr><th scope=row>18</th><td>18</td><td>2</td><td>2</td><td>43</td><td>24</td><td>1</td><td> 1</td><td>1</td><td>2</td><td>3</td><td>⋯</td><td>2</td><td>  93.89004</td><td>0.0000000</td><td>0</td><td>0.00000000</td><td>0.000000000</td><td>0.4521385</td><td>0.7438900</td><td>1</td><td>2</td></tr>\n",
              "\t<tr><th scope=row>19</th><td>19</td><td>2</td><td>1</td><td>48</td><td>12</td><td>1</td><td> 7</td><td>2</td><td>3</td><td>3</td><td>⋯</td><td>2</td><td>  43.66667</td><td>0.0000000</td><td>0</td><td>0.00000000</td><td>0.000000000</td><td>0.9185751</td><td>0.4646947</td><td>1</td><td>1</td></tr>\n",
              "\t<tr><th scope=row>20</th><td>20</td><td>2</td><td>2</td><td>48</td><td>16</td><td>1</td><td> 3</td><td>1</td><td>1</td><td>0</td><td>⋯</td><td>1</td><td> 228.00000</td><td>0.0000000</td><td>0</td><td>0.00000000</td><td>0.000000000</td><td>0.7947368</td><td>0.3203947</td><td>1</td><td>2</td></tr>\n",
              "\t<tr><th scope=row>21</th><td>21</td><td>2</td><td>1</td><td>38</td><td> 5</td><td>1</td><td> 3</td><td>1</td><td>2</td><td>3</td><td>⋯</td><td>0</td><td>  93.89004</td><td>0.0000000</td><td>0</td><td>0.00000000</td><td>0.000000000</td><td>1.0000000</td><td>2.0000000</td><td>1</td><td>1</td></tr>\n",
              "\t<tr><th scope=row>22</th><td>22</td><td>2</td><td>1</td><td>33</td><td>16</td><td>1</td><td> 5</td><td>1</td><td>1</td><td>3</td><td>⋯</td><td>0</td><td>  22.85000</td><td>0.0500000</td><td>0</td><td>0.00000000</td><td>0.000000000</td><td>1.0000000</td><td>3.1969365</td><td>1</td><td>1</td></tr>\n",
              "\t<tr><th scope=row>23</th><td>23</td><td>1</td><td>2</td><td>48</td><td> 5</td><td>1</td><td> 4</td><td>1</td><td>2</td><td>0</td><td>⋯</td><td>0</td><td>  15.50000</td><td>0.0000000</td><td>0</td><td>0.05555556</td><td>0.000000000</td><td>0.0000000</td><td>0.0000000</td><td>1</td><td>1</td></tr>\n",
              "\t<tr><th scope=row>24</th><td>24</td><td>1</td><td>2</td><td>43</td><td>16</td><td>1</td><td> 5</td><td>1</td><td>1</td><td>0</td><td>⋯</td><td>1</td><td>  93.89004</td><td>0.0000000</td><td>0</td><td>0.00000000</td><td>0.000000000</td><td>0.9913793</td><td>1.0000000</td><td>1</td><td>1</td></tr>\n",
              "\t<tr><th scope=row>25</th><td>25</td><td>2</td><td>1</td><td>38</td><td>18</td><td>1</td><td> 5</td><td>1</td><td>1</td><td>3</td><td>⋯</td><td>1</td><td> 196.00000</td><td>0.0000000</td><td>0</td><td>0.00000000</td><td>0.000000000</td><td>0.1964286</td><td>0.9317602</td><td>1</td><td>2</td></tr>\n",
              "\t<tr><th scope=row>26</th><td>26</td><td>2</td><td>2</td><td>48</td><td>17</td><td>1</td><td> 2</td><td>1</td><td>1</td><td>1</td><td>⋯</td><td>1</td><td>  93.89004</td><td>0.0000000</td><td>0</td><td>0.00000000</td><td>0.000000000</td><td>1.0000000</td><td>2.0000000</td><td>1</td><td>2</td></tr>\n",
              "\t<tr><th scope=row>27</th><td>27</td><td>2</td><td>2</td><td>48</td><td>14</td><td>1</td><td> 2</td><td>3</td><td>1</td><td>0</td><td>⋯</td><td>0</td><td>  31.00000</td><td>0.0000000</td><td>0</td><td>0.00000000</td><td>0.000000000</td><td>0.8064516</td><td>1.0000000</td><td>1</td><td>1</td></tr>\n",
              "\t<tr><th scope=row>28</th><td>28</td><td>2</td><td>2</td><td>48</td><td>23</td><td>1</td><td> 3</td><td>1</td><td>1</td><td>0</td><td>⋯</td><td>1</td><td>  43.14286</td><td>0.0000000</td><td>0</td><td>0.00000000</td><td>0.000000000</td><td>0.0000000</td><td>0.0000000</td><td>1</td><td>2</td></tr>\n",
              "\t<tr><th scope=row>29</th><td>29</td><td>2</td><td>1</td><td>43</td><td> 6</td><td>1</td><td> 6</td><td>2</td><td>2</td><td>0</td><td>⋯</td><td>3</td><td> 357.40000</td><td>0.0000000</td><td>0</td><td>0.00000000</td><td>0.000000000</td><td>0.8953553</td><td>0.2043928</td><td>2</td><td>1</td></tr>\n",
              "\t<tr><th scope=row>30</th><td>30</td><td>2</td><td>1</td><td>18</td><td> 2</td><td>1</td><td>10</td><td>3</td><td>1</td><td>0</td><td>⋯</td><td>3</td><td>1087.00000</td><td>1.0000000</td><td>0</td><td>0.00000000</td><td>0.000000000</td><td>0.0000000</td><td>0.0000000</td><td>1</td><td>2</td></tr>\n",
              "\t<tr><th scope=row>⋮</th><td>⋮</td><td>⋮</td><td>⋮</td><td>⋮</td><td>⋮</td><td>⋮</td><td>⋮</td><td>⋮</td><td>⋮</td><td>⋮</td><td>⋱</td><td>⋮</td><td>⋮</td><td>⋮</td><td>⋮</td><td>⋮</td><td>⋮</td><td>⋮</td><td>⋮</td><td>⋮</td><td>⋮</td></tr>\n",
              "\t<tr><th scope=row>25806</th><td>26731</td><td>2</td><td>2</td><td>43</td><td> 7</td><td>1</td><td>3</td><td>1</td><td>2</td><td>2</td><td>⋯</td><td>1</td><td> 93.89004</td><td>0.00000000</td><td>0.00000000</td><td>0.00000000</td><td>0.00000000</td><td>1.0000000</td><td>0.9317602</td><td>1</td><td>1</td></tr>\n",
              "\t<tr><th scope=row>25807</th><td>26732</td><td>2</td><td>1</td><td>38</td><td> 5</td><td>1</td><td>5</td><td>1</td><td>2</td><td>0</td><td>⋯</td><td>1</td><td> 93.89004</td><td>0.00000000</td><td>0.00000000</td><td>0.00000000</td><td>0.00000000</td><td>0.0000000</td><td>0.7692952</td><td>1</td><td>1</td></tr>\n",
              "\t<tr><th scope=row>25808</th><td>26733</td><td>2</td><td>2</td><td>23</td><td>17</td><td>1</td><td>5</td><td>1</td><td>2</td><td>0</td><td>⋯</td><td>1</td><td> 10.29167</td><td>0.16666667</td><td>0.00000000</td><td>0.08333334</td><td>0.08333334</td><td>0.0000000</td><td>0.0000000</td><td>1</td><td>2</td></tr>\n",
              "\t<tr><th scope=row>25809</th><td>26734</td><td>2</td><td>1</td><td>28</td><td>12</td><td>1</td><td>4</td><td>1</td><td>2</td><td>3</td><td>⋯</td><td>0</td><td> 25.86667</td><td>0.20000000</td><td>0.00000000</td><td>0.00000000</td><td>0.00000000</td><td>0.5747423</td><td>0.9413660</td><td>1</td><td>1</td></tr>\n",
              "\t<tr><th scope=row>25810</th><td>26735</td><td>2</td><td>1</td><td>23</td><td>19</td><td>1</td><td>7</td><td>2</td><td>3</td><td>3</td><td>⋯</td><td>1</td><td> 84.45455</td><td>0.18181819</td><td>0.00000000</td><td>0.00000000</td><td>0.00000000</td><td>0.0000000</td><td>0.0000000</td><td>1</td><td>1</td></tr>\n",
              "\t<tr><th scope=row>25811</th><td>26736</td><td>2</td><td>2</td><td>38</td><td>12</td><td>2</td><td>5</td><td>1</td><td>3</td><td>0</td><td>⋯</td><td>1</td><td> 53.85714</td><td>0.00000000</td><td>0.00000000</td><td>0.00000000</td><td>0.00000000</td><td>0.0000000</td><td>0.0000000</td><td>1</td><td>2</td></tr>\n",
              "\t<tr><th scope=row>25812</th><td>26737</td><td>2</td><td>1</td><td>28</td><td> 8</td><td>1</td><td>5</td><td>1</td><td>3</td><td>3</td><td>⋯</td><td>1</td><td> 37.31818</td><td>0.09090909</td><td>0.00000000</td><td>0.00000000</td><td>0.00000000</td><td>1.0000000</td><td>1.3346529</td><td>1</td><td>1</td></tr>\n",
              "\t<tr><th scope=row>25813</th><td>26738</td><td>2</td><td>1</td><td>33</td><td>11</td><td>1</td><td>5</td><td>3</td><td>2</td><td>0</td><td>⋯</td><td>1</td><td> 63.80000</td><td>0.20000000</td><td>0.10000000</td><td>0.00000000</td><td>0.10000000</td><td>0.0000000</td><td>0.0000000</td><td>1</td><td>2</td></tr>\n",
              "\t<tr><th scope=row>25814</th><td>26739</td><td>2</td><td>2</td><td>43</td><td> 2</td><td>1</td><td>5</td><td>1</td><td>3</td><td>3</td><td>⋯</td><td>2</td><td>118.50000</td><td>0.00000000</td><td>0.00000000</td><td>0.00000000</td><td>0.00000000</td><td>0.7392405</td><td>0.6164557</td><td>1</td><td>1</td></tr>\n",
              "\t<tr><th scope=row>25815</th><td>26740</td><td>2</td><td>2</td><td>48</td><td>12</td><td>1</td><td>5</td><td>1</td><td>3</td><td>3</td><td>⋯</td><td>0</td><td> 69.95000</td><td>0.10000000</td><td>0.00000000</td><td>0.00000000</td><td>0.00000000</td><td>0.0000000</td><td>0.0000000</td><td>1</td><td>2</td></tr>\n",
              "\t<tr><th scope=row>25816</th><td>26741</td><td>2</td><td>2</td><td>28</td><td> 3</td><td>1</td><td>5</td><td>1</td><td>3</td><td>3</td><td>⋯</td><td>3</td><td> 22.50000</td><td>0.16666667</td><td>0.00000000</td><td>0.33333334</td><td>0.00000000</td><td>0.1851852</td><td>1.0000000</td><td>1</td><td>2</td></tr>\n",
              "\t<tr><th scope=row>25817</th><td>26742</td><td>2</td><td>2</td><td>23</td><td> 9</td><td>1</td><td>5</td><td>1</td><td>3</td><td>3</td><td>⋯</td><td>0</td><td> 93.89004</td><td>0.00000000</td><td>0.00000000</td><td>0.00000000</td><td>0.00000000</td><td>0.1051805</td><td>0.5733909</td><td>1</td><td>2</td></tr>\n",
              "\t<tr><th scope=row>25818</th><td>26743</td><td>2</td><td>2</td><td>43</td><td> 8</td><td>1</td><td>3</td><td>1</td><td>3</td><td>3</td><td>⋯</td><td>0</td><td> 93.89004</td><td>0.00000000</td><td>0.00000000</td><td>0.00000000</td><td>0.00000000</td><td>0.1815182</td><td>2.0000000</td><td>1</td><td>2</td></tr>\n",
              "\t<tr><th scope=row>25819</th><td>26744</td><td>2</td><td>1</td><td>48</td><td>21</td><td>1</td><td>7</td><td>1</td><td>1</td><td>0</td><td>⋯</td><td>0</td><td> 17.42222</td><td>0.00000000</td><td>0.08888889</td><td>0.00000000</td><td>0.00000000</td><td>0.9923469</td><td>0.4658801</td><td>1</td><td>1</td></tr>\n",
              "\t<tr><th scope=row>25820</th><td>26745</td><td>2</td><td>2</td><td>48</td><td>24</td><td>1</td><td>5</td><td>1</td><td>3</td><td>3</td><td>⋯</td><td>0</td><td> 93.89004</td><td>0.00000000</td><td>0.00000000</td><td>0.00000000</td><td>0.00000000</td><td>0.0000000</td><td>0.0000000</td><td>2</td><td>1</td></tr>\n",
              "\t<tr><th scope=row>25821</th><td>26746</td><td>2</td><td>1</td><td>43</td><td> 6</td><td>1</td><td>5</td><td>1</td><td>3</td><td>3</td><td>⋯</td><td>0</td><td> 20.12195</td><td>0.17073171</td><td>0.04878049</td><td>0.00000000</td><td>0.00000000</td><td>0.0000000</td><td>0.0000000</td><td>1</td><td>1</td></tr>\n",
              "\t<tr><th scope=row>25822</th><td>26747</td><td>2</td><td>2</td><td>33</td><td> 8</td><td>1</td><td>5</td><td>1</td><td>3</td><td>3</td><td>⋯</td><td>1</td><td>130.00000</td><td>0.00000000</td><td>0.00000000</td><td>0.00000000</td><td>0.00000000</td><td>0.3815385</td><td>1.1238462</td><td>1</td><td>2</td></tr>\n",
              "\t<tr><th scope=row>25823</th><td>26748</td><td>2</td><td>2</td><td>48</td><td> 7</td><td>1</td><td>5</td><td>1</td><td>3</td><td>3</td><td>⋯</td><td>1</td><td> 93.89004</td><td>0.00000000</td><td>0.00000000</td><td>0.00000000</td><td>0.00000000</td><td>0.0000000</td><td>0.0000000</td><td>1</td><td>1</td></tr>\n",
              "\t<tr><th scope=row>25824</th><td>26749</td><td>2</td><td>1</td><td>28</td><td> 2</td><td>1</td><td>5</td><td>1</td><td>2</td><td>3</td><td>⋯</td><td>1</td><td> 61.86667</td><td>0.00000000</td><td>0.00000000</td><td>0.00000000</td><td>0.00000000</td><td>0.3351293</td><td>1.1807651</td><td>1</td><td>2</td></tr>\n",
              "\t<tr><th scope=row>25825</th><td>26750</td><td>2</td><td>2</td><td>23</td><td>18</td><td>1</td><td>5</td><td>1</td><td>2</td><td>3</td><td>⋯</td><td>0</td><td> 71.42857</td><td>0.28571430</td><td>0.00000000</td><td>0.00000000</td><td>0.00000000</td><td>0.0000000</td><td>0.0000000</td><td>1</td><td>2</td></tr>\n",
              "\t<tr><th scope=row>25826</th><td>26751</td><td>2</td><td>1</td><td>38</td><td> 6</td><td>1</td><td>5</td><td>1</td><td>3</td><td>3</td><td>⋯</td><td>2</td><td> 20.55000</td><td>0.10000000</td><td>0.00000000</td><td>0.00000000</td><td>0.00000000</td><td>1.0000000</td><td>0.8886861</td><td>1</td><td>2</td></tr>\n",
              "\t<tr><th scope=row>25827</th><td>26752</td><td>2</td><td>1</td><td>28</td><td> 7</td><td>1</td><td>5</td><td>1</td><td>3</td><td>3</td><td>⋯</td><td>0</td><td> 92.00000</td><td>0.00000000</td><td>0.00000000</td><td>0.00000000</td><td>0.16666667</td><td>0.7572464</td><td>0.6616848</td><td>1</td><td>2</td></tr>\n",
              "\t<tr><th scope=row>25828</th><td>26753</td><td>2</td><td>1</td><td>23</td><td> 6</td><td>1</td><td>5</td><td>1</td><td>3</td><td>3</td><td>⋯</td><td>0</td><td>385.50000</td><td>0.00000000</td><td>0.00000000</td><td>0.00000000</td><td>0.00000000</td><td>0.0000000</td><td>0.0000000</td><td>1</td><td>2</td></tr>\n",
              "\t<tr><th scope=row>25829</th><td>26754</td><td>2</td><td>2</td><td>43</td><td>14</td><td>1</td><td>5</td><td>1</td><td>3</td><td>3</td><td>⋯</td><td>0</td><td> 37.64000</td><td>0.00000000</td><td>0.00000000</td><td>0.00000000</td><td>0.00000000</td><td>0.0000000</td><td>0.0000000</td><td>2</td><td>2</td></tr>\n",
              "\t<tr><th scope=row>25830</th><td>26755</td><td>2</td><td>2</td><td>33</td><td> 5</td><td>1</td><td>5</td><td>1</td><td>3</td><td>3</td><td>⋯</td><td>1</td><td> 93.89004</td><td>0.00000000</td><td>0.00000000</td><td>0.00000000</td><td>0.00000000</td><td>0.0000000</td><td>0.7692952</td><td>2</td><td>1</td></tr>\n",
              "\t<tr><th scope=row>25831</th><td>26756</td><td>2</td><td>1</td><td>23</td><td> 9</td><td>1</td><td>5</td><td>1</td><td>3</td><td>1</td><td>⋯</td><td>0</td><td>127.70000</td><td>0.00000000</td><td>0.00000000</td><td>0.00000000</td><td>0.00000000</td><td>0.1895067</td><td>0.5720439</td><td>1</td><td>2</td></tr>\n",
              "\t<tr><th scope=row>25832</th><td>26758</td><td>2</td><td>2</td><td>38</td><td>25</td><td>1</td><td>5</td><td>1</td><td>3</td><td>3</td><td>⋯</td><td>0</td><td> 42.26667</td><td>0.00000000</td><td>0.00000000</td><td>0.00000000</td><td>0.00000000</td><td>0.7570978</td><td>0.5761041</td><td>1</td><td>2</td></tr>\n",
              "\t<tr><th scope=row>25833</th><td>26759</td><td>2</td><td>1</td><td>33</td><td>15</td><td>1</td><td>5</td><td>1</td><td>3</td><td>3</td><td>⋯</td><td>1</td><td> 93.89004</td><td>0.00000000</td><td>0.00000000</td><td>0.00000000</td><td>0.00000000</td><td>0.7111383</td><td>0.8941248</td><td>1</td><td>2</td></tr>\n",
              "\t<tr><th scope=row>25834</th><td>26760</td><td>1</td><td>2</td><td>33</td><td>15</td><td>1</td><td>5</td><td>1</td><td>3</td><td>3</td><td>⋯</td><td>0</td><td> 58.10000</td><td>0.00000000</td><td>0.00000000</td><td>0.00000000</td><td>0.00000000</td><td>0.0000000</td><td>0.0000000</td><td>2</td><td>1</td></tr>\n",
              "\t<tr><th scope=row>25835</th><td>26761</td><td>2</td><td>2</td><td>28</td><td>12</td><td>1</td><td>5</td><td>1</td><td>2</td><td>3</td><td>⋯</td><td>2</td><td> 91.60000</td><td>0.10000000</td><td>0.00000000</td><td>0.00000000</td><td>0.00000000</td><td>0.1244541</td><td>0.3987445</td><td>1</td><td>2</td></tr>\n",
              "</tbody>\n",
              "</table>\n"
            ],
            "text/markdown": "\nA data.frame: 25835 × 50\n\n| <!--/--> | ID &lt;int&gt; | Gender &lt;int&gt; | Race &lt;int&gt; | Age_at_Release &lt;int&gt; | Residence_PUMA &lt;int&gt; | Gang_Affiliated &lt;int&gt; | Supervision_Risk_Score_First &lt;int&gt; | Supervision_Level_First &lt;int&gt; | Education_Level &lt;int&gt; | Dependents &lt;int&gt; | ⋯ ⋯ | Residence_Changes &lt;int&gt; | Avg_Days_per_DrugTest &lt;dbl&gt; | DrugTests_THC_Positive &lt;dbl&gt; | DrugTests_Cocaine_Positive &lt;dbl&gt; | DrugTests_Meth_Positive &lt;dbl&gt; | DrugTests_Other_Positive &lt;dbl&gt; | Percent_Days_Employed &lt;dbl&gt; | Jobs_Per_Year &lt;dbl&gt; | Employment_Exempt &lt;int&gt; | Recidivism_Within_3years &lt;int&gt; |\n|---|---|---|---|---|---|---|---|---|---|---|---|---|---|---|---|---|---|---|---|---|---|\n| 1 |  1 | 2 | 1 | 43 | 16 | 1 |  3 | 1 | 3 | 3 | ⋯ | 2 |  612.00000 | 0.0000000 | 0 | 0.00000000 | 0.000000000 | 0.4885621 | 0.4476103 | 1 | 1 |\n| 2 |  2 | 2 | 1 | 33 | 16 | 1 |  6 | 3 | 1 | 1 | ⋯ | 2 |   35.66667 | 0.0000000 | 0 | 0.00000000 | 0.000000000 | 0.4252336 | 2.0000000 | 1 | 2 |\n| 3 |  3 | 2 | 1 | 48 | 24 | 1 |  7 | 2 | 3 | 3 | ⋯ | 0 |   93.66667 | 0.3333333 | 0 | 0.16666667 | 0.000000000 | 0.0000000 | 0.0000000 | 1 | 2 |\n| 4 |  4 | 2 | 2 | 38 | 16 | 1 |  7 | 2 | 1 | 1 | ⋯ | 3 |   25.40000 | 0.0000000 | 0 | 0.00000000 | 0.000000000 | 1.0000000 | 0.7189961 | 1 | 1 |\n| 5 |  5 | 2 | 2 | 33 | 16 | 1 |  4 | 3 | 1 | 3 | ⋯ | 0 |   23.11765 | 0.0000000 | 0 | 0.05882353 | 0.000000000 | 0.2035623 | 0.9293893 | 1 | 2 |\n| 6 |  6 | 2 | 2 | 38 | 17 | 1 |  5 | 1 | 2 | 0 | ⋯ | 3 |  474.60000 | 0.0000000 | 0 | 0.00000000 | 0.000000000 | 0.6742520 | 0.3078382 | 1 | 1 |\n| 7 |  7 | 2 | 1 | 48 | 18 | 1 |  2 | 1 | 1 | 2 | ⋯ | 1 |  238.50000 | 0.0000000 | 0 | 0.00000000 | 0.000000000 | 0.0000000 | 0.0000000 | 1 | 2 |\n| 8 |  8 | 2 | 1 | 38 | 16 | 1 |  5 | 2 | 2 | 3 | ⋯ | 0 |   34.77500 | 0.0000000 | 0 | 0.00000000 | 0.000000000 | 0.4694464 | 0.5251618 | 1 | 1 |\n| 9 |  9 | 1 | 1 | 43 |  5 | 1 |  7 | 2 | 2 | 0 | ⋯ | 0 |   93.89004 | 0.0000000 | 0 | 0.00000000 | 0.000000000 | 0.0000000 | 0.0000000 | 2 | 2 |\n| 10 | 10 | 2 | 1 | 43 | 16 | 1 |  5 | 1 | 2 | 3 | ⋯ | 0 |   27.80000 | 0.0000000 | 0 | 0.00000000 | 0.000000000 | 0.3597122 | 1.0000000 | 1 | 2 |\n| 11 | 11 | 2 | 2 | 43 |  5 | 1 |  3 | 3 | 1 | 1 | ⋯ | 2 |   42.80000 | 0.3000000 | 0 | 0.30000001 | 0.000000000 | 1.0000000 | 3.4135514 | 2 | 2 |\n| 12 | 12 | 2 | 1 | 33 | 16 | 1 |  5 | 3 | 2 | 3 | ⋯ | 0 |    8.04000 | 0.0400000 | 0 | 0.08000000 | 0.000000000 | 0.0000000 | 0.0000000 | 2 | 2 |\n| 13 | 13 | 2 | 2 | 48 | 18 | 1 |  3 | 1 | 1 | 1 | ⋯ | 1 |   93.89004 | 0.0000000 | 0 | 0.01605505 | 0.002293578 | 0.0000000 | 0.7692952 | 1 | 1 |\n| 14 | 14 | 2 | 1 | 33 |  3 | 2 |  7 | 1 | 2 | 0 | ⋯ | 1 |   93.89004 | 0.0000000 | 0 | 0.00000000 | 0.000000000 | 1.0000000 | 1.0000000 | 1 | 2 |\n| 15 | 15 | 2 | 2 | 33 |  5 | 1 |  7 | 1 | 1 | 1 | ⋯ | 1 |   98.75000 | 0.0000000 | 0 | 0.00000000 | 0.000000000 | 0.0000000 | 0.0000000 | 2 | 1 |\n| 16 | 16 | 2 | 1 | 33 |  3 | 1 |  4 | 1 | 1 | 3 | ⋯ | 0 |   74.50000 | 0.0000000 | 0 | 0.00000000 | 0.000000000 | 0.3389262 | 0.6128356 | 1 | 1 |\n| 17 | 17 | 2 | 1 | 38 | 16 | 1 |  6 | 2 | 1 | 3 | ⋯ | 0 |  114.50000 | 0.0000000 | 0 | 0.00000000 | 0.000000000 | 0.5458515 | 2.0000000 | 1 | 2 |\n| 18 | 18 | 2 | 2 | 43 | 24 | 1 |  1 | 1 | 2 | 3 | ⋯ | 2 |   93.89004 | 0.0000000 | 0 | 0.00000000 | 0.000000000 | 0.4521385 | 0.7438900 | 1 | 2 |\n| 19 | 19 | 2 | 1 | 48 | 12 | 1 |  7 | 2 | 3 | 3 | ⋯ | 2 |   43.66667 | 0.0000000 | 0 | 0.00000000 | 0.000000000 | 0.9185751 | 0.4646947 | 1 | 1 |\n| 20 | 20 | 2 | 2 | 48 | 16 | 1 |  3 | 1 | 1 | 0 | ⋯ | 1 |  228.00000 | 0.0000000 | 0 | 0.00000000 | 0.000000000 | 0.7947368 | 0.3203947 | 1 | 2 |\n| 21 | 21 | 2 | 1 | 38 |  5 | 1 |  3 | 1 | 2 | 3 | ⋯ | 0 |   93.89004 | 0.0000000 | 0 | 0.00000000 | 0.000000000 | 1.0000000 | 2.0000000 | 1 | 1 |\n| 22 | 22 | 2 | 1 | 33 | 16 | 1 |  5 | 1 | 1 | 3 | ⋯ | 0 |   22.85000 | 0.0500000 | 0 | 0.00000000 | 0.000000000 | 1.0000000 | 3.1969365 | 1 | 1 |\n| 23 | 23 | 1 | 2 | 48 |  5 | 1 |  4 | 1 | 2 | 0 | ⋯ | 0 |   15.50000 | 0.0000000 | 0 | 0.05555556 | 0.000000000 | 0.0000000 | 0.0000000 | 1 | 1 |\n| 24 | 24 | 1 | 2 | 43 | 16 | 1 |  5 | 1 | 1 | 0 | ⋯ | 1 |   93.89004 | 0.0000000 | 0 | 0.00000000 | 0.000000000 | 0.9913793 | 1.0000000 | 1 | 1 |\n| 25 | 25 | 2 | 1 | 38 | 18 | 1 |  5 | 1 | 1 | 3 | ⋯ | 1 |  196.00000 | 0.0000000 | 0 | 0.00000000 | 0.000000000 | 0.1964286 | 0.9317602 | 1 | 2 |\n| 26 | 26 | 2 | 2 | 48 | 17 | 1 |  2 | 1 | 1 | 1 | ⋯ | 1 |   93.89004 | 0.0000000 | 0 | 0.00000000 | 0.000000000 | 1.0000000 | 2.0000000 | 1 | 2 |\n| 27 | 27 | 2 | 2 | 48 | 14 | 1 |  2 | 3 | 1 | 0 | ⋯ | 0 |   31.00000 | 0.0000000 | 0 | 0.00000000 | 0.000000000 | 0.8064516 | 1.0000000 | 1 | 1 |\n| 28 | 28 | 2 | 2 | 48 | 23 | 1 |  3 | 1 | 1 | 0 | ⋯ | 1 |   43.14286 | 0.0000000 | 0 | 0.00000000 | 0.000000000 | 0.0000000 | 0.0000000 | 1 | 2 |\n| 29 | 29 | 2 | 1 | 43 |  6 | 1 |  6 | 2 | 2 | 0 | ⋯ | 3 |  357.40000 | 0.0000000 | 0 | 0.00000000 | 0.000000000 | 0.8953553 | 0.2043928 | 2 | 1 |\n| 30 | 30 | 2 | 1 | 18 |  2 | 1 | 10 | 3 | 1 | 0 | ⋯ | 3 | 1087.00000 | 1.0000000 | 0 | 0.00000000 | 0.000000000 | 0.0000000 | 0.0000000 | 1 | 2 |\n| ⋮ | ⋮ | ⋮ | ⋮ | ⋮ | ⋮ | ⋮ | ⋮ | ⋮ | ⋮ | ⋮ | ⋱ | ⋮ | ⋮ | ⋮ | ⋮ | ⋮ | ⋮ | ⋮ | ⋮ | ⋮ | ⋮ |\n| 25806 | 26731 | 2 | 2 | 43 |  7 | 1 | 3 | 1 | 2 | 2 | ⋯ | 1 |  93.89004 | 0.00000000 | 0.00000000 | 0.00000000 | 0.00000000 | 1.0000000 | 0.9317602 | 1 | 1 |\n| 25807 | 26732 | 2 | 1 | 38 |  5 | 1 | 5 | 1 | 2 | 0 | ⋯ | 1 |  93.89004 | 0.00000000 | 0.00000000 | 0.00000000 | 0.00000000 | 0.0000000 | 0.7692952 | 1 | 1 |\n| 25808 | 26733 | 2 | 2 | 23 | 17 | 1 | 5 | 1 | 2 | 0 | ⋯ | 1 |  10.29167 | 0.16666667 | 0.00000000 | 0.08333334 | 0.08333334 | 0.0000000 | 0.0000000 | 1 | 2 |\n| 25809 | 26734 | 2 | 1 | 28 | 12 | 1 | 4 | 1 | 2 | 3 | ⋯ | 0 |  25.86667 | 0.20000000 | 0.00000000 | 0.00000000 | 0.00000000 | 0.5747423 | 0.9413660 | 1 | 1 |\n| 25810 | 26735 | 2 | 1 | 23 | 19 | 1 | 7 | 2 | 3 | 3 | ⋯ | 1 |  84.45455 | 0.18181819 | 0.00000000 | 0.00000000 | 0.00000000 | 0.0000000 | 0.0000000 | 1 | 1 |\n| 25811 | 26736 | 2 | 2 | 38 | 12 | 2 | 5 | 1 | 3 | 0 | ⋯ | 1 |  53.85714 | 0.00000000 | 0.00000000 | 0.00000000 | 0.00000000 | 0.0000000 | 0.0000000 | 1 | 2 |\n| 25812 | 26737 | 2 | 1 | 28 |  8 | 1 | 5 | 1 | 3 | 3 | ⋯ | 1 |  37.31818 | 0.09090909 | 0.00000000 | 0.00000000 | 0.00000000 | 1.0000000 | 1.3346529 | 1 | 1 |\n| 25813 | 26738 | 2 | 1 | 33 | 11 | 1 | 5 | 3 | 2 | 0 | ⋯ | 1 |  63.80000 | 0.20000000 | 0.10000000 | 0.00000000 | 0.10000000 | 0.0000000 | 0.0000000 | 1 | 2 |\n| 25814 | 26739 | 2 | 2 | 43 |  2 | 1 | 5 | 1 | 3 | 3 | ⋯ | 2 | 118.50000 | 0.00000000 | 0.00000000 | 0.00000000 | 0.00000000 | 0.7392405 | 0.6164557 | 1 | 1 |\n| 25815 | 26740 | 2 | 2 | 48 | 12 | 1 | 5 | 1 | 3 | 3 | ⋯ | 0 |  69.95000 | 0.10000000 | 0.00000000 | 0.00000000 | 0.00000000 | 0.0000000 | 0.0000000 | 1 | 2 |\n| 25816 | 26741 | 2 | 2 | 28 |  3 | 1 | 5 | 1 | 3 | 3 | ⋯ | 3 |  22.50000 | 0.16666667 | 0.00000000 | 0.33333334 | 0.00000000 | 0.1851852 | 1.0000000 | 1 | 2 |\n| 25817 | 26742 | 2 | 2 | 23 |  9 | 1 | 5 | 1 | 3 | 3 | ⋯ | 0 |  93.89004 | 0.00000000 | 0.00000000 | 0.00000000 | 0.00000000 | 0.1051805 | 0.5733909 | 1 | 2 |\n| 25818 | 26743 | 2 | 2 | 43 |  8 | 1 | 3 | 1 | 3 | 3 | ⋯ | 0 |  93.89004 | 0.00000000 | 0.00000000 | 0.00000000 | 0.00000000 | 0.1815182 | 2.0000000 | 1 | 2 |\n| 25819 | 26744 | 2 | 1 | 48 | 21 | 1 | 7 | 1 | 1 | 0 | ⋯ | 0 |  17.42222 | 0.00000000 | 0.08888889 | 0.00000000 | 0.00000000 | 0.9923469 | 0.4658801 | 1 | 1 |\n| 25820 | 26745 | 2 | 2 | 48 | 24 | 1 | 5 | 1 | 3 | 3 | ⋯ | 0 |  93.89004 | 0.00000000 | 0.00000000 | 0.00000000 | 0.00000000 | 0.0000000 | 0.0000000 | 2 | 1 |\n| 25821 | 26746 | 2 | 1 | 43 |  6 | 1 | 5 | 1 | 3 | 3 | ⋯ | 0 |  20.12195 | 0.17073171 | 0.04878049 | 0.00000000 | 0.00000000 | 0.0000000 | 0.0000000 | 1 | 1 |\n| 25822 | 26747 | 2 | 2 | 33 |  8 | 1 | 5 | 1 | 3 | 3 | ⋯ | 1 | 130.00000 | 0.00000000 | 0.00000000 | 0.00000000 | 0.00000000 | 0.3815385 | 1.1238462 | 1 | 2 |\n| 25823 | 26748 | 2 | 2 | 48 |  7 | 1 | 5 | 1 | 3 | 3 | ⋯ | 1 |  93.89004 | 0.00000000 | 0.00000000 | 0.00000000 | 0.00000000 | 0.0000000 | 0.0000000 | 1 | 1 |\n| 25824 | 26749 | 2 | 1 | 28 |  2 | 1 | 5 | 1 | 2 | 3 | ⋯ | 1 |  61.86667 | 0.00000000 | 0.00000000 | 0.00000000 | 0.00000000 | 0.3351293 | 1.1807651 | 1 | 2 |\n| 25825 | 26750 | 2 | 2 | 23 | 18 | 1 | 5 | 1 | 2 | 3 | ⋯ | 0 |  71.42857 | 0.28571430 | 0.00000000 | 0.00000000 | 0.00000000 | 0.0000000 | 0.0000000 | 1 | 2 |\n| 25826 | 26751 | 2 | 1 | 38 |  6 | 1 | 5 | 1 | 3 | 3 | ⋯ | 2 |  20.55000 | 0.10000000 | 0.00000000 | 0.00000000 | 0.00000000 | 1.0000000 | 0.8886861 | 1 | 2 |\n| 25827 | 26752 | 2 | 1 | 28 |  7 | 1 | 5 | 1 | 3 | 3 | ⋯ | 0 |  92.00000 | 0.00000000 | 0.00000000 | 0.00000000 | 0.16666667 | 0.7572464 | 0.6616848 | 1 | 2 |\n| 25828 | 26753 | 2 | 1 | 23 |  6 | 1 | 5 | 1 | 3 | 3 | ⋯ | 0 | 385.50000 | 0.00000000 | 0.00000000 | 0.00000000 | 0.00000000 | 0.0000000 | 0.0000000 | 1 | 2 |\n| 25829 | 26754 | 2 | 2 | 43 | 14 | 1 | 5 | 1 | 3 | 3 | ⋯ | 0 |  37.64000 | 0.00000000 | 0.00000000 | 0.00000000 | 0.00000000 | 0.0000000 | 0.0000000 | 2 | 2 |\n| 25830 | 26755 | 2 | 2 | 33 |  5 | 1 | 5 | 1 | 3 | 3 | ⋯ | 1 |  93.89004 | 0.00000000 | 0.00000000 | 0.00000000 | 0.00000000 | 0.0000000 | 0.7692952 | 2 | 1 |\n| 25831 | 26756 | 2 | 1 | 23 |  9 | 1 | 5 | 1 | 3 | 1 | ⋯ | 0 | 127.70000 | 0.00000000 | 0.00000000 | 0.00000000 | 0.00000000 | 0.1895067 | 0.5720439 | 1 | 2 |\n| 25832 | 26758 | 2 | 2 | 38 | 25 | 1 | 5 | 1 | 3 | 3 | ⋯ | 0 |  42.26667 | 0.00000000 | 0.00000000 | 0.00000000 | 0.00000000 | 0.7570978 | 0.5761041 | 1 | 2 |\n| 25833 | 26759 | 2 | 1 | 33 | 15 | 1 | 5 | 1 | 3 | 3 | ⋯ | 1 |  93.89004 | 0.00000000 | 0.00000000 | 0.00000000 | 0.00000000 | 0.7111383 | 0.8941248 | 1 | 2 |\n| 25834 | 26760 | 1 | 2 | 33 | 15 | 1 | 5 | 1 | 3 | 3 | ⋯ | 0 |  58.10000 | 0.00000000 | 0.00000000 | 0.00000000 | 0.00000000 | 0.0000000 | 0.0000000 | 2 | 1 |\n| 25835 | 26761 | 2 | 2 | 28 | 12 | 1 | 5 | 1 | 2 | 3 | ⋯ | 2 |  91.60000 | 0.10000000 | 0.00000000 | 0.00000000 | 0.00000000 | 0.1244541 | 0.3987445 | 1 | 2 |\n\n",
            "text/latex": "A data.frame: 25835 × 50\n\\begin{tabular}{r|lllllllllllllllllllll}\n  & ID & Gender & Race & Age\\_at\\_Release & Residence\\_PUMA & Gang\\_Affiliated & Supervision\\_Risk\\_Score\\_First & Supervision\\_Level\\_First & Education\\_Level & Dependents & ⋯ & Residence\\_Changes & Avg\\_Days\\_per\\_DrugTest & DrugTests\\_THC\\_Positive & DrugTests\\_Cocaine\\_Positive & DrugTests\\_Meth\\_Positive & DrugTests\\_Other\\_Positive & Percent\\_Days\\_Employed & Jobs\\_Per\\_Year & Employment\\_Exempt & Recidivism\\_Within\\_3years\\\\\n  & <int> & <int> & <int> & <int> & <int> & <int> & <int> & <int> & <int> & <int> & ⋯ & <int> & <dbl> & <dbl> & <dbl> & <dbl> & <dbl> & <dbl> & <dbl> & <int> & <int>\\\\\n\\hline\n\t1 &  1 & 2 & 1 & 43 & 16 & 1 &  3 & 1 & 3 & 3 & ⋯ & 2 &  612.00000 & 0.0000000 & 0 & 0.00000000 & 0.000000000 & 0.4885621 & 0.4476103 & 1 & 1\\\\\n\t2 &  2 & 2 & 1 & 33 & 16 & 1 &  6 & 3 & 1 & 1 & ⋯ & 2 &   35.66667 & 0.0000000 & 0 & 0.00000000 & 0.000000000 & 0.4252336 & 2.0000000 & 1 & 2\\\\\n\t3 &  3 & 2 & 1 & 48 & 24 & 1 &  7 & 2 & 3 & 3 & ⋯ & 0 &   93.66667 & 0.3333333 & 0 & 0.16666667 & 0.000000000 & 0.0000000 & 0.0000000 & 1 & 2\\\\\n\t4 &  4 & 2 & 2 & 38 & 16 & 1 &  7 & 2 & 1 & 1 & ⋯ & 3 &   25.40000 & 0.0000000 & 0 & 0.00000000 & 0.000000000 & 1.0000000 & 0.7189961 & 1 & 1\\\\\n\t5 &  5 & 2 & 2 & 33 & 16 & 1 &  4 & 3 & 1 & 3 & ⋯ & 0 &   23.11765 & 0.0000000 & 0 & 0.05882353 & 0.000000000 & 0.2035623 & 0.9293893 & 1 & 2\\\\\n\t6 &  6 & 2 & 2 & 38 & 17 & 1 &  5 & 1 & 2 & 0 & ⋯ & 3 &  474.60000 & 0.0000000 & 0 & 0.00000000 & 0.000000000 & 0.6742520 & 0.3078382 & 1 & 1\\\\\n\t7 &  7 & 2 & 1 & 48 & 18 & 1 &  2 & 1 & 1 & 2 & ⋯ & 1 &  238.50000 & 0.0000000 & 0 & 0.00000000 & 0.000000000 & 0.0000000 & 0.0000000 & 1 & 2\\\\\n\t8 &  8 & 2 & 1 & 38 & 16 & 1 &  5 & 2 & 2 & 3 & ⋯ & 0 &   34.77500 & 0.0000000 & 0 & 0.00000000 & 0.000000000 & 0.4694464 & 0.5251618 & 1 & 1\\\\\n\t9 &  9 & 1 & 1 & 43 &  5 & 1 &  7 & 2 & 2 & 0 & ⋯ & 0 &   93.89004 & 0.0000000 & 0 & 0.00000000 & 0.000000000 & 0.0000000 & 0.0000000 & 2 & 2\\\\\n\t10 & 10 & 2 & 1 & 43 & 16 & 1 &  5 & 1 & 2 & 3 & ⋯ & 0 &   27.80000 & 0.0000000 & 0 & 0.00000000 & 0.000000000 & 0.3597122 & 1.0000000 & 1 & 2\\\\\n\t11 & 11 & 2 & 2 & 43 &  5 & 1 &  3 & 3 & 1 & 1 & ⋯ & 2 &   42.80000 & 0.3000000 & 0 & 0.30000001 & 0.000000000 & 1.0000000 & 3.4135514 & 2 & 2\\\\\n\t12 & 12 & 2 & 1 & 33 & 16 & 1 &  5 & 3 & 2 & 3 & ⋯ & 0 &    8.04000 & 0.0400000 & 0 & 0.08000000 & 0.000000000 & 0.0000000 & 0.0000000 & 2 & 2\\\\\n\t13 & 13 & 2 & 2 & 48 & 18 & 1 &  3 & 1 & 1 & 1 & ⋯ & 1 &   93.89004 & 0.0000000 & 0 & 0.01605505 & 0.002293578 & 0.0000000 & 0.7692952 & 1 & 1\\\\\n\t14 & 14 & 2 & 1 & 33 &  3 & 2 &  7 & 1 & 2 & 0 & ⋯ & 1 &   93.89004 & 0.0000000 & 0 & 0.00000000 & 0.000000000 & 1.0000000 & 1.0000000 & 1 & 2\\\\\n\t15 & 15 & 2 & 2 & 33 &  5 & 1 &  7 & 1 & 1 & 1 & ⋯ & 1 &   98.75000 & 0.0000000 & 0 & 0.00000000 & 0.000000000 & 0.0000000 & 0.0000000 & 2 & 1\\\\\n\t16 & 16 & 2 & 1 & 33 &  3 & 1 &  4 & 1 & 1 & 3 & ⋯ & 0 &   74.50000 & 0.0000000 & 0 & 0.00000000 & 0.000000000 & 0.3389262 & 0.6128356 & 1 & 1\\\\\n\t17 & 17 & 2 & 1 & 38 & 16 & 1 &  6 & 2 & 1 & 3 & ⋯ & 0 &  114.50000 & 0.0000000 & 0 & 0.00000000 & 0.000000000 & 0.5458515 & 2.0000000 & 1 & 2\\\\\n\t18 & 18 & 2 & 2 & 43 & 24 & 1 &  1 & 1 & 2 & 3 & ⋯ & 2 &   93.89004 & 0.0000000 & 0 & 0.00000000 & 0.000000000 & 0.4521385 & 0.7438900 & 1 & 2\\\\\n\t19 & 19 & 2 & 1 & 48 & 12 & 1 &  7 & 2 & 3 & 3 & ⋯ & 2 &   43.66667 & 0.0000000 & 0 & 0.00000000 & 0.000000000 & 0.9185751 & 0.4646947 & 1 & 1\\\\\n\t20 & 20 & 2 & 2 & 48 & 16 & 1 &  3 & 1 & 1 & 0 & ⋯ & 1 &  228.00000 & 0.0000000 & 0 & 0.00000000 & 0.000000000 & 0.7947368 & 0.3203947 & 1 & 2\\\\\n\t21 & 21 & 2 & 1 & 38 &  5 & 1 &  3 & 1 & 2 & 3 & ⋯ & 0 &   93.89004 & 0.0000000 & 0 & 0.00000000 & 0.000000000 & 1.0000000 & 2.0000000 & 1 & 1\\\\\n\t22 & 22 & 2 & 1 & 33 & 16 & 1 &  5 & 1 & 1 & 3 & ⋯ & 0 &   22.85000 & 0.0500000 & 0 & 0.00000000 & 0.000000000 & 1.0000000 & 3.1969365 & 1 & 1\\\\\n\t23 & 23 & 1 & 2 & 48 &  5 & 1 &  4 & 1 & 2 & 0 & ⋯ & 0 &   15.50000 & 0.0000000 & 0 & 0.05555556 & 0.000000000 & 0.0000000 & 0.0000000 & 1 & 1\\\\\n\t24 & 24 & 1 & 2 & 43 & 16 & 1 &  5 & 1 & 1 & 0 & ⋯ & 1 &   93.89004 & 0.0000000 & 0 & 0.00000000 & 0.000000000 & 0.9913793 & 1.0000000 & 1 & 1\\\\\n\t25 & 25 & 2 & 1 & 38 & 18 & 1 &  5 & 1 & 1 & 3 & ⋯ & 1 &  196.00000 & 0.0000000 & 0 & 0.00000000 & 0.000000000 & 0.1964286 & 0.9317602 & 1 & 2\\\\\n\t26 & 26 & 2 & 2 & 48 & 17 & 1 &  2 & 1 & 1 & 1 & ⋯ & 1 &   93.89004 & 0.0000000 & 0 & 0.00000000 & 0.000000000 & 1.0000000 & 2.0000000 & 1 & 2\\\\\n\t27 & 27 & 2 & 2 & 48 & 14 & 1 &  2 & 3 & 1 & 0 & ⋯ & 0 &   31.00000 & 0.0000000 & 0 & 0.00000000 & 0.000000000 & 0.8064516 & 1.0000000 & 1 & 1\\\\\n\t28 & 28 & 2 & 2 & 48 & 23 & 1 &  3 & 1 & 1 & 0 & ⋯ & 1 &   43.14286 & 0.0000000 & 0 & 0.00000000 & 0.000000000 & 0.0000000 & 0.0000000 & 1 & 2\\\\\n\t29 & 29 & 2 & 1 & 43 &  6 & 1 &  6 & 2 & 2 & 0 & ⋯ & 3 &  357.40000 & 0.0000000 & 0 & 0.00000000 & 0.000000000 & 0.8953553 & 0.2043928 & 2 & 1\\\\\n\t30 & 30 & 2 & 1 & 18 &  2 & 1 & 10 & 3 & 1 & 0 & ⋯ & 3 & 1087.00000 & 1.0000000 & 0 & 0.00000000 & 0.000000000 & 0.0000000 & 0.0000000 & 1 & 2\\\\\n\t⋮ & ⋮ & ⋮ & ⋮ & ⋮ & ⋮ & ⋮ & ⋮ & ⋮ & ⋮ & ⋮ & ⋱ & ⋮ & ⋮ & ⋮ & ⋮ & ⋮ & ⋮ & ⋮ & ⋮ & ⋮ & ⋮\\\\\n\t25806 & 26731 & 2 & 2 & 43 &  7 & 1 & 3 & 1 & 2 & 2 & ⋯ & 1 &  93.89004 & 0.00000000 & 0.00000000 & 0.00000000 & 0.00000000 & 1.0000000 & 0.9317602 & 1 & 1\\\\\n\t25807 & 26732 & 2 & 1 & 38 &  5 & 1 & 5 & 1 & 2 & 0 & ⋯ & 1 &  93.89004 & 0.00000000 & 0.00000000 & 0.00000000 & 0.00000000 & 0.0000000 & 0.7692952 & 1 & 1\\\\\n\t25808 & 26733 & 2 & 2 & 23 & 17 & 1 & 5 & 1 & 2 & 0 & ⋯ & 1 &  10.29167 & 0.16666667 & 0.00000000 & 0.08333334 & 0.08333334 & 0.0000000 & 0.0000000 & 1 & 2\\\\\n\t25809 & 26734 & 2 & 1 & 28 & 12 & 1 & 4 & 1 & 2 & 3 & ⋯ & 0 &  25.86667 & 0.20000000 & 0.00000000 & 0.00000000 & 0.00000000 & 0.5747423 & 0.9413660 & 1 & 1\\\\\n\t25810 & 26735 & 2 & 1 & 23 & 19 & 1 & 7 & 2 & 3 & 3 & ⋯ & 1 &  84.45455 & 0.18181819 & 0.00000000 & 0.00000000 & 0.00000000 & 0.0000000 & 0.0000000 & 1 & 1\\\\\n\t25811 & 26736 & 2 & 2 & 38 & 12 & 2 & 5 & 1 & 3 & 0 & ⋯ & 1 &  53.85714 & 0.00000000 & 0.00000000 & 0.00000000 & 0.00000000 & 0.0000000 & 0.0000000 & 1 & 2\\\\\n\t25812 & 26737 & 2 & 1 & 28 &  8 & 1 & 5 & 1 & 3 & 3 & ⋯ & 1 &  37.31818 & 0.09090909 & 0.00000000 & 0.00000000 & 0.00000000 & 1.0000000 & 1.3346529 & 1 & 1\\\\\n\t25813 & 26738 & 2 & 1 & 33 & 11 & 1 & 5 & 3 & 2 & 0 & ⋯ & 1 &  63.80000 & 0.20000000 & 0.10000000 & 0.00000000 & 0.10000000 & 0.0000000 & 0.0000000 & 1 & 2\\\\\n\t25814 & 26739 & 2 & 2 & 43 &  2 & 1 & 5 & 1 & 3 & 3 & ⋯ & 2 & 118.50000 & 0.00000000 & 0.00000000 & 0.00000000 & 0.00000000 & 0.7392405 & 0.6164557 & 1 & 1\\\\\n\t25815 & 26740 & 2 & 2 & 48 & 12 & 1 & 5 & 1 & 3 & 3 & ⋯ & 0 &  69.95000 & 0.10000000 & 0.00000000 & 0.00000000 & 0.00000000 & 0.0000000 & 0.0000000 & 1 & 2\\\\\n\t25816 & 26741 & 2 & 2 & 28 &  3 & 1 & 5 & 1 & 3 & 3 & ⋯ & 3 &  22.50000 & 0.16666667 & 0.00000000 & 0.33333334 & 0.00000000 & 0.1851852 & 1.0000000 & 1 & 2\\\\\n\t25817 & 26742 & 2 & 2 & 23 &  9 & 1 & 5 & 1 & 3 & 3 & ⋯ & 0 &  93.89004 & 0.00000000 & 0.00000000 & 0.00000000 & 0.00000000 & 0.1051805 & 0.5733909 & 1 & 2\\\\\n\t25818 & 26743 & 2 & 2 & 43 &  8 & 1 & 3 & 1 & 3 & 3 & ⋯ & 0 &  93.89004 & 0.00000000 & 0.00000000 & 0.00000000 & 0.00000000 & 0.1815182 & 2.0000000 & 1 & 2\\\\\n\t25819 & 26744 & 2 & 1 & 48 & 21 & 1 & 7 & 1 & 1 & 0 & ⋯ & 0 &  17.42222 & 0.00000000 & 0.08888889 & 0.00000000 & 0.00000000 & 0.9923469 & 0.4658801 & 1 & 1\\\\\n\t25820 & 26745 & 2 & 2 & 48 & 24 & 1 & 5 & 1 & 3 & 3 & ⋯ & 0 &  93.89004 & 0.00000000 & 0.00000000 & 0.00000000 & 0.00000000 & 0.0000000 & 0.0000000 & 2 & 1\\\\\n\t25821 & 26746 & 2 & 1 & 43 &  6 & 1 & 5 & 1 & 3 & 3 & ⋯ & 0 &  20.12195 & 0.17073171 & 0.04878049 & 0.00000000 & 0.00000000 & 0.0000000 & 0.0000000 & 1 & 1\\\\\n\t25822 & 26747 & 2 & 2 & 33 &  8 & 1 & 5 & 1 & 3 & 3 & ⋯ & 1 & 130.00000 & 0.00000000 & 0.00000000 & 0.00000000 & 0.00000000 & 0.3815385 & 1.1238462 & 1 & 2\\\\\n\t25823 & 26748 & 2 & 2 & 48 &  7 & 1 & 5 & 1 & 3 & 3 & ⋯ & 1 &  93.89004 & 0.00000000 & 0.00000000 & 0.00000000 & 0.00000000 & 0.0000000 & 0.0000000 & 1 & 1\\\\\n\t25824 & 26749 & 2 & 1 & 28 &  2 & 1 & 5 & 1 & 2 & 3 & ⋯ & 1 &  61.86667 & 0.00000000 & 0.00000000 & 0.00000000 & 0.00000000 & 0.3351293 & 1.1807651 & 1 & 2\\\\\n\t25825 & 26750 & 2 & 2 & 23 & 18 & 1 & 5 & 1 & 2 & 3 & ⋯ & 0 &  71.42857 & 0.28571430 & 0.00000000 & 0.00000000 & 0.00000000 & 0.0000000 & 0.0000000 & 1 & 2\\\\\n\t25826 & 26751 & 2 & 1 & 38 &  6 & 1 & 5 & 1 & 3 & 3 & ⋯ & 2 &  20.55000 & 0.10000000 & 0.00000000 & 0.00000000 & 0.00000000 & 1.0000000 & 0.8886861 & 1 & 2\\\\\n\t25827 & 26752 & 2 & 1 & 28 &  7 & 1 & 5 & 1 & 3 & 3 & ⋯ & 0 &  92.00000 & 0.00000000 & 0.00000000 & 0.00000000 & 0.16666667 & 0.7572464 & 0.6616848 & 1 & 2\\\\\n\t25828 & 26753 & 2 & 1 & 23 &  6 & 1 & 5 & 1 & 3 & 3 & ⋯ & 0 & 385.50000 & 0.00000000 & 0.00000000 & 0.00000000 & 0.00000000 & 0.0000000 & 0.0000000 & 1 & 2\\\\\n\t25829 & 26754 & 2 & 2 & 43 & 14 & 1 & 5 & 1 & 3 & 3 & ⋯ & 0 &  37.64000 & 0.00000000 & 0.00000000 & 0.00000000 & 0.00000000 & 0.0000000 & 0.0000000 & 2 & 2\\\\\n\t25830 & 26755 & 2 & 2 & 33 &  5 & 1 & 5 & 1 & 3 & 3 & ⋯ & 1 &  93.89004 & 0.00000000 & 0.00000000 & 0.00000000 & 0.00000000 & 0.0000000 & 0.7692952 & 2 & 1\\\\\n\t25831 & 26756 & 2 & 1 & 23 &  9 & 1 & 5 & 1 & 3 & 1 & ⋯ & 0 & 127.70000 & 0.00000000 & 0.00000000 & 0.00000000 & 0.00000000 & 0.1895067 & 0.5720439 & 1 & 2\\\\\n\t25832 & 26758 & 2 & 2 & 38 & 25 & 1 & 5 & 1 & 3 & 3 & ⋯ & 0 &  42.26667 & 0.00000000 & 0.00000000 & 0.00000000 & 0.00000000 & 0.7570978 & 0.5761041 & 1 & 2\\\\\n\t25833 & 26759 & 2 & 1 & 33 & 15 & 1 & 5 & 1 & 3 & 3 & ⋯ & 1 &  93.89004 & 0.00000000 & 0.00000000 & 0.00000000 & 0.00000000 & 0.7111383 & 0.8941248 & 1 & 2\\\\\n\t25834 & 26760 & 1 & 2 & 33 & 15 & 1 & 5 & 1 & 3 & 3 & ⋯ & 0 &  58.10000 & 0.00000000 & 0.00000000 & 0.00000000 & 0.00000000 & 0.0000000 & 0.0000000 & 2 & 1\\\\\n\t25835 & 26761 & 2 & 2 & 28 & 12 & 1 & 5 & 1 & 2 & 3 & ⋯ & 2 &  91.60000 & 0.10000000 & 0.00000000 & 0.00000000 & 0.00000000 & 0.1244541 & 0.3987445 & 1 & 2\\\\\n\\end{tabular}\n"
          },
          "metadata": {}
        }
      ]
    },
    {
      "cell_type": "code",
      "source": [
        "cor.test(NIJ$Gender, NIJ$Race, method='spearman', use='complete.obs', exact=FALSE)"
      ],
      "metadata": {
        "id": "VTXXVH2EEX8M",
        "colab": {
          "base_uri": "https://localhost:8080/",
          "height": 173
        },
        "outputId": "b9a5db6f-41a3-4920-b603-a0b09f787d80"
      },
      "execution_count": 17,
      "outputs": [
        {
          "output_type": "display_data",
          "data": {
            "text/plain": [
              "\n",
              "\tSpearman's rank correlation rho\n",
              "\n",
              "data:  NIJ$Gender and NIJ$Race\n",
              "S = 3.3803e+12, p-value < 2.2e-16\n",
              "alternative hypothesis: true rho is not equal to 0\n",
              "sample estimates:\n",
              "       rho \n",
              "-0.1761865 \n"
            ]
          },
          "metadata": {}
        }
      ]
    },
    {
      "cell_type": "markdown",
      "source": [
        "Is there a difference in recidivism by race?"
      ],
      "metadata": {
        "id": "wty0D6eIQMct"
      }
    },
    {
      "cell_type": "code",
      "source": [
        "ggplot(NIJ_orig, aes(as_factor(Recidivism_Within_3years))) +\n",
        "  geom_bar(aes(y=after_stat(prop), group=1), colour='black', fill='lightblue') +\n",
        "  labs(title='Percentage of people who reoffend by Race', x='Recidivist?', y='Percent') +\n",
        "  geom_text(aes(label = scales::percent(after_stat(prop)), y=after_stat(prop),group=1), stat='count', vjust=2, size=7) +\n",
        "  scale_y_continuous(labels=scales::percent) +\n",
        "  facet_grid(~as_factor(Race)) +\n",
        "  theme_grey() +\n",
        "  theme(plot.title = element_text(hjust = 0.5, size = 20)) +\n",
        "  theme(axis.text.x=element_text(angle=0,hjust=0.5,vjust=0, size=15)) +\n",
        "  theme(axis.text.y=element_text(angle=0,hjust=0.5,vjust=0, size=15))"
      ],
      "metadata": {
        "id": "iiuUp3ZJhQey",
        "outputId": "9686470c-ee3a-4ef3-b76e-f663d9337c0d",
        "colab": {
          "base_uri": "https://localhost:8080/",
          "height": 437
        }
      },
      "execution_count": 18,
      "outputs": [
        {
          "output_type": "display_data",
          "data": {
            "text/plain": [
              "plot without title"
            ],
            "image/png": "[encoded data removed]"
          },
          "metadata": {
            "image/png": {
              "width": 420,
              "height": 420
            }
          }
        }
      ]
    },
    {
      "cell_type": "code",
      "source": [
        "ggplot(NIJ_orig, aes(fill=Recidivism_Within_3years, x=Race)) +\n",
        "  geom_bar(position = \"fill\", width=0.8) +\n",
        "  labs(title='Percentage of people who reoffend by Race', x='Recidivist?', y='Percent') +\n",
        "  geom_text(\n",
        "    aes(label = after_stat(\n",
        "      scales::percent(\n",
        "        ave(count, x, FUN = function(x) x / sum(x))\n",
        "      )\n",
        "    )),\n",
        "    stat = \"count\", position = \"fill\"\n",
        "  , vjust=2, hjust=0.5, size = 8) +\n",
        "  guides(fill = guide_legend(title = \"Recidivist\")) +\n",
        "  scale_fill_manual(values = c('seagreen3', 'hotpink3')) +\n",
        "  theme_grey()"
      ],
      "metadata": {
        "id": "zxyAf7KkQage",
        "outputId": "06d82184-7e75-4022-a003-83110d3fa4f5",
        "colab": {
          "base_uri": "https://localhost:8080/",
          "height": 437
        }
      },
      "execution_count": 19,
      "outputs": [
        {
          "output_type": "display_data",
          "data": {
            "text/plain": [
              "plot without title"
            ],
            "image/png": "[encoded data removed]"
          },
          "metadata": {
            "image/png": {
              "width": 420,
              "height": 420
            }
          }
        }
      ]
    },
    {
      "cell_type": "code",
      "source": [
        "RaceAge <- NIJ_orig\n",
        "RaceAge$Age_at_Release <- NIJ$Age_at_Release\n",
        "ggplot(RaceAge, aes(x=Race, y=Age_at_Release, fill=Race)) +\n",
        "  labs(title='Age by race', x='Race', y='Age') +\n",
        "  geom_boxplot()"
      ],
      "metadata": {
        "id": "d2BHY_3PJ7Ke",
        "outputId": "e51cc8b2-1a8e-49b7-80ba-5195bd223799",
        "colab": {
          "base_uri": "https://localhost:8080/",
          "height": 437
        }
      },
      "execution_count": 36,
      "outputs": [
        {
          "output_type": "display_data",
          "data": {
            "text/plain": [
              "plot without title"
            ],
            "image/png": "[encoded data removed]"
          },
          "metadata": {
            "image/png": {
              "width": 420,
              "height": 420
            }
          }
        }
      ]
    },
    {
      "cell_type": "code",
      "source": [
        "table(as_factor(NIJ_orig$Recidivism_Within_3years), as_factor(NIJ_orig$Race))\n",
        "chisq.test(table(NIJ_orig$Recidivism_Within_3years, NIJ_orig$Race))"
      ],
      "metadata": {
        "id": "H5dSAtyyQNCU"
      },
      "execution_count": null,
      "outputs": []
    },
    {
      "cell_type": "markdown",
      "source": [
        "Is there a difference in recidivism by gender?"
      ],
      "metadata": {
        "id": "0d6NSxxHRB00"
      }
    },
    {
      "cell_type": "code",
      "source": [
        "ggplot(NIJ_orig, aes(as_factor(Recidivism_Within_3years))) +\n",
        "  geom_bar(aes(y=after_stat(prop), group=1), colour='black', fill='lightblue') +\n",
        "  labs(title='Percentage of people who reoffend by Gender', x='Recidivist?', y='Percent') +\n",
        "  geom_text(aes(label = scales::percent(after_stat(prop)), y=after_stat(prop),group=1), stat='count', vjust=2, size=7) +\n",
        "  scale_y_continuous(labels=scales::percent) +\n",
        "  facet_grid(~as_factor(Gender)) +\n",
        "  theme_grey() +\n",
        "  theme(plot.title = element_text(hjust = 0.5, size = 20)) +\n",
        "  theme(axis.text.x=element_text(angle=0,hjust=0.5,vjust=0, size=15)) +\n",
        "  theme(axis.text.y=element_text(angle=0,hjust=0.5,vjust=0, size=15))"
      ],
      "metadata": {
        "id": "KntBwEbddWbl"
      },
      "execution_count": null,
      "outputs": []
    },
    {
      "cell_type": "code",
      "source": [
        "ggplot(NIJ_orig, aes(fill=Recidivism_Within_3years, x=Gender)) +\n",
        "  geom_bar(position = \"fill\", width=0.8) +\n",
        "  geom_text(\n",
        "    aes(label = after_stat(\n",
        "      scales::percent(\n",
        "        ave(count, x, FUN = function(x) x / sum(x))\n",
        "      )\n",
        "    )),\n",
        "    stat = \"count\", position = \"fill\"\n",
        "  , vjust=2, hjust=0.5, size = 8) +\n",
        "   guides(fill = guide_legend(title = \"Recidivist\")) +\n",
        "   scale_fill_manual(values = c('seagreen3', 'hotpink3')) +\n",
        "  theme_grey()"
      ],
      "metadata": {
        "id": "Md_DJt0zPxlJ"
      },
      "execution_count": null,
      "outputs": []
    },
    {
      "cell_type": "code",
      "source": [
        "table(as_factor(NIJ_orig$Recidivism_Within_3years), as_factor(NIJ_orig$Gender))\n",
        "chisq.test(table(NIJ_orig$Recidivism_Within_3years, NIJ_orig$Gender))"
      ],
      "metadata": {
        "id": "JTj6Gt9bdWb9"
      },
      "execution_count": null,
      "outputs": []
    },
    {
      "cell_type": "markdown",
      "source": [
        "Is there a difference in recidivism by Age?"
      ],
      "metadata": {
        "id": "GntfsZdqw9KM"
      }
    },
    {
      "cell_type": "code",
      "source": [
        "ggplot(NIJ_orig,aes(as_factor(Recidivism_Within_3years))) +\n",
        "  geom_bar(aes(y=after_stat(prop), group=1), colour='black', fill='lightblue') +\n",
        "  labs(title='Percentage of people who reoffend by Age', x='Recidivist?', y='Percent') +\n",
        "  geom_text(aes(label = scales::percent(accuracy = 0.1, after_stat(prop)), y=after_stat(prop),group=1), stat='count', vjust=0.5, , hjust=1.1, size=7, angle=90) +\n",
        "  scale_y_continuous(labels=scales::percent) +\n",
        "  facet_grid(~sort(as.character(as_factor(Age_at_Release)))) +\n",
        "  theme_grey() +\n",
        "  theme(plot.title = element_text(hjust = 0.5, size = 20)) +\n",
        "  theme(axis.text.x=element_text(angle=90,hjust=0.5,vjust=0, size=15)) +\n",
        "  theme(axis.text.y=element_text(angle=0,hjust=0.5,vjust=0, size=15))"
      ],
      "metadata": {
        "id": "3XEyfOEX7DSV"
      },
      "execution_count": null,
      "outputs": []
    },
    {
      "cell_type": "code",
      "source": [
        "ggplot(NIJ_orig, aes(fill=Recidivism_Within_3years, x=factor(Age_at_Release))) +\n",
        "  geom_bar(position='stack', stat='count', width=0.8) +\n",
        "  theme_grey()"
      ],
      "metadata": {
        "id": "29pofdDCAj6Q"
      },
      "execution_count": null,
      "outputs": []
    },
    {
      "cell_type": "code",
      "source": [
        "ggplot(NIJ_orig, aes(fill=Recidivism_Within_3years, x=Age_at_Release)) +\n",
        "  geom_bar(position='stack', stat='count', width=0.8) +\n",
        "  geom_text(aes(label = after_stat(count)), stat = \"count\", position = \"stack\", vjust=2, size = 5) +\n",
        "   guides(fill = guide_legend(title = \"Recidivist\")) +\n",
        "   scale_fill_manual(values = c('seagreen3', 'hotpink3')) +  theme_grey()"
      ],
      "metadata": {
        "id": "2IGftMmvLUg4"
      },
      "execution_count": null,
      "outputs": []
    },
    {
      "cell_type": "code",
      "source": [
        "ggplot(NIJ_orig, aes(fill=Recidivism_Within_3years, x=Age_at_Release)) +\n",
        "  geom_bar(position = \"fill\", width=0.8) +\n",
        "  geom_text(\n",
        "    aes(label = after_stat(\n",
        "      scales::percent(\n",
        "        ave(count, x, FUN = function(x) x / sum(x))\n",
        "      )\n",
        "    )),\n",
        "    stat = \"count\", position = \"fill\"\n",
        "  , vjust=0.3, hjust=1.3, angle=90, size = 6) +\n",
        "   guides(fill = guide_legend(title = \"Recidivist\")) +\n",
        "   scale_fill_manual(values = c('seagreen3', 'hotpink3')) +  theme_grey()"
      ],
      "metadata": {
        "id": "0sy8cjsHN-3u"
      },
      "execution_count": null,
      "outputs": []
    },
    {
      "cell_type": "code",
      "source": [
        "ggplot(NIJ_orig, aes(x=factor(Age_at_Release))) +\n",
        "  geom_bar(stat='count', width=0.7, fill='lightblue') +\n",
        "  theme_minimal()"
      ],
      "metadata": {
        "id": "UD1s2BWCJ1pS"
      },
      "execution_count": null,
      "outputs": []
    },
    {
      "cell_type": "code",
      "source": [
        "ggplot(data=NIJ_orig, aes(x=Age_at_Release, y=Recidivism_Within_3years, fill=Recidivism_Within_3years)) +\n",
        "  geom_bar(stat='identity') +\n",
        "\n",
        "  scale_fill_brewer(palette=\"Paired\")+\n",
        "  theme_grey()"
      ],
      "metadata": {
        "id": "XPx6fyJzGCOv"
      },
      "execution_count": null,
      "outputs": []
    },
    {
      "cell_type": "code",
      "source": [
        "#filter(NIJ_orig, (Gender == 'Male')) %>%\n",
        "ggplot(NIJ_orig,aes(as_factor(Recidivism_Within_3years))) +\n",
        "  geom_bar(aes(y=count(Age_at_Release), group=1), colour='black', fill='lightblue') +\n",
        "  labs(title='Percentage of people who reoffend by Age', x='Recidivist?', y='Count') +\n",
        "  geom_text(aes(label = 's', y=after_stat(count),group=1), stat='count', vjust=0.5, , hjust=1.1, size=7, angle=90) +\n",
        "  scale_y_continuous() +\n",
        "  facet_grid(~sort(as.character(as_factor(Age_at_Release)))) +\n",
        "  theme_grey() +\n",
        "  theme(plot.title = element_text(hjust = 0.5, size = 20)) +\n",
        "  theme(axis.text.x=element_text(angle=90,hjust=0.5,vjust=0, size=15)) +\n",
        "  theme(axis.text.y=element_text(angle=0,hjust=0.5,vjust=0, size=15))"
      ],
      "metadata": {
        "id": "62DmP_C-w9Kl"
      },
      "execution_count": null,
      "outputs": []
    },
    {
      "cell_type": "code",
      "source": [
        "table(as_factor(NIJ_orig$Recidivism_Within_3years), as_factor(NIJ_orig$Age_at_Release))\n",
        "chisq.test(table(NIJ_orig$Recidivism_Within_3years, NIJ_orig$Age_at_Release))"
      ],
      "metadata": {
        "id": "dWXNThIDw9Km"
      },
      "execution_count": null,
      "outputs": []
    },
    {
      "cell_type": "markdown",
      "source": [
        "Separate the dataset into Male and Female for comparrison"
      ],
      "metadata": {
        "id": "U32eHA5BDvHj"
      }
    },
    {
      "cell_type": "code",
      "source": [
        "Male <- subset(NIJ, Gender == 2)\n",
        "Female <- subset(NIJ, Gender == 1)"
      ],
      "metadata": {
        "id": "BO31gcVPD2OA"
      },
      "execution_count": null,
      "outputs": []
    },
    {
      "cell_type": "code",
      "source": [
        "wilcox.test(Age_at_Release ~ Race, data=Male)\n"
      ],
      "metadata": {
        "id": "1skOFIHmProF"
      },
      "execution_count": null,
      "outputs": []
    },
    {
      "cell_type": "code",
      "source": [
        "cor.test(Male$Prior_Arrest_Episodes_PPViolationCharges, Male$Race, method='spearman', use='complete.obs')"
      ],
      "metadata": {
        "id": "EFtSuvB77iMK"
      },
      "execution_count": null,
      "outputs": []
    },
    {
      "cell_type": "code",
      "source": [
        "cor.test(Male$Percent_Days_Employed, Male$Avg_Days_per_DrugTest)\n"
      ],
      "metadata": {
        "id": "FJWFgDsk_ppc"
      },
      "execution_count": null,
      "outputs": []
    },
    {
      "cell_type": "code",
      "source": [
        "cor.test(Male$Age_at_Release, Male$Race, method='spearman', use='complete.obs', exact=FALSE)"
      ],
      "metadata": {
        "id": "cxXXtz8sHL38"
      },
      "execution_count": null,
      "outputs": []
    },
    {
      "cell_type": "code",
      "source": [
        "cor.test(Male$Age_at_Release, Male$Gang_Affiliated, method='spearman', use='complete.obs', exact=FALSE)"
      ],
      "metadata": {
        "id": "pe-WBkfqMfjz"
      },
      "execution_count": null,
      "outputs": []
    },
    {
      "cell_type": "markdown",
      "source": [],
      "metadata": {
        "id": "fTgFTeWm6soO"
      }
    },
    {
      "cell_type": "markdown",
      "source": [
        "Is there a statisitically significant difference in felony prior arest episodes betweeen black males and white males?"
      ],
      "metadata": {
        "id": "TSQ1AIt01wm0"
      }
    },
    {
      "cell_type": "code",
      "source": [
        "ks.test(Male$Race, 'pnorm')"
      ],
      "metadata": {
        "id": "qfPiMMjlF9eE"
      },
      "execution_count": null,
      "outputs": []
    },
    {
      "cell_type": "code",
      "source": [
        "ks.test(Male$Prior_Arrest_Episodes_Felony, 'pnorm')"
      ],
      "metadata": {
        "id": "v8T-w_m-GUsi"
      },
      "execution_count": null,
      "outputs": []
    },
    {
      "cell_type": "code",
      "source": [
        "hist(Male$Prior_Arrest_Episodes_Felony,\n",
        "  breaks=100,\n",
        "  col='steelblue',\n",
        "  main='title xxxx',\n",
        "  xlab = 'label xxxx')"
      ],
      "metadata": {
        "id": "xKCvIHppGHgf"
      },
      "execution_count": null,
      "outputs": []
    },
    {
      "cell_type": "code",
      "source": [
        "qqnorm(Male$Prior_Arrest_Episodes_Felony,\n",
        "  col='steelblue',\n",
        "  main='Ttle xxx',)\n",
        "qqline(Male$Prior_Arrest_Episodes_Felony)"
      ],
      "metadata": {
        "id": "UdL5_ojZGL7o"
      },
      "execution_count": null,
      "outputs": []
    },
    {
      "cell_type": "markdown",
      "source": [
        "Not normal distribution so use Spearman's rank"
      ],
      "metadata": {
        "id": "aeWfJkUaG593"
      }
    },
    {
      "cell_type": "code",
      "source": [
        "cor.test(Male$Prior_Arrest_Episodes_Felony, Male$Race, method='spearman', use='complete.obs', exact=FALSE)"
      ],
      "metadata": {
        "id": "g7Sxj7KPDoir"
      },
      "execution_count": null,
      "outputs": []
    },
    {
      "cell_type": "markdown",
      "source": [
        "Is there a statisitically significant difference in property prior arest episodes betweeen black males and white males?"
      ],
      "metadata": {
        "id": "AIiIzLvn1w-T"
      }
    },
    {
      "cell_type": "code",
      "source": [
        "ks.test(Male$Prior_Arrest_Episodes_Property, 'pnorm')"
      ],
      "metadata": {
        "id": "eXvSxInQGiVk"
      },
      "execution_count": null,
      "outputs": []
    },
    {
      "cell_type": "code",
      "source": [
        "hist(Male$Prior_Arrest_Episodes_Property,\n",
        "  breaks=100,\n",
        "  col='steelblue',\n",
        "  main='title xxxx',\n",
        "  xlab = 'label xxxx')"
      ],
      "metadata": {
        "id": "TgbXZ_BsGidd"
      },
      "execution_count": null,
      "outputs": []
    },
    {
      "cell_type": "code",
      "source": [
        "qqnorm(Male$Prior_Arrest_Episodes_Property,\n",
        "  col='steelblue',\n",
        "  main='Ttle xxx',)\n",
        "qqline(Male$Prior_Arrest_Episodes_Property)"
      ],
      "metadata": {
        "id": "4QJX3TBpGihY"
      },
      "execution_count": null,
      "outputs": []
    },
    {
      "cell_type": "markdown",
      "source": [
        "Not normal distribution so use Spearman's rank"
      ],
      "metadata": {
        "id": "1mkgO9UJHJ0e"
      }
    },
    {
      "cell_type": "code",
      "source": [
        "cor.test(Male$Prior_Arrest_Episodes_Property, Male$Race, method='spearman', use='complete.obs', exact=FALSE)"
      ],
      "metadata": {
        "id": "fK_XcsRzGikv"
      },
      "execution_count": null,
      "outputs": []
    },
    {
      "cell_type": "markdown",
      "source": [
        "Is there a statisitically significant difference in supervision risk score betweeen black males and white males?"
      ],
      "metadata": {
        "id": "OiSzJP1H2N3U"
      }
    },
    {
      "cell_type": "code",
      "source": [
        "ks.test(Male$Supervision_Risk_Score_First, 'pnorm')"
      ],
      "metadata": {
        "id": "ztjcbFTmHUGb"
      },
      "execution_count": null,
      "outputs": []
    },
    {
      "cell_type": "code",
      "source": [
        "hist(Male$Supervision_Risk_Score_First,\n",
        "  breaks=100,\n",
        "  col='steelblue',\n",
        "  main='title xxxx',\n",
        "  xlab = 'label xxxx')"
      ],
      "metadata": {
        "id": "NCWXzIMkHUGc"
      },
      "execution_count": null,
      "outputs": []
    },
    {
      "cell_type": "code",
      "source": [
        "qqnorm(Male$Supervision_Risk_Score_First,\n",
        "  col='steelblue',\n",
        "  main='Ttle xxx',)\n",
        "qqline(Male$Supervision_Risk_Score_First)"
      ],
      "metadata": {
        "id": "TD1mD0S1HUGc"
      },
      "execution_count": null,
      "outputs": []
    },
    {
      "cell_type": "markdown",
      "source": [
        "Not normal distribution so use Spearman's rank"
      ],
      "metadata": {
        "id": "k9nMfEnxHUGd"
      }
    },
    {
      "cell_type": "code",
      "source": [
        "cor.test(Male$Supervision_Risk_Score_First, Male$Race, method='spearman', use='complete.obs', exact=FALSE)"
      ],
      "metadata": {
        "id": "3uTS9gLSHUGd"
      },
      "execution_count": null,
      "outputs": []
    },
    {
      "cell_type": "markdown",
      "source": [
        "Is there a statisitically significant difference in misdemeanour prior arrest episodes betweeen black males and white males?"
      ],
      "metadata": {
        "id": "S8OBrWAl2PKb"
      }
    },
    {
      "cell_type": "markdown",
      "source": [
        "Is there a statisitically significant difference in misdemeanour prior conviction episodes betweeen black males and white males?"
      ],
      "metadata": {
        "id": "IY2TvVkS2Pa7"
      }
    },
    {
      "cell_type": "markdown",
      "source": [
        "Is there a statisitically significant difference in property prior conviction episodes betweeen black males and white males?"
      ],
      "metadata": {
        "id": "2SpbGcu42Pp0"
      }
    },
    {
      "cell_type": "markdown",
      "source": [
        "Is there a statisitically significant difference in percentage of days employed betweeen black males and white males?\n"
      ],
      "metadata": {
        "id": "Cmm0Avdb0p1W"
      }
    },
    {
      "cell_type": "markdown",
      "source": [
        "Is there a statisitically significant difference in age betweeen black males and white males?"
      ],
      "metadata": {
        "id": "NQotC-LG2QAD"
      }
    },
    {
      "cell_type": "code",
      "source": [
        "ks.test(Male$Age_at_Release, 'pnorm')"
      ],
      "metadata": {
        "id": "EqDWCTNoJC6k"
      },
      "execution_count": null,
      "outputs": []
    },
    {
      "cell_type": "code",
      "source": [
        "hist(Male$Age_at_Release,\n",
        "  breaks=100,\n",
        "  col='steelblue',\n",
        "  main='title xxxx',\n",
        "  xlab = 'label xxxx')"
      ],
      "metadata": {
        "id": "JSFBLpkPJC6t"
      },
      "execution_count": null,
      "outputs": []
    },
    {
      "cell_type": "code",
      "source": [
        "qqnorm(Male$Age_at_Release,\n",
        "  col='steelblue',\n",
        "  main='Ttle xxx',)\n",
        "qqline(Male$Age_at_Release)"
      ],
      "metadata": {
        "id": "iEm4amTIJC6u"
      },
      "execution_count": null,
      "outputs": []
    },
    {
      "cell_type": "markdown",
      "source": [
        "Not normal distribution so use Spearman's rank"
      ],
      "metadata": {
        "id": "ZechWDHjJC6u"
      }
    },
    {
      "cell_type": "code",
      "source": [
        "cor.test(Male$Age_at_Release, Male$Race, method='spearman', use='complete.obs', exact=FALSE)"
      ],
      "metadata": {
        "id": "kApzetNfJC6u"
      },
      "execution_count": null,
      "outputs": []
    },
    {
      "cell_type": "markdown",
      "source": [],
      "metadata": {
        "id": "HkGyEpfIJDwH"
      }
    },
    {
      "cell_type": "markdown",
      "source": [],
      "metadata": {
        "id": "P38dxQ1bJD7Q"
      }
    },
    {
      "cell_type": "markdown",
      "source": [
        "Is there a statisitically significant difference in positive Meth drug tests betweeen black males and white males?"
      ],
      "metadata": {
        "id": "fNnXEsum37pD"
      }
    },
    {
      "cell_type": "code",
      "source": [
        "cor.test(Male$DrugTests_Meth_Positive, Male$Race, method='spearman', use='complete.obs', exact=FALSE)"
      ],
      "metadata": {
        "id": "NhnffhJFNcSR"
      },
      "execution_count": null,
      "outputs": []
    },
    {
      "cell_type": "markdown",
      "source": [
        "Is there a statisitically significant difference in residence areas betweeen black males and white males?"
      ],
      "metadata": {
        "id": "St-Z-r8X38pk"
      }
    },
    {
      "cell_type": "code",
      "source": [
        "cor.test(Male$Residence_PUMA, Male$Race, method='spearman', use='complete.obs', exact=FALSE)"
      ],
      "metadata": {
        "id": "U6wVsVoMNc8Q"
      },
      "execution_count": null,
      "outputs": []
    },
    {
      "cell_type": "markdown",
      "source": [
        "Is there a statisitically significant difference in positive THC drug tests betweeen black men and white men?"
      ],
      "metadata": {
        "id": "fvk8qAwm0qe7"
      }
    },
    {
      "cell_type": "code",
      "source": [
        "cor.test(Male$DrugTests_THC_Positive, Male$Race, method='spearman', use='complete.obs', exact=FALSE)"
      ],
      "metadata": {
        "id": "2uDNXKdMNdiY"
      },
      "execution_count": null,
      "outputs": []
    },
    {
      "cell_type": "markdown",
      "source": [
        "Is there a statisitically significant difference in positive cocaine drug tests betweeen black males and white males?"
      ],
      "metadata": {
        "id": "uIUhpFj835Gk"
      }
    },
    {
      "cell_type": "code",
      "source": [
        "cor.test(Male$DrugTests_Cocaine_Positive, Male$Race, method='spearman', use='complete.obs', exact=FALSE)"
      ],
      "metadata": {
        "id": "DHYtzwDeN7ZF"
      },
      "execution_count": null,
      "outputs": []
    },
    {
      "cell_type": "markdown",
      "source": [
        "Is there a statisitically significant difference in violent non-sexual offences betweeen black males and white males?"
      ],
      "metadata": {
        "id": "5XFYN-Z54TTk"
      }
    },
    {
      "cell_type": "markdown",
      "source": [
        "Is there a statisitically significant difference in violence prior arrest episodes betweeen black males and white males?"
      ],
      "metadata": {
        "id": "Q2GFn1YW6Zis"
      }
    },
    {
      "cell_type": "markdown",
      "source": [
        "Is there a statisitically significant difference in mental health or substance abuse conditions betweeen black men and white men?"
      ],
      "metadata": {
        "id": "6Qrd4cbt4Toz"
      }
    },
    {
      "cell_type": "markdown",
      "source": [
        "Is there a statisitically significant difference in percentage of days employed betweeen black males and white males?"
      ],
      "metadata": {
        "id": "D-cViFMZ4T5L"
      }
    },
    {
      "cell_type": "markdown",
      "source": [
        "Is there a statisitically significant difference in jobs per year betweeen black males and white males?"
      ],
      "metadata": {
        "id": "Z-bbTA-X4UIr"
      }
    },
    {
      "cell_type": "markdown",
      "source": [
        "Is there a statisitically significant difference in gang affiliation betweeen black males and white males?"
      ],
      "metadata": {
        "id": "9msxv1JZ0cpd"
      }
    },
    {
      "cell_type": "markdown",
      "source": [],
      "metadata": {
        "id": "ng2n1kRT38wM"
      }
    },
    {
      "cell_type": "markdown",
      "source": [
        "Is there a statisitically significant difference in violence prior arrest episodes betweeen black females and white females?"
      ],
      "metadata": {
        "id": "32M0-Bnh3800"
      }
    },
    {
      "cell_type": "code",
      "source": [
        "cor.test(Female$Prior_Arrest_Episodes_Violent, Female$Race, method='spearman', use='complete.obs', exact=FALSE)"
      ],
      "metadata": {
        "id": "udsU4kKqOHC3"
      },
      "execution_count": null,
      "outputs": []
    },
    {
      "cell_type": "markdown",
      "source": [],
      "metadata": {
        "id": "uG67bjA7383Q"
      }
    },
    {
      "cell_type": "markdown",
      "source": [],
      "metadata": {
        "id": "puGLCLjl3859"
      }
    },
    {
      "cell_type": "markdown",
      "source": [],
      "metadata": {
        "id": "Vye65Uih0qvb"
      }
    },
    {
      "cell_type": "code",
      "source": [
        "ks.test(NIJ$Race, 'pnorm')"
      ],
      "metadata": {
        "id": "FeDEc914-DHL"
      },
      "execution_count": null,
      "outputs": []
    },
    {
      "cell_type": "code",
      "source": [
        "hist(NIJ$Age_at_Release,\n",
        "  breaks=100,\n",
        "  col='steelblue',\n",
        "  main='title xxxx',\n",
        "  xlab = 'label xxxx')"
      ],
      "metadata": {
        "id": "IbJw89JYgcZz"
      },
      "execution_count": null,
      "outputs": []
    },
    {
      "cell_type": "code",
      "source": [
        "qqnorm(NIJ$Age_at_Release,\n",
        "  col='steelblue',\n",
        "  main='Ttle xxx',)\n",
        "qqline(NIJ$Age_at_Release)"
      ],
      "metadata": {
        "id": "ZFX4bpQUg1Qy"
      },
      "execution_count": null,
      "outputs": []
    }
  ]
}